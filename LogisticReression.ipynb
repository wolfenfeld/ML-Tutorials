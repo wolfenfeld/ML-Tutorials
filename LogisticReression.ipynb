{
 "cells": [
  {
   "cell_type": "code",
   "execution_count": 3,
   "metadata": {
    "collapsed": true
   },
   "outputs": [],
   "source": [
    "import numpy as np\n",
    "import pandas as pd\n",
    "import scipy as sp\n",
    "from scipy.special import expit, logit"
   ]
  },
  {
   "cell_type": "code",
   "execution_count": 4,
   "metadata": {
    "collapsed": true,
    "scrolled": true
   },
   "outputs": [],
   "source": [
    "data_set = pd.read_csv('data/logistic_regression_data.csv')\n",
    "X = data_set[['grade1','grade2']].values\n",
    "y = data_set['label'].values.reshape(-1, 1)\n",
    "alpha=0.1\n",
    "number_of_itterations=2000\n",
    "np.random.seed(42)\n",
    "theta = np.random.randn(X.shape[1],1)\n"
   ]
  },
  {
   "cell_type": "code",
   "execution_count": 5,
   "metadata": {
    "scrolled": true
   },
   "outputs": [
    {
     "data": {
      "text/plain": [
       "(100, 2)"
      ]
     },
     "execution_count": 5,
     "metadata": {},
     "output_type": "execute_result"
    }
   ],
   "source": [
    "X.shape"
   ]
  },
  {
   "cell_type": "code",
   "execution_count": 6,
   "metadata": {},
   "outputs": [
    {
     "data": {
      "text/plain": [
       "(100, 1)"
      ]
     },
     "execution_count": 6,
     "metadata": {},
     "output_type": "execute_result"
    }
   ],
   "source": [
    "y.shape"
   ]
  },
  {
   "cell_type": "code",
   "execution_count": 7,
   "metadata": {},
   "outputs": [
    {
     "data": {
      "text/plain": [
       "(2, 1)"
      ]
     },
     "execution_count": 7,
     "metadata": {},
     "output_type": "execute_result"
    }
   ],
   "source": [
    "theta.shape"
   ]
  },
  {
   "cell_type": "code",
   "execution_count": 8,
   "metadata": {
    "collapsed": true
   },
   "outputs": [],
   "source": [
    "def hypothesis(X, theta):\n",
    "    return expit(np.matmul(X,theta))"
   ]
  },
  {
   "cell_type": "code",
   "execution_count": 9,
   "metadata": {
    "scrolled": false
   },
   "outputs": [
    {
     "data": {
      "text/plain": [
       "0.012605560555504415"
      ]
     },
     "execution_count": 9,
     "metadata": {},
     "output_type": "execute_result"
    }
   ],
   "source": [
    "np.abs(np.matmul(X,theta)).min()"
   ]
  },
  {
   "cell_type": "code",
   "execution_count": 10,
   "metadata": {
    "scrolled": true
   },
   "outputs": [
    {
     "data": {
      "text/plain": [
       "(100, 1)"
      ]
     },
     "execution_count": 10,
     "metadata": {},
     "output_type": "execute_result"
    }
   ],
   "source": [
    "hypothesis(X, theta).shape"
   ]
  },
  {
   "cell_type": "code",
   "execution_count": 11,
   "metadata": {
    "collapsed": true
   },
   "outputs": [],
   "source": [
    "def loss_function(target, predicted):\n",
    "    \n",
    "    assert target.shape == predicted.shape\n",
    "    return np.matmul(target.T,np.log(predicted))+np.matmul((1-target).T,np.log(1-predicted))\n",
    "\n"
   ]
  },
  {
   "cell_type": "code",
   "execution_count": 12,
   "metadata": {
    "scrolled": false
   },
   "outputs": [
    {
     "data": {
      "text/plain": [
       "(1, 1)"
      ]
     },
     "execution_count": 12,
     "metadata": {},
     "output_type": "execute_result"
    }
   ],
   "source": [
    "loss_function(y, hypothesis(X,theta)).shape"
   ]
  },
  {
   "cell_type": "code",
   "execution_count": 13,
   "metadata": {
    "collapsed": true
   },
   "outputs": [],
   "source": [
    "def cost_function(X,y,theta):\n",
    "    return -1/len(y)*loss_function(y,hypothesis(X,theta))"
   ]
  },
  {
   "cell_type": "code",
   "execution_count": 14,
   "metadata": {},
   "outputs": [
    {
     "data": {
      "text/plain": [
       "(1, 1)"
      ]
     },
     "execution_count": 14,
     "metadata": {},
     "output_type": "execute_result"
    }
   ],
   "source": [
    "cost_function(X,y,theta).shape"
   ]
  },
  {
   "cell_type": "code",
   "execution_count": 15,
   "metadata": {
    "collapsed": true
   },
   "outputs": [],
   "source": [
    "def derivative(X,y,theta):\n",
    "    return np.matmul(X.T,hypothesis(X,theta) - y)/len(y)"
   ]
  },
  {
   "cell_type": "code",
   "execution_count": 16,
   "metadata": {
    "scrolled": true
   },
   "outputs": [
    {
     "data": {
      "text/plain": [
       "(2, 1)"
      ]
     },
     "execution_count": 16,
     "metadata": {},
     "output_type": "execute_result"
    }
   ],
   "source": [
    "derivative(X,y,theta).shape"
   ]
  },
  {
   "cell_type": "code",
   "execution_count": 17,
   "metadata": {
    "collapsed": true
   },
   "outputs": [],
   "source": [
    "def gradient_step(X,y,theta,alpha):\n",
    "    return theta - alpha*derivative(X,y,theta)"
   ]
  },
  {
   "cell_type": "code",
   "execution_count": 18,
   "metadata": {},
   "outputs": [
    {
     "data": {
      "text/plain": [
       "(2, 1)"
      ]
     },
     "execution_count": 18,
     "metadata": {},
     "output_type": "execute_result"
    }
   ],
   "source": [
    "gradient_step(X,y,theta,alpha).shape"
   ]
  },
  {
   "cell_type": "code",
   "execution_count": 19,
   "metadata": {
    "collapsed": true
   },
   "outputs": [],
   "source": [
    "def gradient_descent(X,y,theta,alpha,num_iters):\n",
    "    for i in range(num_iters):\n",
    "        theta = gradient_step(X,y,theta,alpha)\n",
    "        if i % 50 == 0:\n",
    "            print(i)\n",
    "            print(cost_function(X,y,theta))\n",
    "        "
   ]
  },
  {
   "cell_type": "code",
   "execution_count": 20,
   "metadata": {
    "scrolled": true
   },
   "outputs": [
    {
     "name": "stdout",
     "output_type": "stream",
     "text": [
      "0\n",
      "[[ 0.64056007]]\n",
      "50\n",
      "[[ 0.5078724]]\n",
      "100\n",
      "[[ 0.43683815]]\n",
      "150\n",
      "[[ 0.39415281]]\n",
      "200\n",
      "[[ 0.36603352]]\n",
      "250\n",
      "[[ 0.34621479]]\n",
      "300\n",
      "[[ 0.33153161]]\n",
      "350\n",
      "[[ 0.32023537]]\n",
      "400\n",
      "[[ 0.31128749]]\n",
      "450\n",
      "[[ 0.30403395]]\n",
      "500\n",
      "[[ 0.29804289]]\n",
      "550\n",
      "[[ 0.29301773]]\n",
      "600\n",
      "[[ 0.28874804]]\n",
      "650\n",
      "[[ 0.28508034]]\n",
      "700\n",
      "[[ 0.28190003]]\n",
      "750\n",
      "[[ 0.27911978]]\n",
      "800\n",
      "[[ 0.27667188]]\n",
      "850\n",
      "[[ 0.27450298]]\n",
      "900\n",
      "[[ 0.2725705]]\n",
      "950\n",
      "[[ 0.27084004]]\n",
      "1000\n",
      "[[ 0.26928349]]\n",
      "1050\n",
      "[[ 0.26787766]]\n",
      "1100\n",
      "[[ 0.26660325]]\n",
      "1150\n",
      "[[ 0.26544407]]\n",
      "1200\n",
      "[[ 0.26438645]]\n",
      "1250\n",
      "[[ 0.26341873]]\n",
      "1300\n",
      "[[ 0.26253096]]\n",
      "1350\n",
      "[[ 0.26171456]]\n",
      "1400\n",
      "[[ 0.26096209]]\n",
      "1450\n",
      "[[ 0.26026712]]\n",
      "1500\n",
      "[[ 0.25962398]]\n",
      "1550\n",
      "[[ 0.25902774]]\n",
      "1600\n",
      "[[ 0.25847402]]\n",
      "1650\n",
      "[[ 0.25795898]]\n",
      "1700\n",
      "[[ 0.2574792]]\n",
      "1750\n",
      "[[ 0.25703163]]\n",
      "1800\n",
      "[[ 0.25661355]]\n",
      "1850\n",
      "[[ 0.25622252]]\n",
      "1900\n",
      "[[ 0.25585637]]\n",
      "1950\n",
      "[[ 0.25551312]]\n"
     ]
    }
   ],
   "source": [
    "gradient_descent(X,y,theta,0.1,number_of_itterations)"
   ]
  },
  {
   "cell_type": "code",
   "execution_count": null,
   "metadata": {
    "collapsed": true
   },
   "outputs": [],
   "source": []
  }
 ],
 "metadata": {
  "kernelspec": {
   "display_name": "Python 3",
   "language": "python",
   "name": "python3"
  },
  "language_info": {
   "codemirror_mode": {
    "name": "ipython",
    "version": 3
   },
   "file_extension": ".py",
   "mimetype": "text/x-python",
   "name": "python",
   "nbconvert_exporter": "python",
   "pygments_lexer": "ipython3",
   "version": "3.6.3"
  }
 },
 "nbformat": 4,
 "nbformat_minor": 2
}
