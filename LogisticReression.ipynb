{
 "cells": [
  {
   "cell_type": "code",
   "execution_count": 121,
   "metadata": {
    "collapsed": true
   },
   "outputs": [],
   "source": [
    "import numpy as np\n",
    "import pandas as pd\n",
    "import scipy as sp\n",
    "from scipy.special import expit, logit"
   ]
  },
  {
   "cell_type": "code",
   "execution_count": 128,
   "metadata": {
    "scrolled": true
   },
   "outputs": [],
   "source": [
    "data_set = pd.read_csv('data/logistic_regression_data.csv')\n",
    "X = data_set[['grade1','grade2']].values\n",
    "y = data_set['label'].values.reshape(-1, 1)\n",
    "alpha=0.1\n",
    "number_of_itterations=2000\n",
    "np.random.seed(42)\n",
    "theta = np.random.randn(X.shape[1],1)\n"
   ]
  },
  {
   "cell_type": "code",
   "execution_count": 133,
   "metadata": {
    "scrolled": true
   },
   "outputs": [
    {
     "data": {
      "text/plain": [
       "(100, 2)"
      ]
     },
     "execution_count": 133,
     "metadata": {},
     "output_type": "execute_result"
    }
   ],
   "source": [
    "X.shape"
   ]
  },
  {
   "cell_type": "code",
   "execution_count": 134,
   "metadata": {},
   "outputs": [
    {
     "data": {
      "text/plain": [
       "(100, 1)"
      ]
     },
     "execution_count": 134,
     "metadata": {},
     "output_type": "execute_result"
    }
   ],
   "source": [
    "y.shape"
   ]
  },
  {
   "cell_type": "code",
   "execution_count": 135,
   "metadata": {},
   "outputs": [
    {
     "data": {
      "text/plain": [
       "(2, 1)"
      ]
     },
     "execution_count": 135,
     "metadata": {},
     "output_type": "execute_result"
    }
   ],
   "source": [
    "theta.shape"
   ]
  },
  {
   "cell_type": "code",
   "execution_count": 136,
   "metadata": {
    "collapsed": true
   },
   "outputs": [],
   "source": [
    "def hypothesis(X, theta):\n",
    "    return expit(np.matmul(X,theta))"
   ]
  },
  {
   "cell_type": "code",
   "execution_count": 137,
   "metadata": {
    "scrolled": false
   },
   "outputs": [
    {
     "data": {
      "text/plain": [
       "0.012605560555504415"
      ]
     },
     "execution_count": 137,
     "metadata": {},
     "output_type": "execute_result"
    }
   ],
   "source": [
    "np.abs(np.matmul(X,theta)).min()"
   ]
  },
  {
   "cell_type": "code",
   "execution_count": 138,
   "metadata": {
    "scrolled": true
   },
   "outputs": [
    {
     "data": {
      "text/plain": [
       "(100, 1)"
      ]
     },
     "execution_count": 138,
     "metadata": {},
     "output_type": "execute_result"
    }
   ],
   "source": [
    "hypothesis(X, theta).shape"
   ]
  },
  {
   "cell_type": "code",
   "execution_count": 139,
   "metadata": {
    "collapsed": true
   },
   "outputs": [],
   "source": [
    "def loss_function(target, predicted):\n",
    "    \n",
    "    assert target.shape == predicted.shape\n",
    "    return np.matmul(target.T,np.log(predicted))+np.matmul((1-target).T,np.log(1-predicted))\n",
    "\n"
   ]
  },
  {
   "cell_type": "code",
   "execution_count": 140,
   "metadata": {
    "scrolled": false
   },
   "outputs": [
    {
     "data": {
      "text/plain": [
       "(1, 1)"
      ]
     },
     "execution_count": 140,
     "metadata": {},
     "output_type": "execute_result"
    }
   ],
   "source": [
    "loss_function(y, hypothesis(X,theta)).shape"
   ]
  },
  {
   "cell_type": "code",
   "execution_count": 141,
   "metadata": {
    "collapsed": true
   },
   "outputs": [],
   "source": [
    "def cost_function(X,y,theta):\n",
    "    return -1/len(y)*loss_function(y,hypothesis(X,theta))"
   ]
  },
  {
   "cell_type": "code",
   "execution_count": 153,
   "metadata": {},
   "outputs": [
    {
     "data": {
      "text/plain": [
       "(1, 1)"
      ]
     },
     "execution_count": 153,
     "metadata": {},
     "output_type": "execute_result"
    }
   ],
   "source": [
    "cost_function(X,y,theta).shape"
   ]
  },
  {
   "cell_type": "code",
   "execution_count": 144,
   "metadata": {
    "collapsed": true
   },
   "outputs": [],
   "source": [
    "def derivative(X,y,theta):\n",
    "    return np.matmul(X.T,hypothesis(X,theta) - y)/len(y)"
   ]
  },
  {
   "cell_type": "code",
   "execution_count": 145,
   "metadata": {
    "scrolled": true
   },
   "outputs": [
    {
     "data": {
      "text/plain": [
       "(2, 1)"
      ]
     },
     "execution_count": 145,
     "metadata": {},
     "output_type": "execute_result"
    }
   ],
   "source": [
    "derivative(X,y,theta).shape"
   ]
  },
  {
   "cell_type": "code",
   "execution_count": 146,
   "metadata": {
    "collapsed": true
   },
   "outputs": [],
   "source": [
    "def gradient_step(X,y,theta,alpha):\n",
    "    return theta - alpha*derivative(X,y,theta)"
   ]
  },
  {
   "cell_type": "code",
   "execution_count": 147,
   "metadata": {},
   "outputs": [
    {
     "data": {
      "text/plain": [
       "(2, 1)"
      ]
     },
     "execution_count": 147,
     "metadata": {},
     "output_type": "execute_result"
    }
   ],
   "source": [
    "gradient_step(X,y,theta,alpha).shape"
   ]
  },
  {
   "cell_type": "code",
   "execution_count": 149,
   "metadata": {},
   "outputs": [],
   "source": [
    "def gradient_descent(X,y,theta,alpha,num_iters):\n",
    "    for i in range(num_iters):\n",
    "        theta = gradient_step(X,y,theta,alpha)\n",
    "        if i % 50 == 0:\n",
    "            print(i)\n",
    "            print(cost_function(X,y,theta))\n",
    "        "
   ]
  },
  {
   "cell_type": "code",
   "execution_count": 150,
   "metadata": {
    "scrolled": true
   },
   "outputs": [
    {
     "name": "stdout",
     "output_type": "stream",
     "text": [
      "0\n",
      "[[ 64.05600749]]\n",
      "50\n",
      "[[ 50.7872403]]\n",
      "100\n",
      "[[ 43.68381537]]\n",
      "150\n",
      "[[ 39.41528072]]\n",
      "200\n",
      "[[ 36.60335187]]\n",
      "250\n",
      "[[ 34.62147911]]\n",
      "300\n",
      "[[ 33.15316066]]\n",
      "350\n",
      "[[ 32.02353732]]\n",
      "400\n",
      "[[ 31.12874869]]\n",
      "450\n",
      "[[ 30.40339482]]\n",
      "500\n",
      "[[ 29.80428881]]\n",
      "550\n",
      "[[ 29.30177292]]\n",
      "600\n",
      "[[ 28.87480406]]\n",
      "650\n",
      "[[ 28.50803429]]\n",
      "700\n",
      "[[ 28.19000325]]\n",
      "750\n",
      "[[ 27.91197841]]\n",
      "800\n",
      "[[ 27.66718767]]\n",
      "850\n",
      "[[ 27.45029757]]\n",
      "900\n",
      "[[ 27.25705005]]\n",
      "950\n",
      "[[ 27.08400418]]\n",
      "1000\n",
      "[[ 26.92834906]]\n",
      "1050\n",
      "[[ 26.78776589]]\n",
      "1100\n",
      "[[ 26.66032493]]\n",
      "1150\n",
      "[[ 26.54440721]]\n",
      "1200\n",
      "[[ 26.43864456]]\n",
      "1250\n",
      "[[ 26.34187296]]\n",
      "1300\n",
      "[[ 26.25309593]]\n",
      "1350\n",
      "[[ 26.17145557]]\n",
      "1400\n",
      "[[ 26.09620938]]\n",
      "1450\n",
      "[[ 26.02671159]]\n",
      "1500\n",
      "[[ 25.96239799]]\n",
      "1550\n",
      "[[ 25.90277357]]\n",
      "1600\n",
      "[[ 25.84740225]]\n",
      "1650\n",
      "[[ 25.79589849]]\n",
      "1700\n",
      "[[ 25.74792023]]\n",
      "1750\n",
      "[[ 25.70316296]]\n",
      "1800\n",
      "[[ 25.66135481]]\n",
      "1850\n",
      "[[ 25.62225232]]\n",
      "1900\n",
      "[[ 25.58563685]]\n",
      "1950\n",
      "[[ 25.55131159]]\n"
     ]
    }
   ],
   "source": [
    "gradient_descent(X,y,theta,0.1,number_of_itterations)"
   ]
  },
  {
   "cell_type": "code",
   "execution_count": 151,
   "metadata": {
    "collapsed": true
   },
   "outputs": [],
   "source": [
    "def sigmoid(a):\n",
    "    return expit(a)\n",
    "\n",
    "def cost(x, y, theta):\n",
    "    m = x.shape[0]\n",
    "    h = sigmoid(np.matmul(x, theta))\n",
    "    cost = (np.matmul(-y.T, np.log(h)) - np.matmul((1 -y.T), np.log(1 - h)))/m\n",
    "    return cost\n",
    "\n",
    "def gradient_Descent(theta, alpha, x , y):\n",
    "    m = x.shape[0]\n",
    "    h = sigmoid(np.matmul(x, theta))\n",
    "    grad = np.matmul(X.T, (h - y)) / m;\n",
    "    theta = theta - alpha * grad\n",
    "    return theta"
   ]
  },
  {
   "cell_type": "code",
   "execution_count": 152,
   "metadata": {},
   "outputs": [
    {
     "name": "stdout",
     "output_type": "stream",
     "text": [
      "[[ 0.67122137]]\n",
      "[[ 0.34832986]]\n",
      "[[ 0.29864258]]\n",
      "[[ 0.27936793]]\n",
      "[[ 0.26940725]]\n",
      "[[ 0.2634875]]\n",
      "[[ 0.25966487]]\n",
      "[[ 0.25705707]]\n",
      "[[ 0.2552073]]\n",
      "[[ 0.25385658]]\n"
     ]
    }
   ],
   "source": [
    "n_iterations = 500\n",
    "learning_rate = 0.5\n",
    "theta = np.zeros((X.shape[1],1))\n",
    "for i in range(n_iterations):\n",
    "    theta = gradient_Descent(theta, learning_rate, X, y)\n",
    "    if i % 50 == 0:\n",
    "        print(cost(X, y, theta))"
   ]
  },
  {
   "cell_type": "code",
   "execution_count": null,
   "metadata": {
    "collapsed": true
   },
   "outputs": [],
   "source": []
  }
 ],
 "metadata": {
  "kernelspec": {
   "display_name": "Python 2",
   "language": "python",
   "name": "python2"
  },
  "language_info": {
   "codemirror_mode": {
    "name": "ipython",
    "version": 2
   },
   "file_extension": ".py",
   "mimetype": "text/x-python",
   "name": "python",
   "nbconvert_exporter": "python",
   "pygments_lexer": "ipython2",
   "version": "2.7.6"
  }
 },
 "nbformat": 4,
 "nbformat_minor": 2
}
