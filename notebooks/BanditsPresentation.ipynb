{
 "cells": [
  {
   "cell_type": "markdown",
   "metadata": {},
   "source": [
    "* Outline\n",
    "* Exploration Exploitation Dilemma\n",
    "* MAB Problem Formulation\n",
    "* Definition of Regret \n",
    "* Algorithms - Naive, UCB, Thompson Sampling\n",
    "* Special Cases - Adversarial Setting, Partial infomation case \n",
    "* Applications - A/B testing, Ranking, Recomandation\n",
    "* Summary and Take-Home Message"
   ]
  },
  {
   "cell_type": "code",
   "execution_count": null,
   "metadata": {},
   "outputs": [],
   "source": []
  }
 ],
 "metadata": {
  "kernelspec": {
   "display_name": "Python 3",
   "language": "python",
   "name": "python3"
  },
  "language_info": {
   "codemirror_mode": {
    "name": "ipython",
    "version": 3
   },
   "file_extension": ".py",
   "mimetype": "text/x-python",
   "name": "python",
   "nbconvert_exporter": "python",
   "pygments_lexer": "ipython3",
   "version": "3.6.8"
  }
 },
 "nbformat": 4,
 "nbformat_minor": 2
}
