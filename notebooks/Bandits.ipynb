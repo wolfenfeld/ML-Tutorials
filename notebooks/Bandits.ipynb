{
  "cells": [
    {
      "cell_type": "code",
      "source": [
        "import numpy as np"
      ],
      "outputs": [],
      "execution_count": 3,
      "metadata": {
        "collapsed": false,
        "outputHidden": false,
        "inputHidden": false
      }
    },
    {
      "cell_type": "code",
      "source": [
        "class BanditAlgorithm(object):\n",
        "    \n",
        "    def __init__(self, k_arms):\n",
        "        pass\n",
        "    \n",
        "    def select_arm(self):\n",
        "        pass\n",
        "    \n",
        "    def update(self, chosen_arm, reward):\n",
        "        pass"
      ],
      "outputs": [],
      "execution_count": 89,
      "metadata": {
        "collapsed": false,
        "outputHidden": false,
        "inputHidden": false
      }
    },
    {
      "cell_type": "code",
      "source": [
        "class UCB(BanditAlgorithm):\n",
        "    \n",
        "    def __init__(self,k_arms,beta=1):\n",
        "        super().__init__(k_arms)\n",
        "        \n",
        "        self.emperical_mean = np.zeros(k_arms)\n",
        "        self.count = np.zeros(k_arms)\n",
        "        self.beta = beta\n",
        "        \n",
        "    def select_arm(self):\n",
        "        \n",
        "        if 0 in self.count:\n",
        "            return self.count.tolist().index(0)\n",
        "        \n",
        "        ucb_values = self.values + beta * np.sqrt(np.log(self.count.sum()) / self.counts)\n",
        "\n",
        "        return np.argmax(ucb_values)\n",
        "\n",
        "    def update(self, chosen_arm, reward):\n",
        "\n",
        "        self.count[chosen_arm] += 1\n",
        "\n",
        "        n = self.count[chosen_arm]\n",
        "\n",
        "        new_emperical_mean = ((n - 1) / n) * self.emperical_mean[chosen_arm] + (1 / n) * reward\n",
        "\n        self.emperical_mean[chosen_arm] = new_emperical_mean"
      ],
      "outputs": [],
      "execution_count": 126,
      "metadata": {
        "collapsed": false,
        "outputHidden": false,
        "inputHidden": false
      }
    },
    {
      "cell_type": "code",
      "source": [
        "class ThompsonSampling(BanditAlgorithm):\n",
        "    \n",
        "    def __init__(self,k_arms,beta=1):\n",
        "        \n",
        "        super().__init__(k_arms)\n",
        "        \n",
        "        self.successes = np.zeros(k_arms)\n",
        "        self.fails = np.zeros(k_arms)\n",
        "        \n",
        "    def select_arm(self):\n",
        "\n",
        "        theta = np.random.beta(a=(self.successes + 1), b=(self.fails + 1))\n",
        "\n",
        "        return np.argmax(theta)\n",
        "\n",
        "    def update(self, chosen_arm, reward):\n",
        "\n",
        "        self.successes[chosen_arm] += reward\n",
        "        self.fails[chosen_arm] += (1-reward)\n"
      ],
      "outputs": [],
      "execution_count": 139,
      "metadata": {
        "collapsed": false,
        "outputHidden": false,
        "inputHidden": false
      }
    },
    {
      "cell_type": "code",
      "source": [
        "class BernoulliArm(object):\n",
        "\n",
        "    def __init__(self, mu):\n",
        "        self.mu = mu\n",
        "  \n",
        "    def draw(self):\n",
        "        return np.random.binomial(n=1, p=self.mu)       "
      ],
      "outputs": [],
      "execution_count": 140,
      "metadata": {
        "collapsed": false,
        "outputHidden": false,
        "inputHidden": false
      }
    },
    {
      "cell_type": "code",
      "source": [
        "np.zeros((2,5))"
      ],
      "outputs": [
        {
          "output_type": "execute_result",
          "execution_count": 141,
          "data": {
            "text/plain": [
              "array([[0., 0., 0., 0., 0.],\n",
              "       [0., 0., 0., 0., 0.]])"
            ]
          },
          "metadata": {}
        }
      ],
      "execution_count": 141,
      "metadata": {
        "collapsed": false,
        "outputHidden": false,
        "inputHidden": false
      }
    },
    {
      "cell_type": "code",
      "source": [
        "class BanditSimulation(object):\n",
        "    \n",
        "    def __init__(self, k_arms, T, number_of_runs):\n",
        "        self.T = T\n",
        "        self.number_of_runs = number_of_runs\n",
        "        self.k_arms = k_arms\n",
        "        self.cumulative_regret = {\"Thompson Sampling\":np.zeros((T,number_of_runs)),\n",
        "                                  \"UCB\":np.zeros((T,number_of_runs))}\n",
        "    \n",
        "    def run(self):\n",
        "        \n",
        "        for run_number in range(self.number_of_runs):\n",
        "            \n",
        "            mu_vector = np.random.uniform(size=self.k_arms)\n",
        "              \n",
        "            arms = [BernoulliArm(mu) for mu in mu_vector]\n",
        "            \n",
        "            ucb = UCB(self.k_arms)\n",
        "          \n",
        "            thompson_sampling = ThompsonSampling(self.k_arms)\n",
        "            \n",
        "            for t in range(self.T):\n",
        "                \n",
        "                ucb_chosen_arm = ucb.select_arm()\n",
        "                ucb_reward = arms[ucb_chosen_arm].draw()\n",
        "                ucb.update(ucb_chosen_arm, ucb_reward)\n",
        "                ucb_regret = max(mu_vector) - ucb_reward \n",
        "                \n",
        "                thompson_sampling_chosen_arm = thompson_sampling.select_arm()\n",
        "                thompson_sampling_reward = arms[thompson_sampling_chosen_arm].draw()\n",
        "                thompson_sampling.update(thompson_sampling_chosen_arm, thompson_sampling_reward)\n",
        "                thompson_sampling_regret = max(mu_vector) - thompson_sampling_reward\n",
        "\n",
        "                if t==0:\n",
        "                    self.cumulative_regret[\"UCB\"][t,run_number] = ucb_regret\n",
        "                    self.cumulative_regret[\"Thompson Sampling\"][t,run_number] = thompson_sampling_regret\n",
        "                else:\n",
        "                    self.cumulative_regret[\"UCB\"][t,run_number] = ucb_regret + self.cumulative_regret[\"UCB\"][t-1,run_number]\n",
        "                    self.cumulative_regret[\"Thompson Sampling\"][t,run_number] = thompson_sampling_regret + self.cumulative_regret[\"Thompson Sampling\"][t-1,run_number]\n",
        "\n",
        "                    \n",
        "                "
      ],
      "outputs": [],
      "execution_count": 142,
      "metadata": {
        "collapsed": false,
        "outputHidden": false,
        "inputHidden": false
      }
    },
    {
      "cell_type": "code",
      "source": [
        "sim = BanditSimulation(6,500,8)"
      ],
      "outputs": [],
      "execution_count": 143,
      "metadata": {
        "collapsed": false,
        "outputHidden": false,
        "inputHidden": false
      }
    },
    {
      "cell_type": "code",
      "source": [
        "sim.run()"
      ],
      "outputs": [
        {
          "output_type": "error",
          "ename": "AttributeError",
          "evalue": "'UCB' object has no attribute 'values'",
          "traceback": [
            "\u001b[0;31m---------------------------------------------------------------------------\u001b[0m",
            "\u001b[0;31mAttributeError\u001b[0m                            Traceback (most recent call last)",
            "\u001b[0;32m<ipython-input-144-7c6cd8add6f4>\u001b[0m in \u001b[0;36m<module>\u001b[0;34m\u001b[0m\n\u001b[0;32m----> 1\u001b[0;31m \u001b[0msim\u001b[0m\u001b[0;34m.\u001b[0m\u001b[0mrun\u001b[0m\u001b[0;34m(\u001b[0m\u001b[0;34m)\u001b[0m\u001b[0;34m\u001b[0m\u001b[0;34m\u001b[0m\u001b[0m\n\u001b[0m",
            "\u001b[0;32m<ipython-input-142-5bea93a1cf29>\u001b[0m in \u001b[0;36mrun\u001b[0;34m(self)\u001b[0m\n\u001b[1;32m     22\u001b[0m             \u001b[0;32mfor\u001b[0m \u001b[0mt\u001b[0m \u001b[0;32min\u001b[0m \u001b[0mrange\u001b[0m\u001b[0;34m(\u001b[0m\u001b[0mself\u001b[0m\u001b[0;34m.\u001b[0m\u001b[0mT\u001b[0m\u001b[0;34m)\u001b[0m\u001b[0;34m:\u001b[0m\u001b[0;34m\u001b[0m\u001b[0;34m\u001b[0m\u001b[0m\n\u001b[1;32m     23\u001b[0m \u001b[0;34m\u001b[0m\u001b[0m\n\u001b[0;32m---> 24\u001b[0;31m                 \u001b[0mucb_chosen_arm\u001b[0m \u001b[0;34m=\u001b[0m \u001b[0mucb\u001b[0m\u001b[0;34m.\u001b[0m\u001b[0mselect_arm\u001b[0m\u001b[0;34m(\u001b[0m\u001b[0;34m)\u001b[0m\u001b[0;34m\u001b[0m\u001b[0;34m\u001b[0m\u001b[0m\n\u001b[0m\u001b[1;32m     25\u001b[0m                 \u001b[0mucb_reward\u001b[0m \u001b[0;34m=\u001b[0m \u001b[0marms\u001b[0m\u001b[0;34m[\u001b[0m\u001b[0mucb_chosen_arm\u001b[0m\u001b[0;34m]\u001b[0m\u001b[0;34m.\u001b[0m\u001b[0mdraw\u001b[0m\u001b[0;34m(\u001b[0m\u001b[0;34m)\u001b[0m\u001b[0;34m\u001b[0m\u001b[0;34m\u001b[0m\u001b[0m\n\u001b[1;32m     26\u001b[0m                 \u001b[0mucb\u001b[0m\u001b[0;34m.\u001b[0m\u001b[0mupdate\u001b[0m\u001b[0;34m(\u001b[0m\u001b[0mucb_chosen_arm\u001b[0m\u001b[0;34m,\u001b[0m \u001b[0mucb_reward\u001b[0m\u001b[0;34m)\u001b[0m\u001b[0;34m\u001b[0m\u001b[0;34m\u001b[0m\u001b[0m\n",
            "\u001b[0;32m<ipython-input-126-92cef4fed557>\u001b[0m in \u001b[0;36mselect_arm\u001b[0;34m(self)\u001b[0m\n\u001b[1;32m     13\u001b[0m             \u001b[0;32mreturn\u001b[0m \u001b[0mself\u001b[0m\u001b[0;34m.\u001b[0m\u001b[0mcount\u001b[0m\u001b[0;34m.\u001b[0m\u001b[0mtolist\u001b[0m\u001b[0;34m(\u001b[0m\u001b[0;34m)\u001b[0m\u001b[0;34m.\u001b[0m\u001b[0mindex\u001b[0m\u001b[0;34m(\u001b[0m\u001b[0;36m0\u001b[0m\u001b[0;34m)\u001b[0m\u001b[0;34m\u001b[0m\u001b[0;34m\u001b[0m\u001b[0m\n\u001b[1;32m     14\u001b[0m \u001b[0;34m\u001b[0m\u001b[0m\n\u001b[0;32m---> 15\u001b[0;31m         \u001b[0mucb_values\u001b[0m \u001b[0;34m=\u001b[0m \u001b[0mself\u001b[0m\u001b[0;34m.\u001b[0m\u001b[0mvalues\u001b[0m \u001b[0;34m+\u001b[0m \u001b[0mbeta\u001b[0m \u001b[0;34m*\u001b[0m \u001b[0mnp\u001b[0m\u001b[0;34m.\u001b[0m\u001b[0msqrt\u001b[0m\u001b[0;34m(\u001b[0m\u001b[0mnp\u001b[0m\u001b[0;34m.\u001b[0m\u001b[0mlog\u001b[0m\u001b[0;34m(\u001b[0m\u001b[0mself\u001b[0m\u001b[0;34m.\u001b[0m\u001b[0mcount\u001b[0m\u001b[0;34m.\u001b[0m\u001b[0msum\u001b[0m\u001b[0;34m(\u001b[0m\u001b[0;34m)\u001b[0m\u001b[0;34m)\u001b[0m \u001b[0;34m/\u001b[0m \u001b[0mself\u001b[0m\u001b[0;34m.\u001b[0m\u001b[0mcounts\u001b[0m\u001b[0;34m)\u001b[0m\u001b[0;34m\u001b[0m\u001b[0;34m\u001b[0m\u001b[0m\n\u001b[0m\u001b[1;32m     16\u001b[0m \u001b[0;34m\u001b[0m\u001b[0m\n\u001b[1;32m     17\u001b[0m         \u001b[0;32mreturn\u001b[0m \u001b[0mnp\u001b[0m\u001b[0;34m.\u001b[0m\u001b[0margmax\u001b[0m\u001b[0;34m(\u001b[0m\u001b[0mucb_values\u001b[0m\u001b[0;34m)\u001b[0m\u001b[0;34m\u001b[0m\u001b[0;34m\u001b[0m\u001b[0m\n",
            "\u001b[0;31mAttributeError\u001b[0m: 'UCB' object has no attribute 'values'"
          ]
        }
      ],
      "execution_count": 144,
      "metadata": {
        "collapsed": false,
        "outputHidden": false,
        "inputHidden": false
      }
    },
    {
      "cell_type": "code",
      "source": [
        "ucb = UCB(7)"
      ],
      "outputs": [],
      "execution_count": 45,
      "metadata": {
        "collapsed": false,
        "outputHidden": false,
        "inputHidden": false
      }
    },
    {
      "cell_type": "code",
      "source": [
        "a = np.random.randn(3,6)"
      ],
      "outputs": [],
      "execution_count": 98,
      "metadata": {
        "collapsed": false,
        "outputHidden": false,
        "inputHidden": false
      }
    },
    {
      "cell_type": "code",
      "source": [
        "a"
      ],
      "outputs": [
        {
          "output_type": "execute_result",
          "execution_count": 102,
          "data": {
            "text/plain": [
              "array([[-0.65221473,  0.35312628, -1.06987642,  0.55398235,  0.45936365,\n",
              "         0.88627747],\n",
              "       [ 0.1055198 , -1.37234696, -0.10268464, -0.98547921,  0.00611771,\n",
              "        -1.47898373],\n",
              "       [-0.74205881, -1.2999804 , -2.09954308, -0.25071237,  0.52428051,\n",
              "         0.22179928]])"
            ]
          },
          "metadata": {}
        }
      ],
      "execution_count": 102,
      "metadata": {
        "collapsed": false,
        "outputHidden": false,
        "inputHidden": false
      }
    },
    {
      "cell_type": "code",
      "source": [
        "a[1,3]\n"
      ],
      "outputs": [
        {
          "output_type": "execute_result",
          "execution_count": 101,
          "data": {
            "text/plain": [
              "-0.9854792134620183"
            ]
          },
          "metadata": {}
        }
      ],
      "execution_count": 101,
      "metadata": {
        "collapsed": false,
        "outputHidden": false,
        "inputHidden": false
      }
    },
    {
      "cell_type": "code",
      "source": [
        "np.random.choice([1,2,3])"
      ],
      "outputs": [
        {
          "output_type": "execute_result",
          "execution_count": 57,
          "data": {
            "text/plain": [
              "3"
            ]
          },
          "metadata": {}
        }
      ],
      "execution_count": 57,
      "metadata": {
        "collapsed": false,
        "outputHidden": false,
        "inputHidden": false
      }
    },
    {
      "cell_type": "code",
      "source": [
        "np.where(ucb.count==0)"
      ],
      "outputs": [
        {
          "output_type": "execute_result",
          "execution_count": 67,
          "data": {
            "text/plain": [
              "(array([0, 1, 2, 3, 4, 5, 6]),)"
            ]
          },
          "metadata": {}
        }
      ],
      "execution_count": 67,
      "metadata": {
        "collapsed": false,
        "outputHidden": false,
        "inputHidden": false
      }
    },
    {
      "cell_type": "code",
      "source": [
        "np.random.choice(np.where(ucb.count==0))"
      ],
      "outputs": [
        {
          "output_type": "error",
          "ename": "ValueError",
          "evalue": "a must be 1-dimensional",
          "traceback": [
            "\u001b[0;31m---------------------------------------------------------------------------\u001b[0m",
            "\u001b[0;31mValueError\u001b[0m                                Traceback (most recent call last)",
            "\u001b[0;32m<ipython-input-54-545a34199045>\u001b[0m in \u001b[0;36m<module>\u001b[0;34m\u001b[0m\n\u001b[0;32m----> 1\u001b[0;31m \u001b[0mnp\u001b[0m\u001b[0;34m.\u001b[0m\u001b[0mrandom\u001b[0m\u001b[0;34m.\u001b[0m\u001b[0mchoice\u001b[0m\u001b[0;34m(\u001b[0m\u001b[0mnp\u001b[0m\u001b[0;34m.\u001b[0m\u001b[0mwhere\u001b[0m\u001b[0;34m(\u001b[0m\u001b[0mucb\u001b[0m\u001b[0;34m.\u001b[0m\u001b[0mcount\u001b[0m\u001b[0;34m==\u001b[0m\u001b[0;36m0\u001b[0m\u001b[0;34m)\u001b[0m\u001b[0;34m)\u001b[0m\u001b[0;34m\u001b[0m\u001b[0;34m\u001b[0m\u001b[0m\n\u001b[0m",
            "\u001b[0;32mmtrand.pyx\u001b[0m in \u001b[0;36mmtrand.RandomState.choice\u001b[0;34m()\u001b[0m\n",
            "\u001b[0;31mValueError\u001b[0m: a must be 1-dimensional"
          ]
        }
      ],
      "execution_count": 54,
      "metadata": {
        "collapsed": false,
        "outputHidden": false,
        "inputHidden": false
      }
    },
    {
      "cell_type": "code",
      "source": [
        "ucb.select_arm()"
      ],
      "outputs": [
        {
          "output_type": "execute_result",
          "execution_count": 47,
          "data": {
            "text/plain": [
              "0"
            ]
          },
          "metadata": {}
        }
      ],
      "execution_count": 47,
      "metadata": {
        "collapsed": false,
        "outputHidden": false,
        "inputHidden": false
      }
    },
    {
      "cell_type": "code",
      "source": [],
      "outputs": [],
      "execution_count": null,
      "metadata": {
        "collapsed": false,
        "outputHidden": false,
        "inputHidden": false
      }
    }
  ],
  "metadata": {
    "kernel_info": {
      "name": "python3"
    },
    "language_info": {
      "name": "python",
      "version": "3.6.8",
      "mimetype": "text/x-python",
      "codemirror_mode": {
        "name": "ipython",
        "version": 3
      },
      "pygments_lexer": "ipython3",
      "nbconvert_exporter": "python",
      "file_extension": ".py"
    },
    "kernelspec": {
      "name": "python3",
      "language": "python",
      "display_name": "Python 3"
    },
    "nteract": {
      "version": "0.12.3"
    }
  },
  "nbformat": 4,
  "nbformat_minor": 4
}