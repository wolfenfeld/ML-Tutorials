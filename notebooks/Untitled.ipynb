{
 "cells": [
  {
   "cell_type": "code",
   "execution_count": 3,
   "metadata": {},
   "outputs": [],
   "source": [
    "import ray.rllib"
   ]
  },
  {
   "cell_type": "code",
   "execution_count": 4,
   "metadata": {},
   "outputs": [
    {
     "ename": "IndentationError",
     "evalue": "expected an indented block (<ipython-input-4-37d63b375b05>, line 19)",
     "output_type": "error",
     "traceback": [
      "\u001b[0;36m  File \u001b[0;32m\"<ipython-input-4-37d63b375b05>\"\u001b[0;36m, line \u001b[0;32m19\u001b[0m\n\u001b[0;31m    return [gradient, reward_sum]\u001b[0m\n\u001b[0m         ^\u001b[0m\n\u001b[0;31mIndentationError\u001b[0m\u001b[0;31m:\u001b[0m expected an indented block\n"
     ]
    }
   ],
   "source": [
    "@ray.remote\n",
    "class PongEnv(object):\n",
    "    def __init__(self):\n",
    "        # Tell numpy to only use one core. If we don't do this, each actor may try\n",
    "        # to use all of the cores and the resulting contention may result in no\n",
    "        # speedup over the serial version. Note that if numpy is using OpenBLAS,\n",
    "        # then you need to set OPENBLAS_NUM_THREADS=1, and you probably need to do\n",
    "        # it from the command line (so it happens before numpy is imported).\n",
    "        os.environ[\"MKL_NUM_THREADS\"] = \"1\"\n",
    "        self.env = gym.make(\"Pong-v0\")\n",
    "\n",
    "    def compute_gradient(self, model):\n",
    "        # Reset the game.\n",
    "        observation = self.env.reset()\n",
    "        while not done:\n",
    "            # Choose an action using policy_forward.\n",
    "            # Take the action and observe the new state of the world.\n",
    "        # Compute a gradient using policy_backward. Return the gradient and reward.\n",
    "        return [gradient, reward_sum]"
   ]
  },
  {
   "cell_type": "code",
   "execution_count": 5,
   "metadata": {},
   "outputs": [
    {
     "name": "stderr",
     "output_type": "stream",
     "text": [
      "2019-05-26 23:44:01,707\tWARNING worker.py:1337 -- WARNING: Not updating worker name since `setproctitle` is not installed. Install this with `pip install setproctitle` (or ray[debug]) to enable monitoring of worker processes.\n",
      "2019-05-26 23:44:01,719\tINFO node.py:469 -- Process STDOUT and STDERR is being redirected to /tmp/ray/session_2019-05-26_23-44-01_3380/logs.\n",
      "2019-05-26 23:44:01,845\tINFO services.py:407 -- Waiting for redis server at 127.0.0.1:15695 to respond...\n",
      "2019-05-26 23:44:02,049\tINFO services.py:407 -- Waiting for redis server at 127.0.0.1:26274 to respond...\n",
      "2019-05-26 23:44:02,068\tINFO services.py:804 -- Starting Redis shard with 2.28 GB max memory.\n",
      "2019-05-26 23:44:02,157\tINFO node.py:483 -- Process STDOUT and STDERR is being redirected to /tmp/ray/session_2019-05-26_23-44-01_3380/logs.\n",
      "2019-05-26 23:44:02,176\tINFO services.py:1427 -- Starting the Plasma object store with 3.43 GB memory using /dev/shm.\n",
      "2019-05-26 23:44:02,208\tWARNING services.py:907 -- Failed to start the reporter. The reporter requires 'pip install psutil'.\n"
     ]
    },
    {
     "data": {
      "text/plain": [
       "{'node_ip_address': '100.115.92.201',\n",
       " 'redis_address': '100.115.92.201:15695',\n",
       " 'object_store_address': '/tmp/ray/session_2019-05-26_23-44-01_3380/sockets/plasma_store',\n",
       " 'raylet_socket_name': '/tmp/ray/session_2019-05-26_23-44-01_3380/sockets/raylet',\n",
       " 'webui_url': None}"
      ]
     },
     "execution_count": 5,
     "metadata": {},
     "output_type": "execute_result"
    }
   ],
   "source": [
    "import ray\n",
    "ray.init()"
   ]
  },
  {
   "cell_type": "code",
   "execution_count": null,
   "metadata": {},
   "outputs": [],
   "source": []
  }
 ],
 "metadata": {
  "kernelspec": {
   "display_name": "Python 3",
   "language": "python",
   "name": "python3"
  },
  "language_info": {
   "codemirror_mode": {
    "name": "ipython",
    "version": 3
   },
   "file_extension": ".py",
   "mimetype": "text/x-python",
   "name": "python",
   "nbconvert_exporter": "python",
   "pygments_lexer": "ipython3",
   "version": "3.6.6"
  }
 },
 "nbformat": 4,
 "nbformat_minor": 2
}
