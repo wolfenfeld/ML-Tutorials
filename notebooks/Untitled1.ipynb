{
 "cells": [
  {
   "cell_type": "code",
   "execution_count": 126,
   "metadata": {},
   "outputs": [],
   "source": [
    "import numpy as np\n",
    "\n",
    "from scipy.stats import gmean,hmean\n",
    "\n",
    "from plotly.offline import iplot\n",
    "import plotly.graph_objects as go\n",
    "\n",
    "def rms(x):\n",
    "    return np.sqrt(np.mean(x**2))\n"
   ]
  },
  {
   "cell_type": "markdown",
   "metadata": {},
   "source": [
    "# Fixed distance example"
   ]
  },
  {
   "cell_type": "code",
   "execution_count": 166,
   "metadata": {},
   "outputs": [],
   "source": [
    "n = 10\n",
    "mu= 10\n",
    "sigma=1\n",
    "\n",
    "t_i = sigma * np.random.randn(n) + mu\n",
    "x_i = 10\n",
    "v_i = x_i/t_i\n",
    "\n",
    "harmonic_mean_v = hmean(v_i)\n",
    "arithmetic_mean_v = np.mean(v_i)\n",
    "geometric_mean_v = gmean(v_i)"
   ]
  },
  {
   "cell_type": "code",
   "execution_count": 169,
   "metadata": {},
   "outputs": [
    {
     "data": {
      "text/plain": [
       "(1.0095321440315208, 1.0159771881070556, 1.012693620730861)"
      ]
     },
     "execution_count": 169,
     "metadata": {},
     "output_type": "execute_result"
    }
   ],
   "source": [
    "harmonic_mean_v, arithmetic_mean_v, geometric_mean_v"
   ]
  },
  {
   "cell_type": "code",
   "execution_count": 168,
   "metadata": {},
   "outputs": [
    {
     "data": {
      "application/vnd.plotly.v1+json": {
       "config": {
        "linkText": "Export to plot.ly",
        "plotlyServerURL": "https://plot.ly",
        "showLink": false
       },
       "data": [
        {
         "name": "velocity",
         "type": "scatter",
         "x": [
          0,
          1,
          2,
          3,
          4,
          5,
          6,
          7,
          8,
          9
         ],
         "y": [
          0.9582686050091176,
          1.0135975593559923,
          0.9709901085511586,
          0.960261016531186,
          1.1997704128362567,
          1.0665731689326075,
          1.071003386701016,
          0.9150013649869252,
          1.0757053267704577,
          0.9286009313958398
         ]
        },
        {
         "name": "estimated_velocity_harmonic",
         "type": "scatter",
         "x": [
          0,
          1,
          2,
          3,
          4,
          5,
          6,
          7,
          8,
          9
         ],
         "y": [
          1.0095321440315208,
          1.0095321440315208,
          1.0095321440315208,
          1.0095321440315208,
          1.0095321440315208,
          1.0095321440315208,
          1.0095321440315208,
          1.0095321440315208,
          1.0095321440315208,
          1.0095321440315208
         ]
        },
        {
         "name": "estimated_velocity_arithmetic",
         "type": "scatter",
         "x": [
          0,
          1,
          2,
          3,
          4,
          5,
          6,
          7,
          8,
          9
         ],
         "y": [
          1.0159771881070556,
          1.0159771881070556,
          1.0159771881070556,
          1.0159771881070556,
          1.0159771881070556,
          1.0159771881070556,
          1.0159771881070556,
          1.0159771881070556,
          1.0159771881070556,
          1.0159771881070556
         ]
        },
        {
         "name": "estimated_velocity_geometric",
         "type": "scatter",
         "x": [
          0,
          1,
          2,
          3,
          4,
          5,
          6,
          7,
          8,
          9
         ],
         "y": [
          1.012693620730861,
          1.012693620730861,
          1.012693620730861,
          1.012693620730861,
          1.012693620730861,
          1.012693620730861,
          1.012693620730861,
          1.012693620730861,
          1.012693620730861,
          1.012693620730861
         ]
        }
       ],
       "layout": {
        "autosize": true,
        "template": {
         "data": {
          "bar": [
           {
            "error_x": {
             "color": "#2a3f5f"
            },
            "error_y": {
             "color": "#2a3f5f"
            },
            "marker": {
             "line": {
              "color": "#E5ECF6",
              "width": 0.5
             }
            },
            "type": "bar"
           }
          ],
          "barpolar": [
           {
            "marker": {
             "line": {
              "color": "#E5ECF6",
              "width": 0.5
             }
            },
            "type": "barpolar"
           }
          ],
          "carpet": [
           {
            "aaxis": {
             "endlinecolor": "#2a3f5f",
             "gridcolor": "white",
             "linecolor": "white",
             "minorgridcolor": "white",
             "startlinecolor": "#2a3f5f"
            },
            "baxis": {
             "endlinecolor": "#2a3f5f",
             "gridcolor": "white",
             "linecolor": "white",
             "minorgridcolor": "white",
             "startlinecolor": "#2a3f5f"
            },
            "type": "carpet"
           }
          ],
          "choropleth": [
           {
            "colorbar": {
             "outlinewidth": 0,
             "ticks": ""
            },
            "type": "choropleth"
           }
          ],
          "contour": [
           {
            "colorbar": {
             "outlinewidth": 0,
             "ticks": ""
            },
            "colorscale": [
             [
              0,
              "#0d0887"
             ],
             [
              0.1111111111111111,
              "#46039f"
             ],
             [
              0.2222222222222222,
              "#7201a8"
             ],
             [
              0.3333333333333333,
              "#9c179e"
             ],
             [
              0.4444444444444444,
              "#bd3786"
             ],
             [
              0.5555555555555556,
              "#d8576b"
             ],
             [
              0.6666666666666666,
              "#ed7953"
             ],
             [
              0.7777777777777778,
              "#fb9f3a"
             ],
             [
              0.8888888888888888,
              "#fdca26"
             ],
             [
              1,
              "#f0f921"
             ]
            ],
            "type": "contour"
           }
          ],
          "contourcarpet": [
           {
            "colorbar": {
             "outlinewidth": 0,
             "ticks": ""
            },
            "type": "contourcarpet"
           }
          ],
          "heatmap": [
           {
            "colorbar": {
             "outlinewidth": 0,
             "ticks": ""
            },
            "colorscale": [
             [
              0,
              "#0d0887"
             ],
             [
              0.1111111111111111,
              "#46039f"
             ],
             [
              0.2222222222222222,
              "#7201a8"
             ],
             [
              0.3333333333333333,
              "#9c179e"
             ],
             [
              0.4444444444444444,
              "#bd3786"
             ],
             [
              0.5555555555555556,
              "#d8576b"
             ],
             [
              0.6666666666666666,
              "#ed7953"
             ],
             [
              0.7777777777777778,
              "#fb9f3a"
             ],
             [
              0.8888888888888888,
              "#fdca26"
             ],
             [
              1,
              "#f0f921"
             ]
            ],
            "type": "heatmap"
           }
          ],
          "heatmapgl": [
           {
            "colorbar": {
             "outlinewidth": 0,
             "ticks": ""
            },
            "colorscale": [
             [
              0,
              "#0d0887"
             ],
             [
              0.1111111111111111,
              "#46039f"
             ],
             [
              0.2222222222222222,
              "#7201a8"
             ],
             [
              0.3333333333333333,
              "#9c179e"
             ],
             [
              0.4444444444444444,
              "#bd3786"
             ],
             [
              0.5555555555555556,
              "#d8576b"
             ],
             [
              0.6666666666666666,
              "#ed7953"
             ],
             [
              0.7777777777777778,
              "#fb9f3a"
             ],
             [
              0.8888888888888888,
              "#fdca26"
             ],
             [
              1,
              "#f0f921"
             ]
            ],
            "type": "heatmapgl"
           }
          ],
          "histogram": [
           {
            "marker": {
             "colorbar": {
              "outlinewidth": 0,
              "ticks": ""
             }
            },
            "type": "histogram"
           }
          ],
          "histogram2d": [
           {
            "colorbar": {
             "outlinewidth": 0,
             "ticks": ""
            },
            "colorscale": [
             [
              0,
              "#0d0887"
             ],
             [
              0.1111111111111111,
              "#46039f"
             ],
             [
              0.2222222222222222,
              "#7201a8"
             ],
             [
              0.3333333333333333,
              "#9c179e"
             ],
             [
              0.4444444444444444,
              "#bd3786"
             ],
             [
              0.5555555555555556,
              "#d8576b"
             ],
             [
              0.6666666666666666,
              "#ed7953"
             ],
             [
              0.7777777777777778,
              "#fb9f3a"
             ],
             [
              0.8888888888888888,
              "#fdca26"
             ],
             [
              1,
              "#f0f921"
             ]
            ],
            "type": "histogram2d"
           }
          ],
          "histogram2dcontour": [
           {
            "colorbar": {
             "outlinewidth": 0,
             "ticks": ""
            },
            "colorscale": [
             [
              0,
              "#0d0887"
             ],
             [
              0.1111111111111111,
              "#46039f"
             ],
             [
              0.2222222222222222,
              "#7201a8"
             ],
             [
              0.3333333333333333,
              "#9c179e"
             ],
             [
              0.4444444444444444,
              "#bd3786"
             ],
             [
              0.5555555555555556,
              "#d8576b"
             ],
             [
              0.6666666666666666,
              "#ed7953"
             ],
             [
              0.7777777777777778,
              "#fb9f3a"
             ],
             [
              0.8888888888888888,
              "#fdca26"
             ],
             [
              1,
              "#f0f921"
             ]
            ],
            "type": "histogram2dcontour"
           }
          ],
          "mesh3d": [
           {
            "colorbar": {
             "outlinewidth": 0,
             "ticks": ""
            },
            "type": "mesh3d"
           }
          ],
          "parcoords": [
           {
            "line": {
             "colorbar": {
              "outlinewidth": 0,
              "ticks": ""
             }
            },
            "type": "parcoords"
           }
          ],
          "scatter": [
           {
            "marker": {
             "colorbar": {
              "outlinewidth": 0,
              "ticks": ""
             }
            },
            "type": "scatter"
           }
          ],
          "scatter3d": [
           {
            "line": {
             "colorbar": {
              "outlinewidth": 0,
              "ticks": ""
             }
            },
            "marker": {
             "colorbar": {
              "outlinewidth": 0,
              "ticks": ""
             }
            },
            "type": "scatter3d"
           }
          ],
          "scattercarpet": [
           {
            "marker": {
             "colorbar": {
              "outlinewidth": 0,
              "ticks": ""
             }
            },
            "type": "scattercarpet"
           }
          ],
          "scattergeo": [
           {
            "marker": {
             "colorbar": {
              "outlinewidth": 0,
              "ticks": ""
             }
            },
            "type": "scattergeo"
           }
          ],
          "scattergl": [
           {
            "marker": {
             "colorbar": {
              "outlinewidth": 0,
              "ticks": ""
             }
            },
            "type": "scattergl"
           }
          ],
          "scattermapbox": [
           {
            "marker": {
             "colorbar": {
              "outlinewidth": 0,
              "ticks": ""
             }
            },
            "type": "scattermapbox"
           }
          ],
          "scatterpolar": [
           {
            "marker": {
             "colorbar": {
              "outlinewidth": 0,
              "ticks": ""
             }
            },
            "type": "scatterpolar"
           }
          ],
          "scatterpolargl": [
           {
            "marker": {
             "colorbar": {
              "outlinewidth": 0,
              "ticks": ""
             }
            },
            "type": "scatterpolargl"
           }
          ],
          "scatterternary": [
           {
            "marker": {
             "colorbar": {
              "outlinewidth": 0,
              "ticks": ""
             }
            },
            "type": "scatterternary"
           }
          ],
          "surface": [
           {
            "colorbar": {
             "outlinewidth": 0,
             "ticks": ""
            },
            "colorscale": [
             [
              0,
              "#0d0887"
             ],
             [
              0.1111111111111111,
              "#46039f"
             ],
             [
              0.2222222222222222,
              "#7201a8"
             ],
             [
              0.3333333333333333,
              "#9c179e"
             ],
             [
              0.4444444444444444,
              "#bd3786"
             ],
             [
              0.5555555555555556,
              "#d8576b"
             ],
             [
              0.6666666666666666,
              "#ed7953"
             ],
             [
              0.7777777777777778,
              "#fb9f3a"
             ],
             [
              0.8888888888888888,
              "#fdca26"
             ],
             [
              1,
              "#f0f921"
             ]
            ],
            "type": "surface"
           }
          ],
          "table": [
           {
            "cells": {
             "fill": {
              "color": "#EBF0F8"
             },
             "line": {
              "color": "white"
             }
            },
            "header": {
             "fill": {
              "color": "#C8D4E3"
             },
             "line": {
              "color": "white"
             }
            },
            "type": "table"
           }
          ]
         },
         "layout": {
          "annotationdefaults": {
           "arrowcolor": "#2a3f5f",
           "arrowhead": 0,
           "arrowwidth": 1
          },
          "colorscale": {
           "diverging": [
            [
             0,
             "#8e0152"
            ],
            [
             0.1,
             "#c51b7d"
            ],
            [
             0.2,
             "#de77ae"
            ],
            [
             0.3,
             "#f1b6da"
            ],
            [
             0.4,
             "#fde0ef"
            ],
            [
             0.5,
             "#f7f7f7"
            ],
            [
             0.6,
             "#e6f5d0"
            ],
            [
             0.7,
             "#b8e186"
            ],
            [
             0.8,
             "#7fbc41"
            ],
            [
             0.9,
             "#4d9221"
            ],
            [
             1,
             "#276419"
            ]
           ],
           "sequential": [
            [
             0,
             "#0d0887"
            ],
            [
             0.1111111111111111,
             "#46039f"
            ],
            [
             0.2222222222222222,
             "#7201a8"
            ],
            [
             0.3333333333333333,
             "#9c179e"
            ],
            [
             0.4444444444444444,
             "#bd3786"
            ],
            [
             0.5555555555555556,
             "#d8576b"
            ],
            [
             0.6666666666666666,
             "#ed7953"
            ],
            [
             0.7777777777777778,
             "#fb9f3a"
            ],
            [
             0.8888888888888888,
             "#fdca26"
            ],
            [
             1,
             "#f0f921"
            ]
           ],
           "sequentialminus": [
            [
             0,
             "#0d0887"
            ],
            [
             0.1111111111111111,
             "#46039f"
            ],
            [
             0.2222222222222222,
             "#7201a8"
            ],
            [
             0.3333333333333333,
             "#9c179e"
            ],
            [
             0.4444444444444444,
             "#bd3786"
            ],
            [
             0.5555555555555556,
             "#d8576b"
            ],
            [
             0.6666666666666666,
             "#ed7953"
            ],
            [
             0.7777777777777778,
             "#fb9f3a"
            ],
            [
             0.8888888888888888,
             "#fdca26"
            ],
            [
             1,
             "#f0f921"
            ]
           ]
          },
          "colorway": [
           "#636efa",
           "#EF553B",
           "#00cc96",
           "#ab63fa",
           "#FFA15A",
           "#19d3f3",
           "#FF6692",
           "#B6E880",
           "#FF97FF",
           "#FECB52"
          ],
          "font": {
           "color": "#2a3f5f"
          },
          "geo": {
           "bgcolor": "white",
           "lakecolor": "white",
           "landcolor": "#E5ECF6",
           "showlakes": true,
           "showland": true,
           "subunitcolor": "white"
          },
          "hoverlabel": {
           "align": "left"
          },
          "hovermode": "closest",
          "mapbox": {
           "style": "light"
          },
          "paper_bgcolor": "white",
          "plot_bgcolor": "#E5ECF6",
          "polar": {
           "angularaxis": {
            "gridcolor": "white",
            "linecolor": "white",
            "ticks": ""
           },
           "bgcolor": "#E5ECF6",
           "radialaxis": {
            "gridcolor": "white",
            "linecolor": "white",
            "ticks": ""
           }
          },
          "scene": {
           "xaxis": {
            "backgroundcolor": "#E5ECF6",
            "gridcolor": "white",
            "gridwidth": 2,
            "linecolor": "white",
            "showbackground": true,
            "ticks": "",
            "zerolinecolor": "white"
           },
           "yaxis": {
            "backgroundcolor": "#E5ECF6",
            "gridcolor": "white",
            "gridwidth": 2,
            "linecolor": "white",
            "showbackground": true,
            "ticks": "",
            "zerolinecolor": "white"
           },
           "zaxis": {
            "backgroundcolor": "#E5ECF6",
            "gridcolor": "white",
            "gridwidth": 2,
            "linecolor": "white",
            "showbackground": true,
            "ticks": "",
            "zerolinecolor": "white"
           }
          },
          "shapedefaults": {
           "line": {
            "color": "#2a3f5f"
           }
          },
          "ternary": {
           "aaxis": {
            "gridcolor": "white",
            "linecolor": "white",
            "ticks": ""
           },
           "baxis": {
            "gridcolor": "white",
            "linecolor": "white",
            "ticks": ""
           },
           "bgcolor": "#E5ECF6",
           "caxis": {
            "gridcolor": "white",
            "linecolor": "white",
            "ticks": ""
           }
          },
          "title": {
           "x": 0.05
          },
          "xaxis": {
           "automargin": true,
           "gridcolor": "white",
           "linecolor": "white",
           "ticks": "",
           "zerolinecolor": "white",
           "zerolinewidth": 2
          },
          "yaxis": {
           "automargin": true,
           "gridcolor": "white",
           "linecolor": "white",
           "ticks": "",
           "zerolinecolor": "white",
           "zerolinewidth": 2
          }
         }
        },
        "xaxis": {
         "autorange": true,
         "range": [
          -0.539923347173427,
          9.539923347173428
         ],
         "type": "linear"
        },
        "yaxis": {
         "autorange": true,
         "range": [
          0.8941424856858595,
          1.2206292921373225
         ],
         "type": "linear"
        }
       }
      },
      "image/png": "[encoded data removed]",
      "text/html": [
       "<div>\n",
       "        \n",
       "        \n",
       "            <div id=\"a0451669-208a-495a-9a26-ba0fa96dee3d\" class=\"plotly-graph-div\" style=\"height:525px; width:100%;\"></div>\n",
       "            <script type=\"text/javascript\">\n",
       "                require([\"plotly\"], function(Plotly) {\n",
       "                    window.PLOTLYENV=window.PLOTLYENV || {};\n",
       "                    \n",
       "                if (document.getElementById(\"a0451669-208a-495a-9a26-ba0fa96dee3d\")) {\n",
       "                    Plotly.newPlot(\n",
       "                        'a0451669-208a-495a-9a26-ba0fa96dee3d',\n",
       "                        [{\"name\": \"velocity\", \"type\": \"scatter\", \"x\": [0, 1, 2, 3, 4, 5, 6, 7, 8, 9], \"y\": [0.9582686050091176, 1.0135975593559923, 0.9709901085511586, 0.960261016531186, 1.1997704128362567, 1.0665731689326075, 1.071003386701016, 0.9150013649869252, 1.0757053267704577, 0.9286009313958398]}, {\"name\": \"estimated_velocity_harmonic\", \"type\": \"scatter\", \"x\": [0, 1, 2, 3, 4, 5, 6, 7, 8, 9], \"y\": [1.0095321440315208, 1.0095321440315208, 1.0095321440315208, 1.0095321440315208, 1.0095321440315208, 1.0095321440315208, 1.0095321440315208, 1.0095321440315208, 1.0095321440315208, 1.0095321440315208]}, {\"name\": \"estimated_velocity_arithmetic\", \"type\": \"scatter\", \"x\": [0, 1, 2, 3, 4, 5, 6, 7, 8, 9], \"y\": [1.0159771881070556, 1.0159771881070556, 1.0159771881070556, 1.0159771881070556, 1.0159771881070556, 1.0159771881070556, 1.0159771881070556, 1.0159771881070556, 1.0159771881070556, 1.0159771881070556]}, {\"name\": \"estimated_velocity_geometric\", \"type\": \"scatter\", \"x\": [0, 1, 2, 3, 4, 5, 6, 7, 8, 9], \"y\": [1.012693620730861, 1.012693620730861, 1.012693620730861, 1.012693620730861, 1.012693620730861, 1.012693620730861, 1.012693620730861, 1.012693620730861, 1.012693620730861, 1.012693620730861]}],\n",
       "                        {\"template\": {\"data\": {\"bar\": [{\"error_x\": {\"color\": \"#2a3f5f\"}, \"error_y\": {\"color\": \"#2a3f5f\"}, \"marker\": {\"line\": {\"color\": \"#E5ECF6\", \"width\": 0.5}}, \"type\": \"bar\"}], \"barpolar\": [{\"marker\": {\"line\": {\"color\": \"#E5ECF6\", \"width\": 0.5}}, \"type\": \"barpolar\"}], \"carpet\": [{\"aaxis\": {\"endlinecolor\": \"#2a3f5f\", \"gridcolor\": \"white\", \"linecolor\": \"white\", \"minorgridcolor\": \"white\", \"startlinecolor\": \"#2a3f5f\"}, \"baxis\": {\"endlinecolor\": \"#2a3f5f\", \"gridcolor\": \"white\", \"linecolor\": \"white\", \"minorgridcolor\": \"white\", \"startlinecolor\": \"#2a3f5f\"}, \"type\": \"carpet\"}], \"choropleth\": [{\"colorbar\": {\"outlinewidth\": 0, \"ticks\": \"\"}, \"type\": \"choropleth\"}], \"contour\": [{\"colorbar\": {\"outlinewidth\": 0, \"ticks\": \"\"}, \"colorscale\": [[0.0, \"#0d0887\"], [0.1111111111111111, \"#46039f\"], [0.2222222222222222, \"#7201a8\"], [0.3333333333333333, \"#9c179e\"], [0.4444444444444444, \"#bd3786\"], [0.5555555555555556, \"#d8576b\"], [0.6666666666666666, \"#ed7953\"], [0.7777777777777778, \"#fb9f3a\"], [0.8888888888888888, \"#fdca26\"], [1.0, \"#f0f921\"]], \"type\": \"contour\"}], \"contourcarpet\": [{\"colorbar\": {\"outlinewidth\": 0, \"ticks\": \"\"}, \"type\": \"contourcarpet\"}], \"heatmap\": [{\"colorbar\": {\"outlinewidth\": 0, \"ticks\": \"\"}, \"colorscale\": [[0.0, \"#0d0887\"], [0.1111111111111111, \"#46039f\"], [0.2222222222222222, \"#7201a8\"], [0.3333333333333333, \"#9c179e\"], [0.4444444444444444, \"#bd3786\"], [0.5555555555555556, \"#d8576b\"], [0.6666666666666666, \"#ed7953\"], [0.7777777777777778, \"#fb9f3a\"], [0.8888888888888888, \"#fdca26\"], [1.0, \"#f0f921\"]], \"type\": \"heatmap\"}], \"heatmapgl\": [{\"colorbar\": {\"outlinewidth\": 0, \"ticks\": \"\"}, \"colorscale\": [[0.0, \"#0d0887\"], [0.1111111111111111, \"#46039f\"], [0.2222222222222222, \"#7201a8\"], [0.3333333333333333, \"#9c179e\"], [0.4444444444444444, \"#bd3786\"], [0.5555555555555556, \"#d8576b\"], [0.6666666666666666, \"#ed7953\"], [0.7777777777777778, \"#fb9f3a\"], [0.8888888888888888, \"#fdca26\"], [1.0, \"#f0f921\"]], \"type\": \"heatmapgl\"}], \"histogram\": [{\"marker\": {\"colorbar\": {\"outlinewidth\": 0, \"ticks\": \"\"}}, \"type\": \"histogram\"}], \"histogram2d\": [{\"colorbar\": {\"outlinewidth\": 0, \"ticks\": \"\"}, \"colorscale\": [[0.0, \"#0d0887\"], [0.1111111111111111, \"#46039f\"], [0.2222222222222222, \"#7201a8\"], [0.3333333333333333, \"#9c179e\"], [0.4444444444444444, \"#bd3786\"], [0.5555555555555556, \"#d8576b\"], [0.6666666666666666, \"#ed7953\"], [0.7777777777777778, \"#fb9f3a\"], [0.8888888888888888, \"#fdca26\"], [1.0, \"#f0f921\"]], \"type\": \"histogram2d\"}], \"histogram2dcontour\": [{\"colorbar\": {\"outlinewidth\": 0, \"ticks\": \"\"}, \"colorscale\": [[0.0, \"#0d0887\"], [0.1111111111111111, \"#46039f\"], [0.2222222222222222, \"#7201a8\"], [0.3333333333333333, \"#9c179e\"], [0.4444444444444444, \"#bd3786\"], [0.5555555555555556, \"#d8576b\"], [0.6666666666666666, \"#ed7953\"], [0.7777777777777778, \"#fb9f3a\"], [0.8888888888888888, \"#fdca26\"], [1.0, \"#f0f921\"]], \"type\": \"histogram2dcontour\"}], \"mesh3d\": [{\"colorbar\": {\"outlinewidth\": 0, \"ticks\": \"\"}, \"type\": \"mesh3d\"}], \"parcoords\": [{\"line\": {\"colorbar\": {\"outlinewidth\": 0, \"ticks\": \"\"}}, \"type\": \"parcoords\"}], \"scatter\": [{\"marker\": {\"colorbar\": {\"outlinewidth\": 0, \"ticks\": \"\"}}, \"type\": \"scatter\"}], \"scatter3d\": [{\"line\": {\"colorbar\": {\"outlinewidth\": 0, \"ticks\": \"\"}}, \"marker\": {\"colorbar\": {\"outlinewidth\": 0, \"ticks\": \"\"}}, \"type\": \"scatter3d\"}], \"scattercarpet\": [{\"marker\": {\"colorbar\": {\"outlinewidth\": 0, \"ticks\": \"\"}}, \"type\": \"scattercarpet\"}], \"scattergeo\": [{\"marker\": {\"colorbar\": {\"outlinewidth\": 0, \"ticks\": \"\"}}, \"type\": \"scattergeo\"}], \"scattergl\": [{\"marker\": {\"colorbar\": {\"outlinewidth\": 0, \"ticks\": \"\"}}, \"type\": \"scattergl\"}], \"scattermapbox\": [{\"marker\": {\"colorbar\": {\"outlinewidth\": 0, \"ticks\": \"\"}}, \"type\": \"scattermapbox\"}], \"scatterpolar\": [{\"marker\": {\"colorbar\": {\"outlinewidth\": 0, \"ticks\": \"\"}}, \"type\": \"scatterpolar\"}], \"scatterpolargl\": [{\"marker\": {\"colorbar\": {\"outlinewidth\": 0, \"ticks\": \"\"}}, \"type\": \"scatterpolargl\"}], \"scatterternary\": [{\"marker\": {\"colorbar\": {\"outlinewidth\": 0, \"ticks\": \"\"}}, \"type\": \"scatterternary\"}], \"surface\": [{\"colorbar\": {\"outlinewidth\": 0, \"ticks\": \"\"}, \"colorscale\": [[0.0, \"#0d0887\"], [0.1111111111111111, \"#46039f\"], [0.2222222222222222, \"#7201a8\"], [0.3333333333333333, \"#9c179e\"], [0.4444444444444444, \"#bd3786\"], [0.5555555555555556, \"#d8576b\"], [0.6666666666666666, \"#ed7953\"], [0.7777777777777778, \"#fb9f3a\"], [0.8888888888888888, \"#fdca26\"], [1.0, \"#f0f921\"]], \"type\": \"surface\"}], \"table\": [{\"cells\": {\"fill\": {\"color\": \"#EBF0F8\"}, \"line\": {\"color\": \"white\"}}, \"header\": {\"fill\": {\"color\": \"#C8D4E3\"}, \"line\": {\"color\": \"white\"}}, \"type\": \"table\"}]}, \"layout\": {\"annotationdefaults\": {\"arrowcolor\": \"#2a3f5f\", \"arrowhead\": 0, \"arrowwidth\": 1}, \"colorscale\": {\"diverging\": [[0, \"#8e0152\"], [0.1, \"#c51b7d\"], [0.2, \"#de77ae\"], [0.3, \"#f1b6da\"], [0.4, \"#fde0ef\"], [0.5, \"#f7f7f7\"], [0.6, \"#e6f5d0\"], [0.7, \"#b8e186\"], [0.8, \"#7fbc41\"], [0.9, \"#4d9221\"], [1, \"#276419\"]], \"sequential\": [[0.0, \"#0d0887\"], [0.1111111111111111, \"#46039f\"], [0.2222222222222222, \"#7201a8\"], [0.3333333333333333, \"#9c179e\"], [0.4444444444444444, \"#bd3786\"], [0.5555555555555556, \"#d8576b\"], [0.6666666666666666, \"#ed7953\"], [0.7777777777777778, \"#fb9f3a\"], [0.8888888888888888, \"#fdca26\"], [1.0, \"#f0f921\"]], \"sequentialminus\": [[0.0, \"#0d0887\"], [0.1111111111111111, \"#46039f\"], [0.2222222222222222, \"#7201a8\"], [0.3333333333333333, \"#9c179e\"], [0.4444444444444444, \"#bd3786\"], [0.5555555555555556, \"#d8576b\"], [0.6666666666666666, \"#ed7953\"], [0.7777777777777778, \"#fb9f3a\"], [0.8888888888888888, \"#fdca26\"], [1.0, \"#f0f921\"]]}, \"colorway\": [\"#636efa\", \"#EF553B\", \"#00cc96\", \"#ab63fa\", \"#FFA15A\", \"#19d3f3\", \"#FF6692\", \"#B6E880\", \"#FF97FF\", \"#FECB52\"], \"font\": {\"color\": \"#2a3f5f\"}, \"geo\": {\"bgcolor\": \"white\", \"lakecolor\": \"white\", \"landcolor\": \"#E5ECF6\", \"showlakes\": true, \"showland\": true, \"subunitcolor\": \"white\"}, \"hoverlabel\": {\"align\": \"left\"}, \"hovermode\": \"closest\", \"mapbox\": {\"style\": \"light\"}, \"paper_bgcolor\": \"white\", \"plot_bgcolor\": \"#E5ECF6\", \"polar\": {\"angularaxis\": {\"gridcolor\": \"white\", \"linecolor\": \"white\", \"ticks\": \"\"}, \"bgcolor\": \"#E5ECF6\", \"radialaxis\": {\"gridcolor\": \"white\", \"linecolor\": \"white\", \"ticks\": \"\"}}, \"scene\": {\"xaxis\": {\"backgroundcolor\": \"#E5ECF6\", \"gridcolor\": \"white\", \"gridwidth\": 2, \"linecolor\": \"white\", \"showbackground\": true, \"ticks\": \"\", \"zerolinecolor\": \"white\"}, \"yaxis\": {\"backgroundcolor\": \"#E5ECF6\", \"gridcolor\": \"white\", \"gridwidth\": 2, \"linecolor\": \"white\", \"showbackground\": true, \"ticks\": \"\", \"zerolinecolor\": \"white\"}, \"zaxis\": {\"backgroundcolor\": \"#E5ECF6\", \"gridcolor\": \"white\", \"gridwidth\": 2, \"linecolor\": \"white\", \"showbackground\": true, \"ticks\": \"\", \"zerolinecolor\": \"white\"}}, \"shapedefaults\": {\"line\": {\"color\": \"#2a3f5f\"}}, \"ternary\": {\"aaxis\": {\"gridcolor\": \"white\", \"linecolor\": \"white\", \"ticks\": \"\"}, \"baxis\": {\"gridcolor\": \"white\", \"linecolor\": \"white\", \"ticks\": \"\"}, \"bgcolor\": \"#E5ECF6\", \"caxis\": {\"gridcolor\": \"white\", \"linecolor\": \"white\", \"ticks\": \"\"}}, \"title\": {\"x\": 0.05}, \"xaxis\": {\"automargin\": true, \"gridcolor\": \"white\", \"linecolor\": \"white\", \"ticks\": \"\", \"zerolinecolor\": \"white\", \"zerolinewidth\": 2}, \"yaxis\": {\"automargin\": true, \"gridcolor\": \"white\", \"linecolor\": \"white\", \"ticks\": \"\", \"zerolinecolor\": \"white\", \"zerolinewidth\": 2}}}},\n",
       "                        {\"responsive\": true}\n",
       "                    ).then(function(){\n",
       "                            \n",
       "var gd = document.getElementById('a0451669-208a-495a-9a26-ba0fa96dee3d');\n",
       "var x = new MutationObserver(function (mutations, observer) {{\n",
       "        var display = window.getComputedStyle(gd).display;\n",
       "        if (!display || display === 'none') {{\n",
       "            console.log([gd, 'removed!']);\n",
       "            Plotly.purge(gd);\n",
       "            observer.disconnect();\n",
       "        }}\n",
       "}});\n",
       "\n",
       "// Listen for the removal of the full notebook cells\n",
       "var notebookContainer = gd.closest('#notebook-container');\n",
       "if (notebookContainer) {{\n",
       "    x.observe(notebookContainer, {childList: true});\n",
       "}}\n",
       "\n",
       "// Listen for the clearing of the current output cell\n",
       "var outputEl = gd.closest('.output');\n",
       "if (outputEl) {{\n",
       "    x.observe(outputEl, {childList: true});\n",
       "}}\n",
       "\n",
       "                        })\n",
       "                };\n",
       "                });\n",
       "            </script>\n",
       "        </div>"
      ]
     },
     "metadata": {},
     "output_type": "display_data"
    }
   ],
   "source": [
    "iplot(go.Figure(data=[go.Scatter(x=list(range(n)),y=v_i,name='velocity'),\n",
    "                     go.Scatter(x=list(range(n)),y=[harmonic_mean_v for i in range(n)],name='estimated_velocity_harmonic'),\n",
    "                     go.Scatter(x=list(range(n)),y=[arithmetic_mean_v for i in range(n)],name='estimated_velocity_arithmetic'),\n",
    "                       go.Scatter(x=list(range(n)),y=[geometric_mean_v for i in range(n)],name='estimated_velocity_geometric')\n",
    "                     ]))"
   ]
  },
  {
   "cell_type": "code",
   "execution_count": 143,
   "metadata": {},
   "outputs": [
    {
     "data": {
      "text/plain": [
       "0.015562206412043693"
      ]
     },
     "execution_count": 143,
     "metadata": {},
     "output_type": "execute_result"
    }
   ],
   "source": [
    "rms(v_i - harmonic_mean_v)"
   ]
  },
  {
   "cell_type": "code",
   "execution_count": 144,
   "metadata": {},
   "outputs": [
    {
     "data": {
      "text/plain": [
       "0.015093337734424039"
      ]
     },
     "execution_count": 144,
     "metadata": {},
     "output_type": "execute_result"
    }
   ],
   "source": [
    "rms(v_i - arithmetic_mean_v)"
   ]
  },
  {
   "cell_type": "markdown",
   "metadata": {},
   "source": [
    "# Fixed time example"
   ]
  },
  {
   "cell_type": "code",
   "execution_count": 164,
   "metadata": {},
   "outputs": [],
   "source": [
    "n = 100\n",
    "mu= 10\n",
    "sigma=1\n",
    "\n",
    "x_i = sigma * np.random.randn(n) + mu\n",
    "t_i = 10\n",
    "v_i = x_i/t_i\n",
    "\n",
    "harmonic_mean_v = hmean(v_i)\n",
    "arithmetic_mean_v = np.mean(v_i)\n",
    "geometric_mean_v = gmean(v_i)"
   ]
  },
  {
   "cell_type": "code",
   "execution_count": 165,
   "metadata": {},
   "outputs": [
    {
     "data": {
      "application/vnd.plotly.v1+json": {
       "config": {
        "linkText": "Export to plot.ly",
        "plotlyServerURL": "https://plot.ly",
        "showLink": false
       },
       "data": [
        {
         "name": "velocity",
         "type": "scatter",
         "x": [
          0,
          1,
          2,
          3,
          4,
          5,
          6,
          7,
          8,
          9,
          10,
          11,
          12,
          13,
          14,
          15,
          16,
          17,
          18,
          19,
          20,
          21,
          22,
          23,
          24,
          25,
          26,
          27,
          28,
          29,
          30,
          31,
          32,
          33,
          34,
          35,
          36,
          37,
          38,
          39,
          40,
          41,
          42,
          43,
          44,
          45,
          46,
          47,
          48,
          49,
          50,
          51,
          52,
          53,
          54,
          55,
          56,
          57,
          58,
          59,
          60,
          61,
          62,
          63,
          64,
          65,
          66,
          67,
          68,
          69,
          70,
          71,
          72,
          73,
          74,
          75,
          76,
          77,
          78,
          79,
          80,
          81,
          82,
          83,
          84,
          85,
          86,
          87,
          88,
          89,
          90,
          91,
          92,
          93,
          94,
          95,
          96,
          97,
          98,
          99
         ],
         "y": [
          0.9618986484537271,
          0.9713877052067879,
          0.9491441628899733,
          1.0114802158842204,
          0.8250011344448552,
          0.9495156444527681,
          1.1979512027927268,
          1.0545879860407048,
          1.1103475744337636,
          0.956504095895316,
          1.0576795504562866,
          1.062377682220457,
          1.0955266973012097,
          1.1204201152921651,
          1.0867659806260448,
          0.8562293154408493,
          0.8204236312784584,
          1.028885739850708,
          0.9787843915201135,
          0.993517991108656,
          1.1138102335757052,
          0.9631328008636204,
          0.8709596805067159,
          1.0109382743096773,
          1.1028170559042203,
          0.8511329338983682,
          1.1059110902659062,
          0.9066367742000672,
          1.0012063598400562,
          1.1471820818396559,
          0.9831473166425735,
          0.8826005099334088,
          0.9319571866475043,
          1.0115417098747346,
          1.1236508309469322,
          0.9231050062690439,
          1.0733742045659371,
          1.1941339743385395,
          0.9727281311051691,
          0.9627195954728295,
          0.8888094910036074,
          0.8680294472309512,
          0.8995016906078013,
          1.0386613132590836,
          1.0404175836005307,
          0.9901576743190195,
          1.0106585297204238,
          1.1815709065082873,
          1.012883763797224,
          0.8784881497817351,
          0.8110800076456302,
          0.9550306204867434,
          1.0781607582895643,
          1.130381060240118,
          1.1230386702866555,
          0.9613755211949602,
          0.9349108731259348,
          1.0548952576883346,
          1.0543292876080317,
          0.9784804387401038,
          1.0881747637805028,
          1.0901662059595925,
          0.9932536331627645,
          1.075647601537256,
          1.1414877498059555,
          0.9988164915871109,
          1.1440605302730091,
          1.0830654013083099,
          1.0246915463192667,
          0.9933675225127306,
          1.0350904175439453,
          0.9236325422491678,
          1.0781057324348182,
          0.969393510579704,
          0.958231926843105,
          1.1147247598154135,
          1.1582601837357245,
          0.9101159325505401,
          1.203414826768663,
          1.0937412160622002,
          1.052617343920367,
          0.9920742149020993,
          0.9545709063343677,
          0.981377892659823,
          0.9482649785049455,
          0.9118333064780938,
          0.9235271830771394,
          0.8689310675276708,
          1.005878712880056,
          1.0988504503647312,
          1.072824619120968,
          0.9182310134427434,
          1.1798066888805399,
          1.0735408488515907,
          0.9852915474732775,
          0.929187378535944,
          0.9533008377890309,
          1.1540250602239706,
          0.9520731668884441,
          0.797287202390119
         ]
        },
        {
         "name": "estimated_velocity_harmonic",
         "type": "scatter",
         "x": [
          0,
          1,
          2,
          3,
          4,
          5,
          6,
          7,
          8,
          9,
          10,
          11,
          12,
          13,
          14,
          15,
          16,
          17,
          18,
          19,
          20,
          21,
          22,
          23,
          24,
          25,
          26,
          27,
          28,
          29,
          30,
          31,
          32,
          33,
          34,
          35,
          36,
          37,
          38,
          39,
          40,
          41,
          42,
          43,
          44,
          45,
          46,
          47,
          48,
          49,
          50,
          51,
          52,
          53,
          54,
          55,
          56,
          57,
          58,
          59,
          60,
          61,
          62,
          63,
          64,
          65,
          66,
          67,
          68,
          69,
          70,
          71,
          72,
          73,
          74,
          75,
          76,
          77,
          78,
          79,
          80,
          81,
          82,
          83,
          84,
          85,
          86,
          87,
          88,
          89,
          90,
          91,
          92,
          93,
          94,
          95,
          96,
          97,
          98,
          99
         ],
         "y": [
          1.0003550991436914,
          1.0003550991436914,
          1.0003550991436914,
          1.0003550991436914,
          1.0003550991436914,
          1.0003550991436914,
          1.0003550991436914,
          1.0003550991436914,
          1.0003550991436914,
          1.0003550991436914,
          1.0003550991436914,
          1.0003550991436914,
          1.0003550991436914,
          1.0003550991436914,
          1.0003550991436914,
          1.0003550991436914,
          1.0003550991436914,
          1.0003550991436914,
          1.0003550991436914,
          1.0003550991436914,
          1.0003550991436914,
          1.0003550991436914,
          1.0003550991436914,
          1.0003550991436914,
          1.0003550991436914,
          1.0003550991436914,
          1.0003550991436914,
          1.0003550991436914,
          1.0003550991436914,
          1.0003550991436914,
          1.0003550991436914,
          1.0003550991436914,
          1.0003550991436914,
          1.0003550991436914,
          1.0003550991436914,
          1.0003550991436914,
          1.0003550991436914,
          1.0003550991436914,
          1.0003550991436914,
          1.0003550991436914,
          1.0003550991436914,
          1.0003550991436914,
          1.0003550991436914,
          1.0003550991436914,
          1.0003550991436914,
          1.0003550991436914,
          1.0003550991436914,
          1.0003550991436914,
          1.0003550991436914,
          1.0003550991436914,
          1.0003550991436914,
          1.0003550991436914,
          1.0003550991436914,
          1.0003550991436914,
          1.0003550991436914,
          1.0003550991436914,
          1.0003550991436914,
          1.0003550991436914,
          1.0003550991436914,
          1.0003550991436914,
          1.0003550991436914,
          1.0003550991436914,
          1.0003550991436914,
          1.0003550991436914,
          1.0003550991436914,
          1.0003550991436914,
          1.0003550991436914,
          1.0003550991436914,
          1.0003550991436914,
          1.0003550991436914,
          1.0003550991436914,
          1.0003550991436914,
          1.0003550991436914,
          1.0003550991436914,
          1.0003550991436914,
          1.0003550991436914,
          1.0003550991436914,
          1.0003550991436914,
          1.0003550991436914,
          1.0003550991436914,
          1.0003550991436914,
          1.0003550991436914,
          1.0003550991436914,
          1.0003550991436914,
          1.0003550991436914,
          1.0003550991436914,
          1.0003550991436914,
          1.0003550991436914,
          1.0003550991436914,
          1.0003550991436914,
          1.0003550991436914,
          1.0003550991436914,
          1.0003550991436914,
          1.0003550991436914,
          1.0003550991436914,
          1.0003550991436914,
          1.0003550991436914,
          1.0003550991436914,
          1.0003550991436914,
          1.0003550991436914
         ]
        },
        {
         "name": "estimated_velocity_arithmetic",
         "type": "scatter",
         "x": [
          0,
          1,
          2,
          3,
          4,
          5,
          6,
          7,
          8,
          9,
          10,
          11,
          12,
          13,
          14,
          15,
          16,
          17,
          18,
          19,
          20,
          21,
          22,
          23,
          24,
          25,
          26,
          27,
          28,
          29,
          30,
          31,
          32,
          33,
          34,
          35,
          36,
          37,
          38,
          39,
          40,
          41,
          42,
          43,
          44,
          45,
          46,
          47,
          48,
          49,
          50,
          51,
          52,
          53,
          54,
          55,
          56,
          57,
          58,
          59,
          60,
          61,
          62,
          63,
          64,
          65,
          66,
          67,
          68,
          69,
          70,
          71,
          72,
          73,
          74,
          75,
          76,
          77,
          78,
          79,
          80,
          81,
          82,
          83,
          84,
          85,
          86,
          87,
          88,
          89,
          90,
          91,
          92,
          93,
          94,
          95,
          96,
          97,
          98,
          99
         ],
         "y": [
          1.009429131768009,
          1.009429131768009,
          1.009429131768009,
          1.009429131768009,
          1.009429131768009,
          1.009429131768009,
          1.009429131768009,
          1.009429131768009,
          1.009429131768009,
          1.009429131768009,
          1.009429131768009,
          1.009429131768009,
          1.009429131768009,
          1.009429131768009,
          1.009429131768009,
          1.009429131768009,
          1.009429131768009,
          1.009429131768009,
          1.009429131768009,
          1.009429131768009,
          1.009429131768009,
          1.009429131768009,
          1.009429131768009,
          1.009429131768009,
          1.009429131768009,
          1.009429131768009,
          1.009429131768009,
          1.009429131768009,
          1.009429131768009,
          1.009429131768009,
          1.009429131768009,
          1.009429131768009,
          1.009429131768009,
          1.009429131768009,
          1.009429131768009,
          1.009429131768009,
          1.009429131768009,
          1.009429131768009,
          1.009429131768009,
          1.009429131768009,
          1.009429131768009,
          1.009429131768009,
          1.009429131768009,
          1.009429131768009,
          1.009429131768009,
          1.009429131768009,
          1.009429131768009,
          1.009429131768009,
          1.009429131768009,
          1.009429131768009,
          1.009429131768009,
          1.009429131768009,
          1.009429131768009,
          1.009429131768009,
          1.009429131768009,
          1.009429131768009,
          1.009429131768009,
          1.009429131768009,
          1.009429131768009,
          1.009429131768009,
          1.009429131768009,
          1.009429131768009,
          1.009429131768009,
          1.009429131768009,
          1.009429131768009,
          1.009429131768009,
          1.009429131768009,
          1.009429131768009,
          1.009429131768009,
          1.009429131768009,
          1.009429131768009,
          1.009429131768009,
          1.009429131768009,
          1.009429131768009,
          1.009429131768009,
          1.009429131768009,
          1.009429131768009,
          1.009429131768009,
          1.009429131768009,
          1.009429131768009,
          1.009429131768009,
          1.009429131768009,
          1.009429131768009,
          1.009429131768009,
          1.009429131768009,
          1.009429131768009,
          1.009429131768009,
          1.009429131768009,
          1.009429131768009,
          1.009429131768009,
          1.009429131768009,
          1.009429131768009,
          1.009429131768009,
          1.009429131768009,
          1.009429131768009,
          1.009429131768009,
          1.009429131768009,
          1.009429131768009,
          1.009429131768009,
          1.009429131768009
         ]
        },
        {
         "name": "estimated_velocity_geometric",
         "type": "scatter",
         "x": [
          0,
          1,
          2,
          3,
          4,
          5,
          6,
          7,
          8,
          9,
          10,
          11,
          12,
          13,
          14,
          15,
          16,
          17,
          18,
          19,
          20,
          21,
          22,
          23,
          24,
          25,
          26,
          27,
          28,
          29,
          30,
          31,
          32,
          33,
          34,
          35,
          36,
          37,
          38,
          39,
          40,
          41,
          42,
          43,
          44,
          45,
          46,
          47,
          48,
          49,
          50,
          51,
          52,
          53,
          54,
          55,
          56,
          57,
          58,
          59,
          60,
          61,
          62,
          63,
          64,
          65,
          66,
          67,
          68,
          69,
          70,
          71,
          72,
          73,
          74,
          75,
          76,
          77,
          78,
          79,
          80,
          81,
          82,
          83,
          84,
          85,
          86,
          87,
          88,
          89,
          90,
          91,
          92,
          93,
          94,
          95,
          96,
          97,
          98,
          99
         ],
         "y": [
          1.0049128814790433,
          1.0049128814790433,
          1.0049128814790433,
          1.0049128814790433,
          1.0049128814790433,
          1.0049128814790433,
          1.0049128814790433,
          1.0049128814790433,
          1.0049128814790433,
          1.0049128814790433,
          1.0049128814790433,
          1.0049128814790433,
          1.0049128814790433,
          1.0049128814790433,
          1.0049128814790433,
          1.0049128814790433,
          1.0049128814790433,
          1.0049128814790433,
          1.0049128814790433,
          1.0049128814790433,
          1.0049128814790433,
          1.0049128814790433,
          1.0049128814790433,
          1.0049128814790433,
          1.0049128814790433,
          1.0049128814790433,
          1.0049128814790433,
          1.0049128814790433,
          1.0049128814790433,
          1.0049128814790433,
          1.0049128814790433,
          1.0049128814790433,
          1.0049128814790433,
          1.0049128814790433,
          1.0049128814790433,
          1.0049128814790433,
          1.0049128814790433,
          1.0049128814790433,
          1.0049128814790433,
          1.0049128814790433,
          1.0049128814790433,
          1.0049128814790433,
          1.0049128814790433,
          1.0049128814790433,
          1.0049128814790433,
          1.0049128814790433,
          1.0049128814790433,
          1.0049128814790433,
          1.0049128814790433,
          1.0049128814790433,
          1.0049128814790433,
          1.0049128814790433,
          1.0049128814790433,
          1.0049128814790433,
          1.0049128814790433,
          1.0049128814790433,
          1.0049128814790433,
          1.0049128814790433,
          1.0049128814790433,
          1.0049128814790433,
          1.0049128814790433,
          1.0049128814790433,
          1.0049128814790433,
          1.0049128814790433,
          1.0049128814790433,
          1.0049128814790433,
          1.0049128814790433,
          1.0049128814790433,
          1.0049128814790433,
          1.0049128814790433,
          1.0049128814790433,
          1.0049128814790433,
          1.0049128814790433,
          1.0049128814790433,
          1.0049128814790433,
          1.0049128814790433,
          1.0049128814790433,
          1.0049128814790433,
          1.0049128814790433,
          1.0049128814790433,
          1.0049128814790433,
          1.0049128814790433,
          1.0049128814790433,
          1.0049128814790433,
          1.0049128814790433,
          1.0049128814790433,
          1.0049128814790433,
          1.0049128814790433,
          1.0049128814790433,
          1.0049128814790433,
          1.0049128814790433,
          1.0049128814790433,
          1.0049128814790433,
          1.0049128814790433,
          1.0049128814790433,
          1.0049128814790433,
          1.0049128814790433,
          1.0049128814790433,
          1.0049128814790433,
          1.0049128814790433
         ]
        }
       ],
       "layout": {
        "autosize": true,
        "template": {
         "data": {
          "bar": [
           {
            "error_x": {
             "color": "#2a3f5f"
            },
            "error_y": {
             "color": "#2a3f5f"
            },
            "marker": {
             "line": {
              "color": "#E5ECF6",
              "width": 0.5
             }
            },
            "type": "bar"
           }
          ],
          "barpolar": [
           {
            "marker": {
             "line": {
              "color": "#E5ECF6",
              "width": 0.5
             }
            },
            "type": "barpolar"
           }
          ],
          "carpet": [
           {
            "aaxis": {
             "endlinecolor": "#2a3f5f",
             "gridcolor": "white",
             "linecolor": "white",
             "minorgridcolor": "white",
             "startlinecolor": "#2a3f5f"
            },
            "baxis": {
             "endlinecolor": "#2a3f5f",
             "gridcolor": "white",
             "linecolor": "white",
             "minorgridcolor": "white",
             "startlinecolor": "#2a3f5f"
            },
            "type": "carpet"
           }
          ],
          "choropleth": [
           {
            "colorbar": {
             "outlinewidth": 0,
             "ticks": ""
            },
            "type": "choropleth"
           }
          ],
          "contour": [
           {
            "colorbar": {
             "outlinewidth": 0,
             "ticks": ""
            },
            "colorscale": [
             [
              0,
              "#0d0887"
             ],
             [
              0.1111111111111111,
              "#46039f"
             ],
             [
              0.2222222222222222,
              "#7201a8"
             ],
             [
              0.3333333333333333,
              "#9c179e"
             ],
             [
              0.4444444444444444,
              "#bd3786"
             ],
             [
              0.5555555555555556,
              "#d8576b"
             ],
             [
              0.6666666666666666,
              "#ed7953"
             ],
             [
              0.7777777777777778,
              "#fb9f3a"
             ],
             [
              0.8888888888888888,
              "#fdca26"
             ],
             [
              1,
              "#f0f921"
             ]
            ],
            "type": "contour"
           }
          ],
          "contourcarpet": [
           {
            "colorbar": {
             "outlinewidth": 0,
             "ticks": ""
            },
            "type": "contourcarpet"
           }
          ],
          "heatmap": [
           {
            "colorbar": {
             "outlinewidth": 0,
             "ticks": ""
            },
            "colorscale": [
             [
              0,
              "#0d0887"
             ],
             [
              0.1111111111111111,
              "#46039f"
             ],
             [
              0.2222222222222222,
              "#7201a8"
             ],
             [
              0.3333333333333333,
              "#9c179e"
             ],
             [
              0.4444444444444444,
              "#bd3786"
             ],
             [
              0.5555555555555556,
              "#d8576b"
             ],
             [
              0.6666666666666666,
              "#ed7953"
             ],
             [
              0.7777777777777778,
              "#fb9f3a"
             ],
             [
              0.8888888888888888,
              "#fdca26"
             ],
             [
              1,
              "#f0f921"
             ]
            ],
            "type": "heatmap"
           }
          ],
          "heatmapgl": [
           {
            "colorbar": {
             "outlinewidth": 0,
             "ticks": ""
            },
            "colorscale": [
             [
              0,
              "#0d0887"
             ],
             [
              0.1111111111111111,
              "#46039f"
             ],
             [
              0.2222222222222222,
              "#7201a8"
             ],
             [
              0.3333333333333333,
              "#9c179e"
             ],
             [
              0.4444444444444444,
              "#bd3786"
             ],
             [
              0.5555555555555556,
              "#d8576b"
             ],
             [
              0.6666666666666666,
              "#ed7953"
             ],
             [
              0.7777777777777778,
              "#fb9f3a"
             ],
             [
              0.8888888888888888,
              "#fdca26"
             ],
             [
              1,
              "#f0f921"
             ]
            ],
            "type": "heatmapgl"
           }
          ],
          "histogram": [
           {
            "marker": {
             "colorbar": {
              "outlinewidth": 0,
              "ticks": ""
             }
            },
            "type": "histogram"
           }
          ],
          "histogram2d": [
           {
            "colorbar": {
             "outlinewidth": 0,
             "ticks": ""
            },
            "colorscale": [
             [
              0,
              "#0d0887"
             ],
             [
              0.1111111111111111,
              "#46039f"
             ],
             [
              0.2222222222222222,
              "#7201a8"
             ],
             [
              0.3333333333333333,
              "#9c179e"
             ],
             [
              0.4444444444444444,
              "#bd3786"
             ],
             [
              0.5555555555555556,
              "#d8576b"
             ],
             [
              0.6666666666666666,
              "#ed7953"
             ],
             [
              0.7777777777777778,
              "#fb9f3a"
             ],
             [
              0.8888888888888888,
              "#fdca26"
             ],
             [
              1,
              "#f0f921"
             ]
            ],
            "type": "histogram2d"
           }
          ],
          "histogram2dcontour": [
           {
            "colorbar": {
             "outlinewidth": 0,
             "ticks": ""
            },
            "colorscale": [
             [
              0,
              "#0d0887"
             ],
             [
              0.1111111111111111,
              "#46039f"
             ],
             [
              0.2222222222222222,
              "#7201a8"
             ],
             [
              0.3333333333333333,
              "#9c179e"
             ],
             [
              0.4444444444444444,
              "#bd3786"
             ],
             [
              0.5555555555555556,
              "#d8576b"
             ],
             [
              0.6666666666666666,
              "#ed7953"
             ],
             [
              0.7777777777777778,
              "#fb9f3a"
             ],
             [
              0.8888888888888888,
              "#fdca26"
             ],
             [
              1,
              "#f0f921"
             ]
            ],
            "type": "histogram2dcontour"
           }
          ],
          "mesh3d": [
           {
            "colorbar": {
             "outlinewidth": 0,
             "ticks": ""
            },
            "type": "mesh3d"
           }
          ],
          "parcoords": [
           {
            "line": {
             "colorbar": {
              "outlinewidth": 0,
              "ticks": ""
             }
            },
            "type": "parcoords"
           }
          ],
          "scatter": [
           {
            "marker": {
             "colorbar": {
              "outlinewidth": 0,
              "ticks": ""
             }
            },
            "type": "scatter"
           }
          ],
          "scatter3d": [
           {
            "line": {
             "colorbar": {
              "outlinewidth": 0,
              "ticks": ""
             }
            },
            "marker": {
             "colorbar": {
              "outlinewidth": 0,
              "ticks": ""
             }
            },
            "type": "scatter3d"
           }
          ],
          "scattercarpet": [
           {
            "marker": {
             "colorbar": {
              "outlinewidth": 0,
              "ticks": ""
             }
            },
            "type": "scattercarpet"
           }
          ],
          "scattergeo": [
           {
            "marker": {
             "colorbar": {
              "outlinewidth": 0,
              "ticks": ""
             }
            },
            "type": "scattergeo"
           }
          ],
          "scattergl": [
           {
            "marker": {
             "colorbar": {
              "outlinewidth": 0,
              "ticks": ""
             }
            },
            "type": "scattergl"
           }
          ],
          "scattermapbox": [
           {
            "marker": {
             "colorbar": {
              "outlinewidth": 0,
              "ticks": ""
             }
            },
            "type": "scattermapbox"
           }
          ],
          "scatterpolar": [
           {
            "marker": {
             "colorbar": {
              "outlinewidth": 0,
              "ticks": ""
             }
            },
            "type": "scatterpolar"
           }
          ],
          "scatterpolargl": [
           {
            "marker": {
             "colorbar": {
              "outlinewidth": 0,
              "ticks": ""
             }
            },
            "type": "scatterpolargl"
           }
          ],
          "scatterternary": [
           {
            "marker": {
             "colorbar": {
              "outlinewidth": 0,
              "ticks": ""
             }
            },
            "type": "scatterternary"
           }
          ],
          "surface": [
           {
            "colorbar": {
             "outlinewidth": 0,
             "ticks": ""
            },
            "colorscale": [
             [
              0,
              "#0d0887"
             ],
             [
              0.1111111111111111,
              "#46039f"
             ],
             [
              0.2222222222222222,
              "#7201a8"
             ],
             [
              0.3333333333333333,
              "#9c179e"
             ],
             [
              0.4444444444444444,
              "#bd3786"
             ],
             [
              0.5555555555555556,
              "#d8576b"
             ],
             [
              0.6666666666666666,
              "#ed7953"
             ],
             [
              0.7777777777777778,
              "#fb9f3a"
             ],
             [
              0.8888888888888888,
              "#fdca26"
             ],
             [
              1,
              "#f0f921"
             ]
            ],
            "type": "surface"
           }
          ],
          "table": [
           {
            "cells": {
             "fill": {
              "color": "#EBF0F8"
             },
             "line": {
              "color": "white"
             }
            },
            "header": {
             "fill": {
              "color": "#C8D4E3"
             },
             "line": {
              "color": "white"
             }
            },
            "type": "table"
           }
          ]
         },
         "layout": {
          "annotationdefaults": {
           "arrowcolor": "#2a3f5f",
           "arrowhead": 0,
           "arrowwidth": 1
          },
          "colorscale": {
           "diverging": [
            [
             0,
             "#8e0152"
            ],
            [
             0.1,
             "#c51b7d"
            ],
            [
             0.2,
             "#de77ae"
            ],
            [
             0.3,
             "#f1b6da"
            ],
            [
             0.4,
             "#fde0ef"
            ],
            [
             0.5,
             "#f7f7f7"
            ],
            [
             0.6,
             "#e6f5d0"
            ],
            [
             0.7,
             "#b8e186"
            ],
            [
             0.8,
             "#7fbc41"
            ],
            [
             0.9,
             "#4d9221"
            ],
            [
             1,
             "#276419"
            ]
           ],
           "sequential": [
            [
             0,
             "#0d0887"
            ],
            [
             0.1111111111111111,
             "#46039f"
            ],
            [
             0.2222222222222222,
             "#7201a8"
            ],
            [
             0.3333333333333333,
             "#9c179e"
            ],
            [
             0.4444444444444444,
             "#bd3786"
            ],
            [
             0.5555555555555556,
             "#d8576b"
            ],
            [
             0.6666666666666666,
             "#ed7953"
            ],
            [
             0.7777777777777778,
             "#fb9f3a"
            ],
            [
             0.8888888888888888,
             "#fdca26"
            ],
            [
             1,
             "#f0f921"
            ]
           ],
           "sequentialminus": [
            [
             0,
             "#0d0887"
            ],
            [
             0.1111111111111111,
             "#46039f"
            ],
            [
             0.2222222222222222,
             "#7201a8"
            ],
            [
             0.3333333333333333,
             "#9c179e"
            ],
            [
             0.4444444444444444,
             "#bd3786"
            ],
            [
             0.5555555555555556,
             "#d8576b"
            ],
            [
             0.6666666666666666,
             "#ed7953"
            ],
            [
             0.7777777777777778,
             "#fb9f3a"
            ],
            [
             0.8888888888888888,
             "#fdca26"
            ],
            [
             1,
             "#f0f921"
            ]
           ]
          },
          "colorway": [
           "#636efa",
           "#EF553B",
           "#00cc96",
           "#ab63fa",
           "#FFA15A",
           "#19d3f3",
           "#FF6692",
           "#B6E880",
           "#FF97FF",
           "#FECB52"
          ],
          "font": {
           "color": "#2a3f5f"
          },
          "geo": {
           "bgcolor": "white",
           "lakecolor": "white",
           "landcolor": "#E5ECF6",
           "showlakes": true,
           "showland": true,
           "subunitcolor": "white"
          },
          "hoverlabel": {
           "align": "left"
          },
          "hovermode": "closest",
          "mapbox": {
           "style": "light"
          },
          "paper_bgcolor": "white",
          "plot_bgcolor": "#E5ECF6",
          "polar": {
           "angularaxis": {
            "gridcolor": "white",
            "linecolor": "white",
            "ticks": ""
           },
           "bgcolor": "#E5ECF6",
           "radialaxis": {
            "gridcolor": "white",
            "linecolor": "white",
            "ticks": ""
           }
          },
          "scene": {
           "xaxis": {
            "backgroundcolor": "#E5ECF6",
            "gridcolor": "white",
            "gridwidth": 2,
            "linecolor": "white",
            "showbackground": true,
            "ticks": "",
            "zerolinecolor": "white"
           },
           "yaxis": {
            "backgroundcolor": "#E5ECF6",
            "gridcolor": "white",
            "gridwidth": 2,
            "linecolor": "white",
            "showbackground": true,
            "ticks": "",
            "zerolinecolor": "white"
           },
           "zaxis": {
            "backgroundcolor": "#E5ECF6",
            "gridcolor": "white",
            "gridwidth": 2,
            "linecolor": "white",
            "showbackground": true,
            "ticks": "",
            "zerolinecolor": "white"
           }
          },
          "shapedefaults": {
           "line": {
            "color": "#2a3f5f"
           }
          },
          "ternary": {
           "aaxis": {
            "gridcolor": "white",
            "linecolor": "white",
            "ticks": ""
           },
           "baxis": {
            "gridcolor": "white",
            "linecolor": "white",
            "ticks": ""
           },
           "bgcolor": "#E5ECF6",
           "caxis": {
            "gridcolor": "white",
            "linecolor": "white",
            "ticks": ""
           }
          },
          "title": {
           "x": 0.05
          },
          "xaxis": {
           "automargin": true,
           "gridcolor": "white",
           "linecolor": "white",
           "ticks": "",
           "zerolinecolor": "white",
           "zerolinewidth": 2
          },
          "yaxis": {
           "automargin": true,
           "gridcolor": "white",
           "linecolor": "white",
           "ticks": "",
           "zerolinecolor": "white",
           "zerolinewidth": 2
          }
         }
        },
        "xaxis": {
         "autorange": true,
         "range": [
          0,
          99
         ],
         "type": "linear"
        },
        "yaxis": {
         "autorange": true,
         "range": [
          0.774724556591311,
          1.225977472567471
         ],
         "type": "linear"
        }
       }
      },
      "image/png": "[encoded data removed]",
      "text/html": [
       "<div>\n",
       "        \n",
       "        \n",
       "            <div id=\"8fd6669f-1e36-4e84-aa11-72574be83186\" class=\"plotly-graph-div\" style=\"height:525px; width:100%;\"></div>\n",
       "            <script type=\"text/javascript\">\n",
       "                require([\"plotly\"], function(Plotly) {\n",
       "                    window.PLOTLYENV=window.PLOTLYENV || {};\n",
       "                    \n",
       "                if (document.getElementById(\"8fd6669f-1e36-4e84-aa11-72574be83186\")) {\n",
       "                    Plotly.newPlot(\n",
       "                        '8fd6669f-1e36-4e84-aa11-72574be83186',\n",
       "                        [{\"name\": \"velocity\", \"type\": \"scatter\", \"x\": [0, 1, 2, 3, 4, 5, 6, 7, 8, 9, 10, 11, 12, 13, 14, 15, 16, 17, 18, 19, 20, 21, 22, 23, 24, 25, 26, 27, 28, 29, 30, 31, 32, 33, 34, 35, 36, 37, 38, 39, 40, 41, 42, 43, 44, 45, 46, 47, 48, 49, 50, 51, 52, 53, 54, 55, 56, 57, 58, 59, 60, 61, 62, 63, 64, 65, 66, 67, 68, 69, 70, 71, 72, 73, 74, 75, 76, 77, 78, 79, 80, 81, 82, 83, 84, 85, 86, 87, 88, 89, 90, 91, 92, 93, 94, 95, 96, 97, 98, 99], \"y\": [0.9618986484537271, 0.9713877052067879, 0.9491441628899733, 1.0114802158842204, 0.8250011344448552, 0.9495156444527681, 1.1979512027927268, 1.0545879860407048, 1.1103475744337636, 0.956504095895316, 1.0576795504562866, 1.062377682220457, 1.0955266973012097, 1.1204201152921651, 1.0867659806260448, 0.8562293154408493, 0.8204236312784584, 1.028885739850708, 0.9787843915201135, 0.993517991108656, 1.1138102335757052, 0.9631328008636204, 0.8709596805067159, 1.0109382743096773, 1.1028170559042203, 0.8511329338983682, 1.1059110902659062, 0.9066367742000672, 1.0012063598400562, 1.1471820818396559, 0.9831473166425735, 0.8826005099334088, 0.9319571866475043, 1.0115417098747346, 1.1236508309469322, 0.9231050062690439, 1.0733742045659371, 1.1941339743385395, 0.9727281311051691, 0.9627195954728295, 0.8888094910036074, 0.8680294472309512, 0.8995016906078013, 1.0386613132590836, 1.0404175836005307, 0.9901576743190195, 1.0106585297204238, 1.1815709065082873, 1.012883763797224, 0.8784881497817351, 0.8110800076456302, 0.9550306204867434, 1.0781607582895643, 1.130381060240118, 1.1230386702866555, 0.9613755211949602, 0.9349108731259348, 1.0548952576883346, 1.0543292876080317, 0.9784804387401038, 1.0881747637805028, 1.0901662059595925, 0.9932536331627645, 1.075647601537256, 1.1414877498059555, 0.9988164915871109, 1.1440605302730091, 1.0830654013083099, 1.0246915463192667, 0.9933675225127306, 1.0350904175439453, 0.9236325422491678, 1.0781057324348182, 0.969393510579704, 0.958231926843105, 1.1147247598154135, 1.1582601837357245, 0.9101159325505401, 1.203414826768663, 1.0937412160622002, 1.052617343920367, 0.9920742149020993, 0.9545709063343677, 0.981377892659823, 0.9482649785049455, 0.9118333064780938, 0.9235271830771394, 0.8689310675276708, 1.005878712880056, 1.0988504503647312, 1.072824619120968, 0.9182310134427434, 1.1798066888805399, 1.0735408488515907, 0.9852915474732775, 0.929187378535944, 0.9533008377890309, 1.1540250602239706, 0.9520731668884441, 0.797287202390119]}, {\"name\": \"estimated_velocity_harmonic\", \"type\": \"scatter\", \"x\": [0, 1, 2, 3, 4, 5, 6, 7, 8, 9, 10, 11, 12, 13, 14, 15, 16, 17, 18, 19, 20, 21, 22, 23, 24, 25, 26, 27, 28, 29, 30, 31, 32, 33, 34, 35, 36, 37, 38, 39, 40, 41, 42, 43, 44, 45, 46, 47, 48, 49, 50, 51, 52, 53, 54, 55, 56, 57, 58, 59, 60, 61, 62, 63, 64, 65, 66, 67, 68, 69, 70, 71, 72, 73, 74, 75, 76, 77, 78, 79, 80, 81, 82, 83, 84, 85, 86, 87, 88, 89, 90, 91, 92, 93, 94, 95, 96, 97, 98, 99], \"y\": [1.0003550991436914, 1.0003550991436914, 1.0003550991436914, 1.0003550991436914, 1.0003550991436914, 1.0003550991436914, 1.0003550991436914, 1.0003550991436914, 1.0003550991436914, 1.0003550991436914, 1.0003550991436914, 1.0003550991436914, 1.0003550991436914, 1.0003550991436914, 1.0003550991436914, 1.0003550991436914, 1.0003550991436914, 1.0003550991436914, 1.0003550991436914, 1.0003550991436914, 1.0003550991436914, 1.0003550991436914, 1.0003550991436914, 1.0003550991436914, 1.0003550991436914, 1.0003550991436914, 1.0003550991436914, 1.0003550991436914, 1.0003550991436914, 1.0003550991436914, 1.0003550991436914, 1.0003550991436914, 1.0003550991436914, 1.0003550991436914, 1.0003550991436914, 1.0003550991436914, 1.0003550991436914, 1.0003550991436914, 1.0003550991436914, 1.0003550991436914, 1.0003550991436914, 1.0003550991436914, 1.0003550991436914, 1.0003550991436914, 1.0003550991436914, 1.0003550991436914, 1.0003550991436914, 1.0003550991436914, 1.0003550991436914, 1.0003550991436914, 1.0003550991436914, 1.0003550991436914, 1.0003550991436914, 1.0003550991436914, 1.0003550991436914, 1.0003550991436914, 1.0003550991436914, 1.0003550991436914, 1.0003550991436914, 1.0003550991436914, 1.0003550991436914, 1.0003550991436914, 1.0003550991436914, 1.0003550991436914, 1.0003550991436914, 1.0003550991436914, 1.0003550991436914, 1.0003550991436914, 1.0003550991436914, 1.0003550991436914, 1.0003550991436914, 1.0003550991436914, 1.0003550991436914, 1.0003550991436914, 1.0003550991436914, 1.0003550991436914, 1.0003550991436914, 1.0003550991436914, 1.0003550991436914, 1.0003550991436914, 1.0003550991436914, 1.0003550991436914, 1.0003550991436914, 1.0003550991436914, 1.0003550991436914, 1.0003550991436914, 1.0003550991436914, 1.0003550991436914, 1.0003550991436914, 1.0003550991436914, 1.0003550991436914, 1.0003550991436914, 1.0003550991436914, 1.0003550991436914, 1.0003550991436914, 1.0003550991436914, 1.0003550991436914, 1.0003550991436914, 1.0003550991436914, 1.0003550991436914]}, {\"name\": \"estimated_velocity_arithmetic\", \"type\": \"scatter\", \"x\": [0, 1, 2, 3, 4, 5, 6, 7, 8, 9, 10, 11, 12, 13, 14, 15, 16, 17, 18, 19, 20, 21, 22, 23, 24, 25, 26, 27, 28, 29, 30, 31, 32, 33, 34, 35, 36, 37, 38, 39, 40, 41, 42, 43, 44, 45, 46, 47, 48, 49, 50, 51, 52, 53, 54, 55, 56, 57, 58, 59, 60, 61, 62, 63, 64, 65, 66, 67, 68, 69, 70, 71, 72, 73, 74, 75, 76, 77, 78, 79, 80, 81, 82, 83, 84, 85, 86, 87, 88, 89, 90, 91, 92, 93, 94, 95, 96, 97, 98, 99], \"y\": [1.009429131768009, 1.009429131768009, 1.009429131768009, 1.009429131768009, 1.009429131768009, 1.009429131768009, 1.009429131768009, 1.009429131768009, 1.009429131768009, 1.009429131768009, 1.009429131768009, 1.009429131768009, 1.009429131768009, 1.009429131768009, 1.009429131768009, 1.009429131768009, 1.009429131768009, 1.009429131768009, 1.009429131768009, 1.009429131768009, 1.009429131768009, 1.009429131768009, 1.009429131768009, 1.009429131768009, 1.009429131768009, 1.009429131768009, 1.009429131768009, 1.009429131768009, 1.009429131768009, 1.009429131768009, 1.009429131768009, 1.009429131768009, 1.009429131768009, 1.009429131768009, 1.009429131768009, 1.009429131768009, 1.009429131768009, 1.009429131768009, 1.009429131768009, 1.009429131768009, 1.009429131768009, 1.009429131768009, 1.009429131768009, 1.009429131768009, 1.009429131768009, 1.009429131768009, 1.009429131768009, 1.009429131768009, 1.009429131768009, 1.009429131768009, 1.009429131768009, 1.009429131768009, 1.009429131768009, 1.009429131768009, 1.009429131768009, 1.009429131768009, 1.009429131768009, 1.009429131768009, 1.009429131768009, 1.009429131768009, 1.009429131768009, 1.009429131768009, 1.009429131768009, 1.009429131768009, 1.009429131768009, 1.009429131768009, 1.009429131768009, 1.009429131768009, 1.009429131768009, 1.009429131768009, 1.009429131768009, 1.009429131768009, 1.009429131768009, 1.009429131768009, 1.009429131768009, 1.009429131768009, 1.009429131768009, 1.009429131768009, 1.009429131768009, 1.009429131768009, 1.009429131768009, 1.009429131768009, 1.009429131768009, 1.009429131768009, 1.009429131768009, 1.009429131768009, 1.009429131768009, 1.009429131768009, 1.009429131768009, 1.009429131768009, 1.009429131768009, 1.009429131768009, 1.009429131768009, 1.009429131768009, 1.009429131768009, 1.009429131768009, 1.009429131768009, 1.009429131768009, 1.009429131768009, 1.009429131768009]}, {\"name\": \"estimated_velocity_geometric\", \"type\": \"scatter\", \"x\": [0, 1, 2, 3, 4, 5, 6, 7, 8, 9, 10, 11, 12, 13, 14, 15, 16, 17, 18, 19, 20, 21, 22, 23, 24, 25, 26, 27, 28, 29, 30, 31, 32, 33, 34, 35, 36, 37, 38, 39, 40, 41, 42, 43, 44, 45, 46, 47, 48, 49, 50, 51, 52, 53, 54, 55, 56, 57, 58, 59, 60, 61, 62, 63, 64, 65, 66, 67, 68, 69, 70, 71, 72, 73, 74, 75, 76, 77, 78, 79, 80, 81, 82, 83, 84, 85, 86, 87, 88, 89, 90, 91, 92, 93, 94, 95, 96, 97, 98, 99], \"y\": [1.0049128814790433, 1.0049128814790433, 1.0049128814790433, 1.0049128814790433, 1.0049128814790433, 1.0049128814790433, 1.0049128814790433, 1.0049128814790433, 1.0049128814790433, 1.0049128814790433, 1.0049128814790433, 1.0049128814790433, 1.0049128814790433, 1.0049128814790433, 1.0049128814790433, 1.0049128814790433, 1.0049128814790433, 1.0049128814790433, 1.0049128814790433, 1.0049128814790433, 1.0049128814790433, 1.0049128814790433, 1.0049128814790433, 1.0049128814790433, 1.0049128814790433, 1.0049128814790433, 1.0049128814790433, 1.0049128814790433, 1.0049128814790433, 1.0049128814790433, 1.0049128814790433, 1.0049128814790433, 1.0049128814790433, 1.0049128814790433, 1.0049128814790433, 1.0049128814790433, 1.0049128814790433, 1.0049128814790433, 1.0049128814790433, 1.0049128814790433, 1.0049128814790433, 1.0049128814790433, 1.0049128814790433, 1.0049128814790433, 1.0049128814790433, 1.0049128814790433, 1.0049128814790433, 1.0049128814790433, 1.0049128814790433, 1.0049128814790433, 1.0049128814790433, 1.0049128814790433, 1.0049128814790433, 1.0049128814790433, 1.0049128814790433, 1.0049128814790433, 1.0049128814790433, 1.0049128814790433, 1.0049128814790433, 1.0049128814790433, 1.0049128814790433, 1.0049128814790433, 1.0049128814790433, 1.0049128814790433, 1.0049128814790433, 1.0049128814790433, 1.0049128814790433, 1.0049128814790433, 1.0049128814790433, 1.0049128814790433, 1.0049128814790433, 1.0049128814790433, 1.0049128814790433, 1.0049128814790433, 1.0049128814790433, 1.0049128814790433, 1.0049128814790433, 1.0049128814790433, 1.0049128814790433, 1.0049128814790433, 1.0049128814790433, 1.0049128814790433, 1.0049128814790433, 1.0049128814790433, 1.0049128814790433, 1.0049128814790433, 1.0049128814790433, 1.0049128814790433, 1.0049128814790433, 1.0049128814790433, 1.0049128814790433, 1.0049128814790433, 1.0049128814790433, 1.0049128814790433, 1.0049128814790433, 1.0049128814790433, 1.0049128814790433, 1.0049128814790433, 1.0049128814790433, 1.0049128814790433]}],\n",
       "                        {\"template\": {\"data\": {\"bar\": [{\"error_x\": {\"color\": \"#2a3f5f\"}, \"error_y\": {\"color\": \"#2a3f5f\"}, \"marker\": {\"line\": {\"color\": \"#E5ECF6\", \"width\": 0.5}}, \"type\": \"bar\"}], \"barpolar\": [{\"marker\": {\"line\": {\"color\": \"#E5ECF6\", \"width\": 0.5}}, \"type\": \"barpolar\"}], \"carpet\": [{\"aaxis\": {\"endlinecolor\": \"#2a3f5f\", \"gridcolor\": \"white\", \"linecolor\": \"white\", \"minorgridcolor\": \"white\", \"startlinecolor\": \"#2a3f5f\"}, \"baxis\": {\"endlinecolor\": \"#2a3f5f\", \"gridcolor\": \"white\", \"linecolor\": \"white\", \"minorgridcolor\": \"white\", \"startlinecolor\": \"#2a3f5f\"}, \"type\": \"carpet\"}], \"choropleth\": [{\"colorbar\": {\"outlinewidth\": 0, \"ticks\": \"\"}, \"type\": \"choropleth\"}], \"contour\": [{\"colorbar\": {\"outlinewidth\": 0, \"ticks\": \"\"}, \"colorscale\": [[0.0, \"#0d0887\"], [0.1111111111111111, \"#46039f\"], [0.2222222222222222, \"#7201a8\"], [0.3333333333333333, \"#9c179e\"], [0.4444444444444444, \"#bd3786\"], [0.5555555555555556, \"#d8576b\"], [0.6666666666666666, \"#ed7953\"], [0.7777777777777778, \"#fb9f3a\"], [0.8888888888888888, \"#fdca26\"], [1.0, \"#f0f921\"]], \"type\": \"contour\"}], \"contourcarpet\": [{\"colorbar\": {\"outlinewidth\": 0, \"ticks\": \"\"}, \"type\": \"contourcarpet\"}], \"heatmap\": [{\"colorbar\": {\"outlinewidth\": 0, \"ticks\": \"\"}, \"colorscale\": [[0.0, \"#0d0887\"], [0.1111111111111111, \"#46039f\"], [0.2222222222222222, \"#7201a8\"], [0.3333333333333333, \"#9c179e\"], [0.4444444444444444, \"#bd3786\"], [0.5555555555555556, \"#d8576b\"], [0.6666666666666666, \"#ed7953\"], [0.7777777777777778, \"#fb9f3a\"], [0.8888888888888888, \"#fdca26\"], [1.0, \"#f0f921\"]], \"type\": \"heatmap\"}], \"heatmapgl\": [{\"colorbar\": {\"outlinewidth\": 0, \"ticks\": \"\"}, \"colorscale\": [[0.0, \"#0d0887\"], [0.1111111111111111, \"#46039f\"], [0.2222222222222222, \"#7201a8\"], [0.3333333333333333, \"#9c179e\"], [0.4444444444444444, \"#bd3786\"], [0.5555555555555556, \"#d8576b\"], [0.6666666666666666, \"#ed7953\"], [0.7777777777777778, \"#fb9f3a\"], [0.8888888888888888, \"#fdca26\"], [1.0, \"#f0f921\"]], \"type\": \"heatmapgl\"}], \"histogram\": [{\"marker\": {\"colorbar\": {\"outlinewidth\": 0, \"ticks\": \"\"}}, \"type\": \"histogram\"}], \"histogram2d\": [{\"colorbar\": {\"outlinewidth\": 0, \"ticks\": \"\"}, \"colorscale\": [[0.0, \"#0d0887\"], [0.1111111111111111, \"#46039f\"], [0.2222222222222222, \"#7201a8\"], [0.3333333333333333, \"#9c179e\"], [0.4444444444444444, \"#bd3786\"], [0.5555555555555556, \"#d8576b\"], [0.6666666666666666, \"#ed7953\"], [0.7777777777777778, \"#fb9f3a\"], [0.8888888888888888, \"#fdca26\"], [1.0, \"#f0f921\"]], \"type\": \"histogram2d\"}], \"histogram2dcontour\": [{\"colorbar\": {\"outlinewidth\": 0, \"ticks\": \"\"}, \"colorscale\": [[0.0, \"#0d0887\"], [0.1111111111111111, \"#46039f\"], [0.2222222222222222, \"#7201a8\"], [0.3333333333333333, \"#9c179e\"], [0.4444444444444444, \"#bd3786\"], [0.5555555555555556, \"#d8576b\"], [0.6666666666666666, \"#ed7953\"], [0.7777777777777778, \"#fb9f3a\"], [0.8888888888888888, \"#fdca26\"], [1.0, \"#f0f921\"]], \"type\": \"histogram2dcontour\"}], \"mesh3d\": [{\"colorbar\": {\"outlinewidth\": 0, \"ticks\": \"\"}, \"type\": \"mesh3d\"}], \"parcoords\": [{\"line\": {\"colorbar\": {\"outlinewidth\": 0, \"ticks\": \"\"}}, \"type\": \"parcoords\"}], \"scatter\": [{\"marker\": {\"colorbar\": {\"outlinewidth\": 0, \"ticks\": \"\"}}, \"type\": \"scatter\"}], \"scatter3d\": [{\"line\": {\"colorbar\": {\"outlinewidth\": 0, \"ticks\": \"\"}}, \"marker\": {\"colorbar\": {\"outlinewidth\": 0, \"ticks\": \"\"}}, \"type\": \"scatter3d\"}], \"scattercarpet\": [{\"marker\": {\"colorbar\": {\"outlinewidth\": 0, \"ticks\": \"\"}}, \"type\": \"scattercarpet\"}], \"scattergeo\": [{\"marker\": {\"colorbar\": {\"outlinewidth\": 0, \"ticks\": \"\"}}, \"type\": \"scattergeo\"}], \"scattergl\": [{\"marker\": {\"colorbar\": {\"outlinewidth\": 0, \"ticks\": \"\"}}, \"type\": \"scattergl\"}], \"scattermapbox\": [{\"marker\": {\"colorbar\": {\"outlinewidth\": 0, \"ticks\": \"\"}}, \"type\": \"scattermapbox\"}], \"scatterpolar\": [{\"marker\": {\"colorbar\": {\"outlinewidth\": 0, \"ticks\": \"\"}}, \"type\": \"scatterpolar\"}], \"scatterpolargl\": [{\"marker\": {\"colorbar\": {\"outlinewidth\": 0, \"ticks\": \"\"}}, \"type\": \"scatterpolargl\"}], \"scatterternary\": [{\"marker\": {\"colorbar\": {\"outlinewidth\": 0, \"ticks\": \"\"}}, \"type\": \"scatterternary\"}], \"surface\": [{\"colorbar\": {\"outlinewidth\": 0, \"ticks\": \"\"}, \"colorscale\": [[0.0, \"#0d0887\"], [0.1111111111111111, \"#46039f\"], [0.2222222222222222, \"#7201a8\"], [0.3333333333333333, \"#9c179e\"], [0.4444444444444444, \"#bd3786\"], [0.5555555555555556, \"#d8576b\"], [0.6666666666666666, \"#ed7953\"], [0.7777777777777778, \"#fb9f3a\"], [0.8888888888888888, \"#fdca26\"], [1.0, \"#f0f921\"]], \"type\": \"surface\"}], \"table\": [{\"cells\": {\"fill\": {\"color\": \"#EBF0F8\"}, \"line\": {\"color\": \"white\"}}, \"header\": {\"fill\": {\"color\": \"#C8D4E3\"}, \"line\": {\"color\": \"white\"}}, \"type\": \"table\"}]}, \"layout\": {\"annotationdefaults\": {\"arrowcolor\": \"#2a3f5f\", \"arrowhead\": 0, \"arrowwidth\": 1}, \"colorscale\": {\"diverging\": [[0, \"#8e0152\"], [0.1, \"#c51b7d\"], [0.2, \"#de77ae\"], [0.3, \"#f1b6da\"], [0.4, \"#fde0ef\"], [0.5, \"#f7f7f7\"], [0.6, \"#e6f5d0\"], [0.7, \"#b8e186\"], [0.8, \"#7fbc41\"], [0.9, \"#4d9221\"], [1, \"#276419\"]], \"sequential\": [[0.0, \"#0d0887\"], [0.1111111111111111, \"#46039f\"], [0.2222222222222222, \"#7201a8\"], [0.3333333333333333, \"#9c179e\"], [0.4444444444444444, \"#bd3786\"], [0.5555555555555556, \"#d8576b\"], [0.6666666666666666, \"#ed7953\"], [0.7777777777777778, \"#fb9f3a\"], [0.8888888888888888, \"#fdca26\"], [1.0, \"#f0f921\"]], \"sequentialminus\": [[0.0, \"#0d0887\"], [0.1111111111111111, \"#46039f\"], [0.2222222222222222, \"#7201a8\"], [0.3333333333333333, \"#9c179e\"], [0.4444444444444444, \"#bd3786\"], [0.5555555555555556, \"#d8576b\"], [0.6666666666666666, \"#ed7953\"], [0.7777777777777778, \"#fb9f3a\"], [0.8888888888888888, \"#fdca26\"], [1.0, \"#f0f921\"]]}, \"colorway\": [\"#636efa\", \"#EF553B\", \"#00cc96\", \"#ab63fa\", \"#FFA15A\", \"#19d3f3\", \"#FF6692\", \"#B6E880\", \"#FF97FF\", \"#FECB52\"], \"font\": {\"color\": \"#2a3f5f\"}, \"geo\": {\"bgcolor\": \"white\", \"lakecolor\": \"white\", \"landcolor\": \"#E5ECF6\", \"showlakes\": true, \"showland\": true, \"subunitcolor\": \"white\"}, \"hoverlabel\": {\"align\": \"left\"}, \"hovermode\": \"closest\", \"mapbox\": {\"style\": \"light\"}, \"paper_bgcolor\": \"white\", \"plot_bgcolor\": \"#E5ECF6\", \"polar\": {\"angularaxis\": {\"gridcolor\": \"white\", \"linecolor\": \"white\", \"ticks\": \"\"}, \"bgcolor\": \"#E5ECF6\", \"radialaxis\": {\"gridcolor\": \"white\", \"linecolor\": \"white\", \"ticks\": \"\"}}, \"scene\": {\"xaxis\": {\"backgroundcolor\": \"#E5ECF6\", \"gridcolor\": \"white\", \"gridwidth\": 2, \"linecolor\": \"white\", \"showbackground\": true, \"ticks\": \"\", \"zerolinecolor\": \"white\"}, \"yaxis\": {\"backgroundcolor\": \"#E5ECF6\", \"gridcolor\": \"white\", \"gridwidth\": 2, \"linecolor\": \"white\", \"showbackground\": true, \"ticks\": \"\", \"zerolinecolor\": \"white\"}, \"zaxis\": {\"backgroundcolor\": \"#E5ECF6\", \"gridcolor\": \"white\", \"gridwidth\": 2, \"linecolor\": \"white\", \"showbackground\": true, \"ticks\": \"\", \"zerolinecolor\": \"white\"}}, \"shapedefaults\": {\"line\": {\"color\": \"#2a3f5f\"}}, \"ternary\": {\"aaxis\": {\"gridcolor\": \"white\", \"linecolor\": \"white\", \"ticks\": \"\"}, \"baxis\": {\"gridcolor\": \"white\", \"linecolor\": \"white\", \"ticks\": \"\"}, \"bgcolor\": \"#E5ECF6\", \"caxis\": {\"gridcolor\": \"white\", \"linecolor\": \"white\", \"ticks\": \"\"}}, \"title\": {\"x\": 0.05}, \"xaxis\": {\"automargin\": true, \"gridcolor\": \"white\", \"linecolor\": \"white\", \"ticks\": \"\", \"zerolinecolor\": \"white\", \"zerolinewidth\": 2}, \"yaxis\": {\"automargin\": true, \"gridcolor\": \"white\", \"linecolor\": \"white\", \"ticks\": \"\", \"zerolinecolor\": \"white\", \"zerolinewidth\": 2}}}},\n",
       "                        {\"responsive\": true}\n",
       "                    ).then(function(){\n",
       "                            \n",
       "var gd = document.getElementById('8fd6669f-1e36-4e84-aa11-72574be83186');\n",
       "var x = new MutationObserver(function (mutations, observer) {{\n",
       "        var display = window.getComputedStyle(gd).display;\n",
       "        if (!display || display === 'none') {{\n",
       "            console.log([gd, 'removed!']);\n",
       "            Plotly.purge(gd);\n",
       "            observer.disconnect();\n",
       "        }}\n",
       "}});\n",
       "\n",
       "// Listen for the removal of the full notebook cells\n",
       "var notebookContainer = gd.closest('#notebook-container');\n",
       "if (notebookContainer) {{\n",
       "    x.observe(notebookContainer, {childList: true});\n",
       "}}\n",
       "\n",
       "// Listen for the clearing of the current output cell\n",
       "var outputEl = gd.closest('.output');\n",
       "if (outputEl) {{\n",
       "    x.observe(outputEl, {childList: true});\n",
       "}}\n",
       "\n",
       "                        })\n",
       "                };\n",
       "                });\n",
       "            </script>\n",
       "        </div>"
      ]
     },
     "metadata": {},
     "output_type": "display_data"
    }
   ],
   "source": [
    "iplot(go.Figure(data=[go.Scatter(x=list(range(n)),y=v_i,name='velocity'),\n",
    "                     go.Scatter(x=list(range(n)),y=[harmonic_mean_v for i in range(n)],name='estimated_velocity_harmonic'),\n",
    "                     go.Scatter(x=list(range(n)),y=[arithmetic_mean_v for i in range(n)],name='estimated_velocity_arithmetic'),\n",
    "                       go.Scatter(x=list(range(n)),y=[geometric_mean_v for i in range(n)],name='estimated_velocity_geometric')\n",
    "                     ]))"
   ]
  },
  {
   "cell_type": "markdown",
   "metadata": {},
   "source": [
    "# Population example"
   ]
  },
  {
   "cell_type": "code",
   "execution_count": 186,
   "metadata": {},
   "outputs": [],
   "source": [
    "horizon = 150\n",
    "mu=1.1\n",
    "sigma=0.2\n",
    "alpha_t = sigma * np.random.randn(horizon) + mu\n",
    "\n",
    "geometric_mean_alpha = gmean(alpha_t)\n",
    "arithmetic_mean_alpha = np.mean(alpha_t)\n",
    "harmonic_mean_alpha = hmean(alpha_t)"
   ]
  },
  {
   "cell_type": "code",
   "execution_count": 187,
   "metadata": {},
   "outputs": [
    {
     "data": {
      "text/plain": [
       "(1.079455814042616, 1.0972278532935908, 1.061289376637652)"
      ]
     },
     "execution_count": 187,
     "metadata": {},
     "output_type": "execute_result"
    }
   ],
   "source": [
    "geometric_mean_alpha, arithmetic_mean_alpha, harmonic_mean_alpha"
   ]
  },
  {
   "cell_type": "code",
   "execution_count": 188,
   "metadata": {},
   "outputs": [],
   "source": [
    "initial_population = 10\n",
    "population = [initial_population]\n",
    "estimated_population_geometric = [initial_population]\n",
    "estimated_population_arithmetic = [initial_population]\n",
    "estimated_population_harmonic = [initial_population]\n",
    "\n",
    "for i in range(horizon):\n",
    "    population.append(population[-1]*alpha_t[i])\n",
    "    estimated_population_geometric.append(estimated_population_geometric[-1]*geometric_mean_alpha)\n",
    "    estimated_population_arithmetic.append(estimated_population_arithmetic[-1]*arithmetic_mean_alpha)\n",
    "    estimated_population_harmonic.append(estimated_population_harmonic[-1]*harmonic_mean_alpha)"
   ]
  },
  {
   "cell_type": "code",
   "execution_count": 189,
   "metadata": {},
   "outputs": [
    {
     "data": {
      "application/vnd.plotly.v1+json": {
       "config": {
        "linkText": "Export to plot.ly",
        "plotlyServerURL": "https://plot.ly",
        "showLink": false
       },
       "data": [
        {
         "name": "population",
         "type": "scatter",
         "x": [
          0,
          1,
          2,
          3,
          4,
          5,
          6,
          7,
          8,
          9,
          10,
          11,
          12,
          13,
          14,
          15,
          16,
          17,
          18,
          19,
          20,
          21,
          22,
          23,
          24,
          25,
          26,
          27,
          28,
          29,
          30,
          31,
          32,
          33,
          34,
          35,
          36,
          37,
          38,
          39,
          40,
          41,
          42,
          43,
          44,
          45,
          46,
          47,
          48,
          49,
          50,
          51,
          52,
          53,
          54,
          55,
          56,
          57,
          58,
          59,
          60,
          61,
          62,
          63,
          64,
          65,
          66,
          67,
          68,
          69,
          70,
          71,
          72,
          73,
          74,
          75,
          76,
          77,
          78,
          79,
          80,
          81,
          82,
          83,
          84,
          85,
          86,
          87,
          88,
          89,
          90,
          91,
          92,
          93,
          94,
          95,
          96,
          97,
          98,
          99,
          100,
          101,
          102,
          103,
          104,
          105,
          106,
          107,
          108,
          109,
          110,
          111,
          112,
          113,
          114,
          115,
          116,
          117,
          118,
          119,
          120,
          121,
          122,
          123,
          124,
          125,
          126,
          127,
          128,
          129,
          130,
          131,
          132,
          133,
          134,
          135,
          136,
          137,
          138,
          139,
          140,
          141,
          142,
          143,
          144,
          145,
          146,
          147,
          148,
          149
         ],
         "y": [
          10,
          10.503688402300039,
          13.09397002864465,
          11.818299671157021,
          10.660370690954753,
          12.027306123326996,
          9.436839881700985,
          6.7161076995595055,
          8.053610389666966,
          8.862384170910717,
          9.22161240434995,
          10.077920929266986,
          10.491128416212645,
          13.442867991811775,
          15.031434002141744,
          13.760284833450969,
          9.48788826622358,
          10.518263118752914,
          8.598948925358146,
          9.620314275734295,
          7.629392155344313,
          11.841142171979183,
          14.556888615471193,
          13.041566774029478,
          16.841063940069343,
          20.179200936860738,
          20.70006117106614,
          30.594210101309415,
          28.525833475184584,
          36.36304322754081,
          45.433056420963204,
          56.39027277718515,
          77.80058713498487,
          57.29421434455254,
          65.83057712024801,
          90.35068132735267,
          109.55673216471259,
          107.74997914961901,
          117.71495363865442,
          115.14874963103095,
          84.70840535469472,
          87.47377300945239,
          81.36234938673991,
          71.98133332343197,
          84.46578247989288,
          79.8229663124845,
          93.08428489221495,
          114.85270597609164,
          115.36835662388995,
          121.91805312490754,
          109.90599817870586,
          161.97417276062032,
          178.52247989767218,
          202.7117405155765,
          227.4866815399078,
          290.795559446214,
          294.84761397521197,
          338.1425103333027,
          363.5178423329762,
          384.18481892563716,
          515.6234444773384,
          512.4173747524349,
          573.8704239552361,
          521.9312818783088,
          436.1022692786475,
          605.0943332010075,
          466.2979145095547,
          545.8159265580571,
          851.3345370175128,
          905.8597692504325,
          958.3897985848733,
          964.8645177239504,
          1108.6998551771176,
          1387.5411310057814,
          1170.5211587209305,
          1367.529012925946,
          1600.578168429415,
          2164.6761549887456,
          2301.303356925634,
          2329.902256662997,
          1537.3927451586565,
          1630.3704501134469,
          1081.1089580855435,
          1387.5906571131043,
          1059.8664754228116,
          872.8963345962821,
          964.8264483918153,
          1018.9632979774962,
          1348.4220900825314,
          1313.4941114262888,
          1608.216781472073,
          1380.2417873782767,
          1449.488273786479,
          1618.9231278028453,
          1639.5044989210894,
          1536.4133206877184,
          1741.3554882097244,
          1850.423176581271,
          2270.850768337573,
          2190.041252756011,
          3015.0249706201976,
          2913.737856963663,
          3230.584115138763,
          4476.8658911142975,
          4391.958807321576,
          5086.019279176028,
          4393.071429999397,
          3989.4490313189303,
          4845.872454585285,
          5447.705227734993,
          6648.3482740870795,
          6701.442005046272,
          7415.686625516937,
          8441.447923580303,
          14760.663235896209,
          12580.616985240787,
          19225.473070199503,
          22460.174849604544,
          20785.71598706721,
          20179.123504224604,
          20653.734891888118,
          28237.60013814726,
          35451.114568280136,
          30310.8738728603,
          42731.83256568993,
          47645.223179981964,
          55071.50491975366,
          67797.41506156801,
          76106.10090596516,
          69164.26788445271,
          83300.29111673073,
          88887.69811050111,
          108970.96398460901,
          137389.21095517624,
          200311.2970151002,
          248451.67963443606,
          305612.0395179534,
          325470.9991599801,
          311696.21748297487,
          445541.5665573103,
          457477.2992582728,
          553493.8797010361,
          554168.9470855636,
          604433.9621493393,
          677222.3188531497,
          630944.3627891203,
          854211.7281820816,
          1043028.09607951,
          1348206.141601918,
          1102774.0687656712,
          956600.2123632141
         ]
        },
        {
         "name": "estimated_population_geometric",
         "type": "scatter",
         "x": [
          0,
          1,
          2,
          3,
          4,
          5,
          6,
          7,
          8,
          9,
          10,
          11,
          12,
          13,
          14,
          15,
          16,
          17,
          18,
          19,
          20,
          21,
          22,
          23,
          24,
          25,
          26,
          27,
          28,
          29,
          30,
          31,
          32,
          33,
          34,
          35,
          36,
          37,
          38,
          39,
          40,
          41,
          42,
          43,
          44,
          45,
          46,
          47,
          48,
          49,
          50,
          51,
          52,
          53,
          54,
          55,
          56,
          57,
          58,
          59,
          60,
          61,
          62,
          63,
          64,
          65,
          66,
          67,
          68,
          69,
          70,
          71,
          72,
          73,
          74,
          75,
          76,
          77,
          78,
          79,
          80,
          81,
          82,
          83,
          84,
          85,
          86,
          87,
          88,
          89,
          90,
          91,
          92,
          93,
          94,
          95,
          96,
          97,
          98,
          99,
          100,
          101,
          102,
          103,
          104,
          105,
          106,
          107,
          108,
          109,
          110,
          111,
          112,
          113,
          114,
          115,
          116,
          117,
          118,
          119,
          120,
          121,
          122,
          123,
          124,
          125,
          126,
          127,
          128,
          129,
          130,
          131,
          132,
          133,
          134,
          135,
          136,
          137,
          138,
          139,
          140,
          141,
          142,
          143,
          144,
          145,
          146,
          147,
          148,
          149
         ],
         "y": [
          10,
          10.79455814042616,
          11.652248544704069,
          12.578087438250419,
          13.577489614755809,
          14.656300104751397,
          15.820828360427297,
          17.077885156633556,
          18.434822423880185,
          19.899576246300658,
          21.48071327605358,
          23.187480835618448,
          25.02986100101007,
          27.018628982218853,
          29.16541614231647,
          31.48277802379588,
          33.98426777999956,
          36.684515441101674,
          39.59931347823333,
          42.7457091661751,
          46.14210428480245,
          49.80836274239071,
          53.765926750217275,
          58.03794222791145,
          62.64939417298847,
          67.62725278628,
          73.00063120787965,
          78.80095578612652,
          85.06214987544939,
          91.82083223801824,
          99.11653120956046,
          106.99191588189645,
          115.49304565427163,
          124.6696396129928,
          134.5753673148427,
          145.2681626749276,
          156.81056279473913,
          169.27007371207588,
          182.7195652119225,
          197.23769700734866,
          212.90937878295838,
          229.82626679146603,
          248.0872999077574,
          267.79927827556287,
          289.0774879309728,
          312.04637505592274,
          336.8402738050386,
          363.6041919625556,
          392.4946590242481,
          423.68064166439876,
          457.34453194194145,
          493.68321402532763,
          532.9092156748851,
          575.2519512171451,
          620.9590632807067,
          670.2978711408156,
          723.5569341433417,
          781.0477393518804,
          843.106523288229,
          910.0962384207351,
          982.4086759015773,
          1060.4667569678656,
          1144.7270064078805,
          1235.6822225585856,
          1333.8643594499672,
          1439.847637952497,
          1554.2519041233506,
          1677.7462543927575,
          1811.052948792484,
          1954.951635113071,
          2110.2839086949234,
          2277.958234521312,
          2458.9552604002834,
          2654.3335523097608,
          2865.2357854491615,
          3092.895427206059,
          3338.643951123401,
          3603.918624058367,
          3890.2709120762693,
          4199.375554241599,
          4533.040357374527,
          4893.216769057751,
          5282.011290730214,
          5701.697797617472,
          6154.73083755216,
          6643.759986463058,
          7171.64534449124,
          7741.474263362729,
          8356.579402848176,
          9020.558221913236,
          9737.294018554165,
          10510.978641370682,
          11346.137005705341,
          12247.653557732709,
          13220.800841274304,
          14271.270334413057,
          15405.205736256083,
          16629.238898524287,
          17950.52861211567,
          19376.80247548659,
          20916.402089719355,
          22578.33184460068,
          24372.31158103775,
          26308.833437809382,
          28399.223215122125,
          30655.706613857612,
          33091.480737913276,
          35720.79127781972,
          38559.01582704527,
          41622.753818265264,
          44929.923605590935,
          48499.86726054571,
          52353.46369469119,
          56513.25077050342,
          61003.55711466827,
          65850.64440470946,
          71082.86096111649,
          76730.80754326009,
          82827.51631875712,
          89408.64405299202,
          96512.680648669,
          104181.17425504404,
          112458.9742633942,
          121394.49360988979,
          131039.99191995473,
          141451.88115009255,
          152691.05551473252,
          164823.24762768188,
          177919.41294108704,
          192056.14473030547,
          207316.12205173838,
          223788.5932935176,
          241569.89814710597,
          260764.03105257612,
          281483.24941289256,
          303848.7301343547,
          327991.27833299496,
          354052.0923518213,
          382183.58956312673,
          412550.297785594,
          445329.81752967206,
          480713.8606989418,
          518909.37182234495,
          560139.7383748319,
          604646.0972650221,
          652688.7451309052,
          704548.6606917348,
          760529.1480596315,
          820957.6106218467,
          886187.4658682866,
          956600.2123632142
         ]
        },
        {
         "name": "estimated_population_arithmetic",
         "type": "scatter",
         "x": [
          0,
          1,
          2,
          3,
          4,
          5,
          6,
          7,
          8,
          9,
          10,
          11,
          12,
          13,
          14,
          15,
          16,
          17,
          18,
          19,
          20,
          21,
          22,
          23,
          24,
          25,
          26,
          27,
          28,
          29,
          30,
          31,
          32,
          33,
          34,
          35,
          36,
          37,
          38,
          39,
          40,
          41,
          42,
          43,
          44,
          45,
          46,
          47,
          48,
          49,
          50,
          51,
          52,
          53,
          54,
          55,
          56,
          57,
          58,
          59,
          60,
          61,
          62,
          63,
          64,
          65,
          66,
          67,
          68,
          69,
          70,
          71,
          72,
          73,
          74,
          75,
          76,
          77,
          78,
          79,
          80,
          81,
          82,
          83,
          84,
          85,
          86,
          87,
          88,
          89,
          90,
          91,
          92,
          93,
          94,
          95,
          96,
          97,
          98,
          99,
          100,
          101,
          102,
          103,
          104,
          105,
          106,
          107,
          108,
          109,
          110,
          111,
          112,
          113,
          114,
          115,
          116,
          117,
          118,
          119,
          120,
          121,
          122,
          123,
          124,
          125,
          126,
          127,
          128,
          129,
          130,
          131,
          132,
          133,
          134,
          135,
          136,
          137,
          138,
          139,
          140,
          141,
          142,
          143,
          144,
          145,
          146,
          147,
          148,
          149
         ],
         "y": [
          10,
          10.972278532935908,
          12.039089620432616,
          13.20962445983643,
          14.493967888880835,
          15.903185272422958,
          17.449417836990893,
          19.14598727450441,
          21.007510516390884,
          23.050025666942105,
          25.291130180901057,
          27.75013247575881,
          30.4482182849896,
          33.4086331854538,
          36.6568828715485,
          40.22095290158376,
          44.13154980962737,
          48.42236566013662,
          53.13036832466899,
          58.29611998157436,
          63.96412658272844,
          70.18322129816663,
          77.00698524221639,
          84.49420910592832,
          92.70939967303751,
          101.72333558338448,
          111.6136771320205,
          122.46563535777081,
          134.37270618584253,
          147.4374759495424,
          161.77250523114185,
          177.50129863669196,
          194.7593688599621,
          213.69540420303085,
          234.47254961239773,
          257.26981226748615,
          282.28360383149897,
          309.72943265201405,
          339.8437604906112,
          372.8860397783346,
          409.1409489491306,
          448.9208451099572,
          492.56845517874297,
          540.4598286759125,
          593.0075776094934,
          650.664431367297,
          713.9271372436342,
          783.3407402058716,
          859.5032787735009,
          943.0709374674512,
          1034.7637002209858,
          1135.3715534596051,
          1245.7612922930919,
          1366.8839884589988,
          1499.7831843582487,
          1645.603883779227,
          1805.602416770677,
          1981.1572636550095,
          2173.7809314371907,
          2385.132984931371,
          2617.0343448759827,
          2871.4829762238733,
          3150.671101771212,
          3457.0040894305794,
          3793.121175873079,
          4161.91820508568,
          4566.5725777496755,
          5010.570626393656,
          5497.737652173834,
          6032.270882066043,
          6618.77563041476,
          7262.30497639192,
          7968.403299209868,
          8743.154046169611,
          9593.232145093856,
          10525.961512708402,
          11549.378154439997,
          12672.299399272093,
          13904.39986615698,
          15256.294816479116,
          16739.63161069952,
          18367.190057133368,
          20152.99251742383,
          22112.42471733475,
          24262.368303717347,
          26621.346289706245,
          29209.682641239684,
          32049.677379834484,
          35165.79871022795,
          38584.89382817794,
          42336.42022465281,
          46452.69947923116,
          50969.19572928911,
          55924.821214148746,
          61362.2715266283,
          67328.3934603808,
          73874.58862223987,
          81057.25628692738,
          88938.27930957376,
          97585.5572824694,
          107073.59152950264,
          117484.12697835099,
          128906.8564405277,
          141440.1933670653,
          155192.11973757544,
          170281.11638774181,
          186837.18379055805,
          205002.9620859341,
          224934.96000837686,
          246804.90330067105,
          270801.2142309276,
          297130.6349598985,
          326020.008744811,
          357718.2343258267,
          392498.41033330053,
          430660.1881911543,
          472532.35378799407,
          518475.66015856835,
          568885.9355807633,
          624197.493866197,
          684886.8762260466,
          751476.9569504583,
          824541.4482743517,
          904709.8432416553,
          992672.8391536225,
          1089188.288327383,
          1195087.7274339753,
          1311283.5416698968,
          1438776.8254856777,
          1578666.0075962176,
          1732156.3145823614,
          1900570.1546181422,
          2085358.5107855322,
          2288113.442136729,
          2510581.8002078924,
          2754680.2791600646,
          3022511.9292129874,
          3316384.275644636,
          3638829.199462184,
          3992624.751027928,
          4380819.084577232,
          4806756.71983827,
          5274107.357012687,
          5786897.493374965,
          6349545.113885875,
          6966897.754699808,
          7644274.267505208,
          8387510.644522176,
          9203010.29896621,
          10097799.234173503,
          11079586.576701859
         ]
        },
        {
         "name": "estimated_population_harmonic",
         "type": "scatter",
         "x": [
          0,
          1,
          2,
          3,
          4,
          5,
          6,
          7,
          8,
          9,
          10,
          11,
          12,
          13,
          14,
          15,
          16,
          17,
          18,
          19,
          20,
          21,
          22,
          23,
          24,
          25,
          26,
          27,
          28,
          29,
          30,
          31,
          32,
          33,
          34,
          35,
          36,
          37,
          38,
          39,
          40,
          41,
          42,
          43,
          44,
          45,
          46,
          47,
          48,
          49,
          50,
          51,
          52,
          53,
          54,
          55,
          56,
          57,
          58,
          59,
          60,
          61,
          62,
          63,
          64,
          65,
          66,
          67,
          68,
          69,
          70,
          71,
          72,
          73,
          74,
          75,
          76,
          77,
          78,
          79,
          80,
          81,
          82,
          83,
          84,
          85,
          86,
          87,
          88,
          89,
          90,
          91,
          92,
          93,
          94,
          95,
          96,
          97,
          98,
          99,
          100,
          101,
          102,
          103,
          104,
          105,
          106,
          107,
          108,
          109,
          110,
          111,
          112,
          113,
          114,
          115,
          116,
          117,
          118,
          119,
          120,
          121,
          122,
          123,
          124,
          125,
          126,
          127,
          128,
          129,
          130,
          131,
          132,
          133,
          134,
          135,
          136,
          137,
          138,
          139,
          140,
          141,
          142,
          143,
          144,
          145,
          146,
          147,
          148,
          149
         ],
         "y": [
          10,
          10.612893766376521,
          11.263351409639363,
          11.95367519638698,
          12.686308497702502,
          13.463844437359636,
          14.289035070071728,
          15.164801122269974,
          16.09424232988787,
          17.08064840974201,
          18.127510703342004,
          19.238534534342204,
          20.41765232337398,
          21.669037506677878,
          22.99711930780007,
          24.40659841463685,
          25.90246361731545,
          27.490009465800178,
          29.174855009722226,
          30.96296368676198,
          32.86066442997788,
          34.87467406879029,
          37.01212110290774,
          39.28057093334225,
          41.68805263981787,
          44.24308739934993,
          46.95471864658125,
          49.832544082626555,
          52.88674964571906,
          56.128145563896744,
          59.568204617335375,
          63.21910274575597,
          67.09376214463504,
          71.20589700275461,
          75.57006204297831,
          80.20170403806114,
          85.11721648383137,
          90.33399762325749,
          95.87051202677408,
          101.74635594682759,
          107.98232667796132,
          114.60049616793688,
          121.62428914043537,
          129.0785660058502,
          136.98971085363078,
          145.385724837622,
          154.29632528493306,
          163.75305087912702,
          173.78937329002244,
          184.44081564521613,
          195.74507826265153,
          207.74217208925788,
          220.47456031796034,
          233.98730868430854,
          248.3282449746917,
          263.54812831071274,
          279.7008288088963,
          296.8435182516282,
          315.036872444198,
          334.34528597417847,
          354.8371001332734,
          376.58484480835386,
          399.66549519784485,
          424.1607442620993,
          450.1572918720859,
          477.7471516798197,
          507.0279767966897,
          538.1034054324087,
          571.0834277179589,
          606.0847750108862,
          643.231333060875,
          682.654580497982,
          724.4940541955413,
          768.8978431548713,
          816.0231126598686,
          866.0366605567085,
          919.115507627583,
          975.4475241480768,
          1035.2320948458535,
          1098.6808246142466,
          1166.0182874785953,
          1237.4828214662612,
          1313.3273721937312,
          1393.8203881566508,
          1479.2467708916222,
          1569.9088833728295,
          1666.1276202126626,
          1768.2435434542715,
          1876.6180879761368,
          1991.6348407751368,
          2113.7008986560745,
          2243.2483091331505,
          2380.7355996433885,
          2526.6494004845986,
          2681.506167222197,
          2845.854008661265,
          3020.2746268538776,
          3205.3853760082693,
          3401.8414475872623,
          3610.338189330014,
          3831.61356640516,
          4066.4507734065032,
          4315.681006436286,
          4580.186405087721,
          4860.903174739797,
          5158.824900215583,
          5475.006062532593,
          5810.565771192582,
          6166.691725221054,
          6544.64441697642,
          6945.761593607995,
          7371.462991953974,
          7823.2553636383545,
          8302.737808152917,
          8811.607432800474,
          9351.665359532517,
          9924.82309994219,
          10533.109320976617,
          11178.677025315517,
          11863.811171830748,
          12590.936763099067,
          13362.627428593507,
          14181.614533933194,
          15050.796848433427,
          15973.250805173851,
          16952.24138989983,
          17991.233697297797,
          19093.9051955475,
          20264.158742561034,
          21506.136399979026,
          22824.23409381806,
          24223.117173660015,
          25707.736925454443,
          27283.348096380298,
          28955.52749379552,
          30730.193724104643,
          32613.628141409306,
          34612.49708008847,
          36733.87544999964,
          38985.27177781527,
          41374.65478312702,
          43910.48158338293,
          46601.72762748757,
          49457.918464013936,
          52489.16345646917,
          55706.19156494799,
          59120.38932082129,
          62743.84112886973,
          66589.37203951004,
          70670.59314250431,
          75001.94974282153
         ]
        }
       ],
       "layout": {
        "autosize": true,
        "template": {
         "data": {
          "bar": [
           {
            "error_x": {
             "color": "#2a3f5f"
            },
            "error_y": {
             "color": "#2a3f5f"
            },
            "marker": {
             "line": {
              "color": "#E5ECF6",
              "width": 0.5
             }
            },
            "type": "bar"
           }
          ],
          "barpolar": [
           {
            "marker": {
             "line": {
              "color": "#E5ECF6",
              "width": 0.5
             }
            },
            "type": "barpolar"
           }
          ],
          "carpet": [
           {
            "aaxis": {
             "endlinecolor": "#2a3f5f",
             "gridcolor": "white",
             "linecolor": "white",
             "minorgridcolor": "white",
             "startlinecolor": "#2a3f5f"
            },
            "baxis": {
             "endlinecolor": "#2a3f5f",
             "gridcolor": "white",
             "linecolor": "white",
             "minorgridcolor": "white",
             "startlinecolor": "#2a3f5f"
            },
            "type": "carpet"
           }
          ],
          "choropleth": [
           {
            "colorbar": {
             "outlinewidth": 0,
             "ticks": ""
            },
            "type": "choropleth"
           }
          ],
          "contour": [
           {
            "colorbar": {
             "outlinewidth": 0,
             "ticks": ""
            },
            "colorscale": [
             [
              0,
              "#0d0887"
             ],
             [
              0.1111111111111111,
              "#46039f"
             ],
             [
              0.2222222222222222,
              "#7201a8"
             ],
             [
              0.3333333333333333,
              "#9c179e"
             ],
             [
              0.4444444444444444,
              "#bd3786"
             ],
             [
              0.5555555555555556,
              "#d8576b"
             ],
             [
              0.6666666666666666,
              "#ed7953"
             ],
             [
              0.7777777777777778,
              "#fb9f3a"
             ],
             [
              0.8888888888888888,
              "#fdca26"
             ],
             [
              1,
              "#f0f921"
             ]
            ],
            "type": "contour"
           }
          ],
          "contourcarpet": [
           {
            "colorbar": {
             "outlinewidth": 0,
             "ticks": ""
            },
            "type": "contourcarpet"
           }
          ],
          "heatmap": [
           {
            "colorbar": {
             "outlinewidth": 0,
             "ticks": ""
            },
            "colorscale": [
             [
              0,
              "#0d0887"
             ],
             [
              0.1111111111111111,
              "#46039f"
             ],
             [
              0.2222222222222222,
              "#7201a8"
             ],
             [
              0.3333333333333333,
              "#9c179e"
             ],
             [
              0.4444444444444444,
              "#bd3786"
             ],
             [
              0.5555555555555556,
              "#d8576b"
             ],
             [
              0.6666666666666666,
              "#ed7953"
             ],
             [
              0.7777777777777778,
              "#fb9f3a"
             ],
             [
              0.8888888888888888,
              "#fdca26"
             ],
             [
              1,
              "#f0f921"
             ]
            ],
            "type": "heatmap"
           }
          ],
          "heatmapgl": [
           {
            "colorbar": {
             "outlinewidth": 0,
             "ticks": ""
            },
            "colorscale": [
             [
              0,
              "#0d0887"
             ],
             [
              0.1111111111111111,
              "#46039f"
             ],
             [
              0.2222222222222222,
              "#7201a8"
             ],
             [
              0.3333333333333333,
              "#9c179e"
             ],
             [
              0.4444444444444444,
              "#bd3786"
             ],
             [
              0.5555555555555556,
              "#d8576b"
             ],
             [
              0.6666666666666666,
              "#ed7953"
             ],
             [
              0.7777777777777778,
              "#fb9f3a"
             ],
             [
              0.8888888888888888,
              "#fdca26"
             ],
             [
              1,
              "#f0f921"
             ]
            ],
            "type": "heatmapgl"
           }
          ],
          "histogram": [
           {
            "marker": {
             "colorbar": {
              "outlinewidth": 0,
              "ticks": ""
             }
            },
            "type": "histogram"
           }
          ],
          "histogram2d": [
           {
            "colorbar": {
             "outlinewidth": 0,
             "ticks": ""
            },
            "colorscale": [
             [
              0,
              "#0d0887"
             ],
             [
              0.1111111111111111,
              "#46039f"
             ],
             [
              0.2222222222222222,
              "#7201a8"
             ],
             [
              0.3333333333333333,
              "#9c179e"
             ],
             [
              0.4444444444444444,
              "#bd3786"
             ],
             [
              0.5555555555555556,
              "#d8576b"
             ],
             [
              0.6666666666666666,
              "#ed7953"
             ],
             [
              0.7777777777777778,
              "#fb9f3a"
             ],
             [
              0.8888888888888888,
              "#fdca26"
             ],
             [
              1,
              "#f0f921"
             ]
            ],
            "type": "histogram2d"
           }
          ],
          "histogram2dcontour": [
           {
            "colorbar": {
             "outlinewidth": 0,
             "ticks": ""
            },
            "colorscale": [
             [
              0,
              "#0d0887"
             ],
             [
              0.1111111111111111,
              "#46039f"
             ],
             [
              0.2222222222222222,
              "#7201a8"
             ],
             [
              0.3333333333333333,
              "#9c179e"
             ],
             [
              0.4444444444444444,
              "#bd3786"
             ],
             [
              0.5555555555555556,
              "#d8576b"
             ],
             [
              0.6666666666666666,
              "#ed7953"
             ],
             [
              0.7777777777777778,
              "#fb9f3a"
             ],
             [
              0.8888888888888888,
              "#fdca26"
             ],
             [
              1,
              "#f0f921"
             ]
            ],
            "type": "histogram2dcontour"
           }
          ],
          "mesh3d": [
           {
            "colorbar": {
             "outlinewidth": 0,
             "ticks": ""
            },
            "type": "mesh3d"
           }
          ],
          "parcoords": [
           {
            "line": {
             "colorbar": {
              "outlinewidth": 0,
              "ticks": ""
             }
            },
            "type": "parcoords"
           }
          ],
          "scatter": [
           {
            "marker": {
             "colorbar": {
              "outlinewidth": 0,
              "ticks": ""
             }
            },
            "type": "scatter"
           }
          ],
          "scatter3d": [
           {
            "line": {
             "colorbar": {
              "outlinewidth": 0,
              "ticks": ""
             }
            },
            "marker": {
             "colorbar": {
              "outlinewidth": 0,
              "ticks": ""
             }
            },
            "type": "scatter3d"
           }
          ],
          "scattercarpet": [
           {
            "marker": {
             "colorbar": {
              "outlinewidth": 0,
              "ticks": ""
             }
            },
            "type": "scattercarpet"
           }
          ],
          "scattergeo": [
           {
            "marker": {
             "colorbar": {
              "outlinewidth": 0,
              "ticks": ""
             }
            },
            "type": "scattergeo"
           }
          ],
          "scattergl": [
           {
            "marker": {
             "colorbar": {
              "outlinewidth": 0,
              "ticks": ""
             }
            },
            "type": "scattergl"
           }
          ],
          "scattermapbox": [
           {
            "marker": {
             "colorbar": {
              "outlinewidth": 0,
              "ticks": ""
             }
            },
            "type": "scattermapbox"
           }
          ],
          "scatterpolar": [
           {
            "marker": {
             "colorbar": {
              "outlinewidth": 0,
              "ticks": ""
             }
            },
            "type": "scatterpolar"
           }
          ],
          "scatterpolargl": [
           {
            "marker": {
             "colorbar": {
              "outlinewidth": 0,
              "ticks": ""
             }
            },
            "type": "scatterpolargl"
           }
          ],
          "scatterternary": [
           {
            "marker": {
             "colorbar": {
              "outlinewidth": 0,
              "ticks": ""
             }
            },
            "type": "scatterternary"
           }
          ],
          "surface": [
           {
            "colorbar": {
             "outlinewidth": 0,
             "ticks": ""
            },
            "colorscale": [
             [
              0,
              "#0d0887"
             ],
             [
              0.1111111111111111,
              "#46039f"
             ],
             [
              0.2222222222222222,
              "#7201a8"
             ],
             [
              0.3333333333333333,
              "#9c179e"
             ],
             [
              0.4444444444444444,
              "#bd3786"
             ],
             [
              0.5555555555555556,
              "#d8576b"
             ],
             [
              0.6666666666666666,
              "#ed7953"
             ],
             [
              0.7777777777777778,
              "#fb9f3a"
             ],
             [
              0.8888888888888888,
              "#fdca26"
             ],
             [
              1,
              "#f0f921"
             ]
            ],
            "type": "surface"
           }
          ],
          "table": [
           {
            "cells": {
             "fill": {
              "color": "#EBF0F8"
             },
             "line": {
              "color": "white"
             }
            },
            "header": {
             "fill": {
              "color": "#C8D4E3"
             },
             "line": {
              "color": "white"
             }
            },
            "type": "table"
           }
          ]
         },
         "layout": {
          "annotationdefaults": {
           "arrowcolor": "#2a3f5f",
           "arrowhead": 0,
           "arrowwidth": 1
          },
          "colorscale": {
           "diverging": [
            [
             0,
             "#8e0152"
            ],
            [
             0.1,
             "#c51b7d"
            ],
            [
             0.2,
             "#de77ae"
            ],
            [
             0.3,
             "#f1b6da"
            ],
            [
             0.4,
             "#fde0ef"
            ],
            [
             0.5,
             "#f7f7f7"
            ],
            [
             0.6,
             "#e6f5d0"
            ],
            [
             0.7,
             "#b8e186"
            ],
            [
             0.8,
             "#7fbc41"
            ],
            [
             0.9,
             "#4d9221"
            ],
            [
             1,
             "#276419"
            ]
           ],
           "sequential": [
            [
             0,
             "#0d0887"
            ],
            [
             0.1111111111111111,
             "#46039f"
            ],
            [
             0.2222222222222222,
             "#7201a8"
            ],
            [
             0.3333333333333333,
             "#9c179e"
            ],
            [
             0.4444444444444444,
             "#bd3786"
            ],
            [
             0.5555555555555556,
             "#d8576b"
            ],
            [
             0.6666666666666666,
             "#ed7953"
            ],
            [
             0.7777777777777778,
             "#fb9f3a"
            ],
            [
             0.8888888888888888,
             "#fdca26"
            ],
            [
             1,
             "#f0f921"
            ]
           ],
           "sequentialminus": [
            [
             0,
             "#0d0887"
            ],
            [
             0.1111111111111111,
             "#46039f"
            ],
            [
             0.2222222222222222,
             "#7201a8"
            ],
            [
             0.3333333333333333,
             "#9c179e"
            ],
            [
             0.4444444444444444,
             "#bd3786"
            ],
            [
             0.5555555555555556,
             "#d8576b"
            ],
            [
             0.6666666666666666,
             "#ed7953"
            ],
            [
             0.7777777777777778,
             "#fb9f3a"
            ],
            [
             0.8888888888888888,
             "#fdca26"
            ],
            [
             1,
             "#f0f921"
            ]
           ]
          },
          "colorway": [
           "#636efa",
           "#EF553B",
           "#00cc96",
           "#ab63fa",
           "#FFA15A",
           "#19d3f3",
           "#FF6692",
           "#B6E880",
           "#FF97FF",
           "#FECB52"
          ],
          "font": {
           "color": "#2a3f5f"
          },
          "geo": {
           "bgcolor": "white",
           "lakecolor": "white",
           "landcolor": "#E5ECF6",
           "showlakes": true,
           "showland": true,
           "subunitcolor": "white"
          },
          "hoverlabel": {
           "align": "left"
          },
          "hovermode": "closest",
          "mapbox": {
           "style": "light"
          },
          "paper_bgcolor": "white",
          "plot_bgcolor": "#E5ECF6",
          "polar": {
           "angularaxis": {
            "gridcolor": "white",
            "linecolor": "white",
            "ticks": ""
           },
           "bgcolor": "#E5ECF6",
           "radialaxis": {
            "gridcolor": "white",
            "linecolor": "white",
            "ticks": ""
           }
          },
          "scene": {
           "xaxis": {
            "backgroundcolor": "#E5ECF6",
            "gridcolor": "white",
            "gridwidth": 2,
            "linecolor": "white",
            "showbackground": true,
            "ticks": "",
            "zerolinecolor": "white"
           },
           "yaxis": {
            "backgroundcolor": "#E5ECF6",
            "gridcolor": "white",
            "gridwidth": 2,
            "linecolor": "white",
            "showbackground": true,
            "ticks": "",
            "zerolinecolor": "white"
           },
           "zaxis": {
            "backgroundcolor": "#E5ECF6",
            "gridcolor": "white",
            "gridwidth": 2,
            "linecolor": "white",
            "showbackground": true,
            "ticks": "",
            "zerolinecolor": "white"
           }
          },
          "shapedefaults": {
           "line": {
            "color": "#2a3f5f"
           }
          },
          "ternary": {
           "aaxis": {
            "gridcolor": "white",
            "linecolor": "white",
            "ticks": ""
           },
           "baxis": {
            "gridcolor": "white",
            "linecolor": "white",
            "ticks": ""
           },
           "bgcolor": "#E5ECF6",
           "caxis": {
            "gridcolor": "white",
            "linecolor": "white",
            "ticks": ""
           }
          },
          "title": {
           "x": 0.05
          },
          "xaxis": {
           "automargin": true,
           "gridcolor": "white",
           "linecolor": "white",
           "ticks": "",
           "zerolinecolor": "white",
           "zerolinewidth": 2
          },
          "yaxis": {
           "automargin": true,
           "gridcolor": "white",
           "linecolor": "white",
           "ticks": "",
           "zerolinecolor": "white",
           "zerolinewidth": 2
          }
         }
        },
        "xaxis": {
         "autorange": true,
         "range": [
          0,
          149
         ],
         "type": "linear"
        },
        "yaxis": {
         "autorange": true,
         "range": [
          -560981.7571181784,
          10658787.707399381
         ],
         "type": "linear"
        }
       }
      },
      "image/png": "[encoded data removed]",
      "text/html": [
       "<div>\n",
       "        \n",
       "        \n",
       "            <div id=\"c4eecbfd-0a3c-4e13-b7ca-98b49e045de1\" class=\"plotly-graph-div\" style=\"height:525px; width:100%;\"></div>\n",
       "            <script type=\"text/javascript\">\n",
       "                require([\"plotly\"], function(Plotly) {\n",
       "                    window.PLOTLYENV=window.PLOTLYENV || {};\n",
       "                    \n",
       "                if (document.getElementById(\"c4eecbfd-0a3c-4e13-b7ca-98b49e045de1\")) {\n",
       "                    Plotly.newPlot(\n",
       "                        'c4eecbfd-0a3c-4e13-b7ca-98b49e045de1',\n",
       "                        [{\"name\": \"population\", \"type\": \"scatter\", \"x\": [0, 1, 2, 3, 4, 5, 6, 7, 8, 9, 10, 11, 12, 13, 14, 15, 16, 17, 18, 19, 20, 21, 22, 23, 24, 25, 26, 27, 28, 29, 30, 31, 32, 33, 34, 35, 36, 37, 38, 39, 40, 41, 42, 43, 44, 45, 46, 47, 48, 49, 50, 51, 52, 53, 54, 55, 56, 57, 58, 59, 60, 61, 62, 63, 64, 65, 66, 67, 68, 69, 70, 71, 72, 73, 74, 75, 76, 77, 78, 79, 80, 81, 82, 83, 84, 85, 86, 87, 88, 89, 90, 91, 92, 93, 94, 95, 96, 97, 98, 99, 100, 101, 102, 103, 104, 105, 106, 107, 108, 109, 110, 111, 112, 113, 114, 115, 116, 117, 118, 119, 120, 121, 122, 123, 124, 125, 126, 127, 128, 129, 130, 131, 132, 133, 134, 135, 136, 137, 138, 139, 140, 141, 142, 143, 144, 145, 146, 147, 148, 149], \"y\": [10, 10.503688402300039, 13.09397002864465, 11.818299671157021, 10.660370690954753, 12.027306123326996, 9.436839881700985, 6.7161076995595055, 8.053610389666966, 8.862384170910717, 9.22161240434995, 10.077920929266986, 10.491128416212645, 13.442867991811775, 15.031434002141744, 13.760284833450969, 9.48788826622358, 10.518263118752914, 8.598948925358146, 9.620314275734295, 7.629392155344313, 11.841142171979183, 14.556888615471193, 13.041566774029478, 16.841063940069343, 20.179200936860738, 20.70006117106614, 30.594210101309415, 28.525833475184584, 36.36304322754081, 45.433056420963204, 56.39027277718515, 77.80058713498487, 57.29421434455254, 65.83057712024801, 90.35068132735267, 109.55673216471259, 107.74997914961901, 117.71495363865442, 115.14874963103095, 84.70840535469472, 87.47377300945239, 81.36234938673991, 71.98133332343197, 84.46578247989288, 79.8229663124845, 93.08428489221495, 114.85270597609164, 115.36835662388995, 121.91805312490754, 109.90599817870586, 161.97417276062032, 178.52247989767218, 202.7117405155765, 227.4866815399078, 290.795559446214, 294.84761397521197, 338.1425103333027, 363.5178423329762, 384.18481892563716, 515.6234444773384, 512.4173747524349, 573.8704239552361, 521.9312818783088, 436.1022692786475, 605.0943332010075, 466.2979145095547, 545.8159265580571, 851.3345370175128, 905.8597692504325, 958.3897985848733, 964.8645177239504, 1108.6998551771176, 1387.5411310057814, 1170.5211587209305, 1367.529012925946, 1600.578168429415, 2164.6761549887456, 2301.303356925634, 2329.902256662997, 1537.3927451586565, 1630.3704501134469, 1081.1089580855435, 1387.5906571131043, 1059.8664754228116, 872.8963345962821, 964.8264483918153, 1018.9632979774962, 1348.4220900825314, 1313.4941114262888, 1608.216781472073, 1380.2417873782767, 1449.488273786479, 1618.9231278028453, 1639.5044989210894, 1536.4133206877184, 1741.3554882097244, 1850.423176581271, 2270.850768337573, 2190.041252756011, 3015.0249706201976, 2913.737856963663, 3230.584115138763, 4476.8658911142975, 4391.958807321576, 5086.019279176028, 4393.071429999397, 3989.4490313189303, 4845.872454585285, 5447.705227734993, 6648.3482740870795, 6701.442005046272, 7415.686625516937, 8441.447923580303, 14760.663235896209, 12580.616985240787, 19225.473070199503, 22460.174849604544, 20785.71598706721, 20179.123504224604, 20653.734891888118, 28237.60013814726, 35451.114568280136, 30310.8738728603, 42731.83256568993, 47645.223179981964, 55071.50491975366, 67797.41506156801, 76106.10090596516, 69164.26788445271, 83300.29111673073, 88887.69811050111, 108970.96398460901, 137389.21095517624, 200311.2970151002, 248451.67963443606, 305612.0395179534, 325470.9991599801, 311696.21748297487, 445541.5665573103, 457477.2992582728, 553493.8797010361, 554168.9470855636, 604433.9621493393, 677222.3188531497, 630944.3627891203, 854211.7281820816, 1043028.09607951, 1348206.141601918, 1102774.0687656712, 956600.2123632141]}, {\"name\": \"estimated_population_geometric\", \"type\": \"scatter\", \"x\": [0, 1, 2, 3, 4, 5, 6, 7, 8, 9, 10, 11, 12, 13, 14, 15, 16, 17, 18, 19, 20, 21, 22, 23, 24, 25, 26, 27, 28, 29, 30, 31, 32, 33, 34, 35, 36, 37, 38, 39, 40, 41, 42, 43, 44, 45, 46, 47, 48, 49, 50, 51, 52, 53, 54, 55, 56, 57, 58, 59, 60, 61, 62, 63, 64, 65, 66, 67, 68, 69, 70, 71, 72, 73, 74, 75, 76, 77, 78, 79, 80, 81, 82, 83, 84, 85, 86, 87, 88, 89, 90, 91, 92, 93, 94, 95, 96, 97, 98, 99, 100, 101, 102, 103, 104, 105, 106, 107, 108, 109, 110, 111, 112, 113, 114, 115, 116, 117, 118, 119, 120, 121, 122, 123, 124, 125, 126, 127, 128, 129, 130, 131, 132, 133, 134, 135, 136, 137, 138, 139, 140, 141, 142, 143, 144, 145, 146, 147, 148, 149], \"y\": [10, 10.79455814042616, 11.652248544704069, 12.578087438250419, 13.577489614755809, 14.656300104751397, 15.820828360427297, 17.077885156633556, 18.434822423880185, 19.899576246300658, 21.48071327605358, 23.187480835618448, 25.02986100101007, 27.018628982218853, 29.16541614231647, 31.48277802379588, 33.98426777999956, 36.684515441101674, 39.59931347823333, 42.7457091661751, 46.14210428480245, 49.80836274239071, 53.765926750217275, 58.03794222791145, 62.64939417298847, 67.62725278628, 73.00063120787965, 78.80095578612652, 85.06214987544939, 91.82083223801824, 99.11653120956046, 106.99191588189645, 115.49304565427163, 124.6696396129928, 134.5753673148427, 145.2681626749276, 156.81056279473913, 169.27007371207588, 182.7195652119225, 197.23769700734866, 212.90937878295838, 229.82626679146603, 248.0872999077574, 267.79927827556287, 289.0774879309728, 312.04637505592274, 336.8402738050386, 363.6041919625556, 392.4946590242481, 423.68064166439876, 457.34453194194145, 493.68321402532763, 532.9092156748851, 575.2519512171451, 620.9590632807067, 670.2978711408156, 723.5569341433417, 781.0477393518804, 843.106523288229, 910.0962384207351, 982.4086759015773, 1060.4667569678656, 1144.7270064078805, 1235.6822225585856, 1333.8643594499672, 1439.847637952497, 1554.2519041233506, 1677.7462543927575, 1811.052948792484, 1954.951635113071, 2110.2839086949234, 2277.958234521312, 2458.9552604002834, 2654.3335523097608, 2865.2357854491615, 3092.895427206059, 3338.643951123401, 3603.918624058367, 3890.2709120762693, 4199.375554241599, 4533.040357374527, 4893.216769057751, 5282.011290730214, 5701.697797617472, 6154.73083755216, 6643.759986463058, 7171.64534449124, 7741.474263362729, 8356.579402848176, 9020.558221913236, 9737.294018554165, 10510.978641370682, 11346.137005705341, 12247.653557732709, 13220.800841274304, 14271.270334413057, 15405.205736256083, 16629.238898524287, 17950.52861211567, 19376.80247548659, 20916.402089719355, 22578.33184460068, 24372.31158103775, 26308.833437809382, 28399.223215122125, 30655.706613857612, 33091.480737913276, 35720.79127781972, 38559.01582704527, 41622.753818265264, 44929.923605590935, 48499.86726054571, 52353.46369469119, 56513.25077050342, 61003.55711466827, 65850.64440470946, 71082.86096111649, 76730.80754326009, 82827.51631875712, 89408.64405299202, 96512.680648669, 104181.17425504404, 112458.9742633942, 121394.49360988979, 131039.99191995473, 141451.88115009255, 152691.05551473252, 164823.24762768188, 177919.41294108704, 192056.14473030547, 207316.12205173838, 223788.5932935176, 241569.89814710597, 260764.03105257612, 281483.24941289256, 303848.7301343547, 327991.27833299496, 354052.0923518213, 382183.58956312673, 412550.297785594, 445329.81752967206, 480713.8606989418, 518909.37182234495, 560139.7383748319, 604646.0972650221, 652688.7451309052, 704548.6606917348, 760529.1480596315, 820957.6106218467, 886187.4658682866, 956600.2123632142]}, {\"name\": \"estimated_population_arithmetic\", \"type\": \"scatter\", \"x\": [0, 1, 2, 3, 4, 5, 6, 7, 8, 9, 10, 11, 12, 13, 14, 15, 16, 17, 18, 19, 20, 21, 22, 23, 24, 25, 26, 27, 28, 29, 30, 31, 32, 33, 34, 35, 36, 37, 38, 39, 40, 41, 42, 43, 44, 45, 46, 47, 48, 49, 50, 51, 52, 53, 54, 55, 56, 57, 58, 59, 60, 61, 62, 63, 64, 65, 66, 67, 68, 69, 70, 71, 72, 73, 74, 75, 76, 77, 78, 79, 80, 81, 82, 83, 84, 85, 86, 87, 88, 89, 90, 91, 92, 93, 94, 95, 96, 97, 98, 99, 100, 101, 102, 103, 104, 105, 106, 107, 108, 109, 110, 111, 112, 113, 114, 115, 116, 117, 118, 119, 120, 121, 122, 123, 124, 125, 126, 127, 128, 129, 130, 131, 132, 133, 134, 135, 136, 137, 138, 139, 140, 141, 142, 143, 144, 145, 146, 147, 148, 149], \"y\": [10, 10.972278532935908, 12.039089620432616, 13.20962445983643, 14.493967888880835, 15.903185272422958, 17.449417836990893, 19.14598727450441, 21.007510516390884, 23.050025666942105, 25.291130180901057, 27.75013247575881, 30.4482182849896, 33.4086331854538, 36.6568828715485, 40.22095290158376, 44.13154980962737, 48.42236566013662, 53.13036832466899, 58.29611998157436, 63.96412658272844, 70.18322129816663, 77.00698524221639, 84.49420910592832, 92.70939967303751, 101.72333558338448, 111.6136771320205, 122.46563535777081, 134.37270618584253, 147.4374759495424, 161.77250523114185, 177.50129863669196, 194.7593688599621, 213.69540420303085, 234.47254961239773, 257.26981226748615, 282.28360383149897, 309.72943265201405, 339.8437604906112, 372.8860397783346, 409.1409489491306, 448.9208451099572, 492.56845517874297, 540.4598286759125, 593.0075776094934, 650.664431367297, 713.9271372436342, 783.3407402058716, 859.5032787735009, 943.0709374674512, 1034.7637002209858, 1135.3715534596051, 1245.7612922930919, 1366.8839884589988, 1499.7831843582487, 1645.603883779227, 1805.602416770677, 1981.1572636550095, 2173.7809314371907, 2385.132984931371, 2617.0343448759827, 2871.4829762238733, 3150.671101771212, 3457.0040894305794, 3793.121175873079, 4161.91820508568, 4566.5725777496755, 5010.570626393656, 5497.737652173834, 6032.270882066043, 6618.77563041476, 7262.30497639192, 7968.403299209868, 8743.154046169611, 9593.232145093856, 10525.961512708402, 11549.378154439997, 12672.299399272093, 13904.39986615698, 15256.294816479116, 16739.63161069952, 18367.190057133368, 20152.99251742383, 22112.42471733475, 24262.368303717347, 26621.346289706245, 29209.682641239684, 32049.677379834484, 35165.79871022795, 38584.89382817794, 42336.42022465281, 46452.69947923116, 50969.19572928911, 55924.821214148746, 61362.2715266283, 67328.3934603808, 73874.58862223987, 81057.25628692738, 88938.27930957376, 97585.5572824694, 107073.59152950264, 117484.12697835099, 128906.8564405277, 141440.1933670653, 155192.11973757544, 170281.11638774181, 186837.18379055805, 205002.9620859341, 224934.96000837686, 246804.90330067105, 270801.2142309276, 297130.6349598985, 326020.008744811, 357718.2343258267, 392498.41033330053, 430660.1881911543, 472532.35378799407, 518475.66015856835, 568885.9355807633, 624197.493866197, 684886.8762260466, 751476.9569504583, 824541.4482743517, 904709.8432416553, 992672.8391536225, 1089188.288327383, 1195087.7274339753, 1311283.5416698968, 1438776.8254856777, 1578666.0075962176, 1732156.3145823614, 1900570.1546181422, 2085358.5107855322, 2288113.442136729, 2510581.8002078924, 2754680.2791600646, 3022511.9292129874, 3316384.275644636, 3638829.199462184, 3992624.751027928, 4380819.084577232, 4806756.71983827, 5274107.357012687, 5786897.493374965, 6349545.113885875, 6966897.754699808, 7644274.267505208, 8387510.644522176, 9203010.29896621, 10097799.234173503, 11079586.576701859]}, {\"name\": \"estimated_population_harmonic\", \"type\": \"scatter\", \"x\": [0, 1, 2, 3, 4, 5, 6, 7, 8, 9, 10, 11, 12, 13, 14, 15, 16, 17, 18, 19, 20, 21, 22, 23, 24, 25, 26, 27, 28, 29, 30, 31, 32, 33, 34, 35, 36, 37, 38, 39, 40, 41, 42, 43, 44, 45, 46, 47, 48, 49, 50, 51, 52, 53, 54, 55, 56, 57, 58, 59, 60, 61, 62, 63, 64, 65, 66, 67, 68, 69, 70, 71, 72, 73, 74, 75, 76, 77, 78, 79, 80, 81, 82, 83, 84, 85, 86, 87, 88, 89, 90, 91, 92, 93, 94, 95, 96, 97, 98, 99, 100, 101, 102, 103, 104, 105, 106, 107, 108, 109, 110, 111, 112, 113, 114, 115, 116, 117, 118, 119, 120, 121, 122, 123, 124, 125, 126, 127, 128, 129, 130, 131, 132, 133, 134, 135, 136, 137, 138, 139, 140, 141, 142, 143, 144, 145, 146, 147, 148, 149], \"y\": [10, 10.612893766376521, 11.263351409639363, 11.95367519638698, 12.686308497702502, 13.463844437359636, 14.289035070071728, 15.164801122269974, 16.09424232988787, 17.08064840974201, 18.127510703342004, 19.238534534342204, 20.41765232337398, 21.669037506677878, 22.99711930780007, 24.40659841463685, 25.90246361731545, 27.490009465800178, 29.174855009722226, 30.96296368676198, 32.86066442997788, 34.87467406879029, 37.01212110290774, 39.28057093334225, 41.68805263981787, 44.24308739934993, 46.95471864658125, 49.832544082626555, 52.88674964571906, 56.128145563896744, 59.568204617335375, 63.21910274575597, 67.09376214463504, 71.20589700275461, 75.57006204297831, 80.20170403806114, 85.11721648383137, 90.33399762325749, 95.87051202677408, 101.74635594682759, 107.98232667796132, 114.60049616793688, 121.62428914043537, 129.0785660058502, 136.98971085363078, 145.385724837622, 154.29632528493306, 163.75305087912702, 173.78937329002244, 184.44081564521613, 195.74507826265153, 207.74217208925788, 220.47456031796034, 233.98730868430854, 248.3282449746917, 263.54812831071274, 279.7008288088963, 296.8435182516282, 315.036872444198, 334.34528597417847, 354.8371001332734, 376.58484480835386, 399.66549519784485, 424.1607442620993, 450.1572918720859, 477.7471516798197, 507.0279767966897, 538.1034054324087, 571.0834277179589, 606.0847750108862, 643.231333060875, 682.654580497982, 724.4940541955413, 768.8978431548713, 816.0231126598686, 866.0366605567085, 919.115507627583, 975.4475241480768, 1035.2320948458535, 1098.6808246142466, 1166.0182874785953, 1237.4828214662612, 1313.3273721937312, 1393.8203881566508, 1479.2467708916222, 1569.9088833728295, 1666.1276202126626, 1768.2435434542715, 1876.6180879761368, 1991.6348407751368, 2113.7008986560745, 2243.2483091331505, 2380.7355996433885, 2526.6494004845986, 2681.506167222197, 2845.854008661265, 3020.2746268538776, 3205.3853760082693, 3401.8414475872623, 3610.338189330014, 3831.61356640516, 4066.4507734065032, 4315.681006436286, 4580.186405087721, 4860.903174739797, 5158.824900215583, 5475.006062532593, 5810.565771192582, 6166.691725221054, 6544.64441697642, 6945.761593607995, 7371.462991953974, 7823.2553636383545, 8302.737808152917, 8811.607432800474, 9351.665359532517, 9924.82309994219, 10533.109320976617, 11178.677025315517, 11863.811171830748, 12590.936763099067, 13362.627428593507, 14181.614533933194, 15050.796848433427, 15973.250805173851, 16952.24138989983, 17991.233697297797, 19093.9051955475, 20264.158742561034, 21506.136399979026, 22824.23409381806, 24223.117173660015, 25707.736925454443, 27283.348096380298, 28955.52749379552, 30730.193724104643, 32613.628141409306, 34612.49708008847, 36733.87544999964, 38985.27177781527, 41374.65478312702, 43910.48158338293, 46601.72762748757, 49457.918464013936, 52489.16345646917, 55706.19156494799, 59120.38932082129, 62743.84112886973, 66589.37203951004, 70670.59314250431, 75001.94974282153]}],\n",
       "                        {\"template\": {\"data\": {\"bar\": [{\"error_x\": {\"color\": \"#2a3f5f\"}, \"error_y\": {\"color\": \"#2a3f5f\"}, \"marker\": {\"line\": {\"color\": \"#E5ECF6\", \"width\": 0.5}}, \"type\": \"bar\"}], \"barpolar\": [{\"marker\": {\"line\": {\"color\": \"#E5ECF6\", \"width\": 0.5}}, \"type\": \"barpolar\"}], \"carpet\": [{\"aaxis\": {\"endlinecolor\": \"#2a3f5f\", \"gridcolor\": \"white\", \"linecolor\": \"white\", \"minorgridcolor\": \"white\", \"startlinecolor\": \"#2a3f5f\"}, \"baxis\": {\"endlinecolor\": \"#2a3f5f\", \"gridcolor\": \"white\", \"linecolor\": \"white\", \"minorgridcolor\": \"white\", \"startlinecolor\": \"#2a3f5f\"}, \"type\": \"carpet\"}], \"choropleth\": [{\"colorbar\": {\"outlinewidth\": 0, \"ticks\": \"\"}, \"type\": \"choropleth\"}], \"contour\": [{\"colorbar\": {\"outlinewidth\": 0, \"ticks\": \"\"}, \"colorscale\": [[0.0, \"#0d0887\"], [0.1111111111111111, \"#46039f\"], [0.2222222222222222, \"#7201a8\"], [0.3333333333333333, \"#9c179e\"], [0.4444444444444444, \"#bd3786\"], [0.5555555555555556, \"#d8576b\"], [0.6666666666666666, \"#ed7953\"], [0.7777777777777778, \"#fb9f3a\"], [0.8888888888888888, \"#fdca26\"], [1.0, \"#f0f921\"]], \"type\": \"contour\"}], \"contourcarpet\": [{\"colorbar\": {\"outlinewidth\": 0, \"ticks\": \"\"}, \"type\": \"contourcarpet\"}], \"heatmap\": [{\"colorbar\": {\"outlinewidth\": 0, \"ticks\": \"\"}, \"colorscale\": [[0.0, \"#0d0887\"], [0.1111111111111111, \"#46039f\"], [0.2222222222222222, \"#7201a8\"], [0.3333333333333333, \"#9c179e\"], [0.4444444444444444, \"#bd3786\"], [0.5555555555555556, \"#d8576b\"], [0.6666666666666666, \"#ed7953\"], [0.7777777777777778, \"#fb9f3a\"], [0.8888888888888888, \"#fdca26\"], [1.0, \"#f0f921\"]], \"type\": \"heatmap\"}], \"heatmapgl\": [{\"colorbar\": {\"outlinewidth\": 0, \"ticks\": \"\"}, \"colorscale\": [[0.0, \"#0d0887\"], [0.1111111111111111, \"#46039f\"], [0.2222222222222222, \"#7201a8\"], [0.3333333333333333, \"#9c179e\"], [0.4444444444444444, \"#bd3786\"], [0.5555555555555556, \"#d8576b\"], [0.6666666666666666, \"#ed7953\"], [0.7777777777777778, \"#fb9f3a\"], [0.8888888888888888, \"#fdca26\"], [1.0, \"#f0f921\"]], \"type\": \"heatmapgl\"}], \"histogram\": [{\"marker\": {\"colorbar\": {\"outlinewidth\": 0, \"ticks\": \"\"}}, \"type\": \"histogram\"}], \"histogram2d\": [{\"colorbar\": {\"outlinewidth\": 0, \"ticks\": \"\"}, \"colorscale\": [[0.0, \"#0d0887\"], [0.1111111111111111, \"#46039f\"], [0.2222222222222222, \"#7201a8\"], [0.3333333333333333, \"#9c179e\"], [0.4444444444444444, \"#bd3786\"], [0.5555555555555556, \"#d8576b\"], [0.6666666666666666, \"#ed7953\"], [0.7777777777777778, \"#fb9f3a\"], [0.8888888888888888, \"#fdca26\"], [1.0, \"#f0f921\"]], \"type\": \"histogram2d\"}], \"histogram2dcontour\": [{\"colorbar\": {\"outlinewidth\": 0, \"ticks\": \"\"}, \"colorscale\": [[0.0, \"#0d0887\"], [0.1111111111111111, \"#46039f\"], [0.2222222222222222, \"#7201a8\"], [0.3333333333333333, \"#9c179e\"], [0.4444444444444444, \"#bd3786\"], [0.5555555555555556, \"#d8576b\"], [0.6666666666666666, \"#ed7953\"], [0.7777777777777778, \"#fb9f3a\"], [0.8888888888888888, \"#fdca26\"], [1.0, \"#f0f921\"]], \"type\": \"histogram2dcontour\"}], \"mesh3d\": [{\"colorbar\": {\"outlinewidth\": 0, \"ticks\": \"\"}, \"type\": \"mesh3d\"}], \"parcoords\": [{\"line\": {\"colorbar\": {\"outlinewidth\": 0, \"ticks\": \"\"}}, \"type\": \"parcoords\"}], \"scatter\": [{\"marker\": {\"colorbar\": {\"outlinewidth\": 0, \"ticks\": \"\"}}, \"type\": \"scatter\"}], \"scatter3d\": [{\"line\": {\"colorbar\": {\"outlinewidth\": 0, \"ticks\": \"\"}}, \"marker\": {\"colorbar\": {\"outlinewidth\": 0, \"ticks\": \"\"}}, \"type\": \"scatter3d\"}], \"scattercarpet\": [{\"marker\": {\"colorbar\": {\"outlinewidth\": 0, \"ticks\": \"\"}}, \"type\": \"scattercarpet\"}], \"scattergeo\": [{\"marker\": {\"colorbar\": {\"outlinewidth\": 0, \"ticks\": \"\"}}, \"type\": \"scattergeo\"}], \"scattergl\": [{\"marker\": {\"colorbar\": {\"outlinewidth\": 0, \"ticks\": \"\"}}, \"type\": \"scattergl\"}], \"scattermapbox\": [{\"marker\": {\"colorbar\": {\"outlinewidth\": 0, \"ticks\": \"\"}}, \"type\": \"scattermapbox\"}], \"scatterpolar\": [{\"marker\": {\"colorbar\": {\"outlinewidth\": 0, \"ticks\": \"\"}}, \"type\": \"scatterpolar\"}], \"scatterpolargl\": [{\"marker\": {\"colorbar\": {\"outlinewidth\": 0, \"ticks\": \"\"}}, \"type\": \"scatterpolargl\"}], \"scatterternary\": [{\"marker\": {\"colorbar\": {\"outlinewidth\": 0, \"ticks\": \"\"}}, \"type\": \"scatterternary\"}], \"surface\": [{\"colorbar\": {\"outlinewidth\": 0, \"ticks\": \"\"}, \"colorscale\": [[0.0, \"#0d0887\"], [0.1111111111111111, \"#46039f\"], [0.2222222222222222, \"#7201a8\"], [0.3333333333333333, \"#9c179e\"], [0.4444444444444444, \"#bd3786\"], [0.5555555555555556, \"#d8576b\"], [0.6666666666666666, \"#ed7953\"], [0.7777777777777778, \"#fb9f3a\"], [0.8888888888888888, \"#fdca26\"], [1.0, \"#f0f921\"]], \"type\": \"surface\"}], \"table\": [{\"cells\": {\"fill\": {\"color\": \"#EBF0F8\"}, \"line\": {\"color\": \"white\"}}, \"header\": {\"fill\": {\"color\": \"#C8D4E3\"}, \"line\": {\"color\": \"white\"}}, \"type\": \"table\"}]}, \"layout\": {\"annotationdefaults\": {\"arrowcolor\": \"#2a3f5f\", \"arrowhead\": 0, \"arrowwidth\": 1}, \"colorscale\": {\"diverging\": [[0, \"#8e0152\"], [0.1, \"#c51b7d\"], [0.2, \"#de77ae\"], [0.3, \"#f1b6da\"], [0.4, \"#fde0ef\"], [0.5, \"#f7f7f7\"], [0.6, \"#e6f5d0\"], [0.7, \"#b8e186\"], [0.8, \"#7fbc41\"], [0.9, \"#4d9221\"], [1, \"#276419\"]], \"sequential\": [[0.0, \"#0d0887\"], [0.1111111111111111, \"#46039f\"], [0.2222222222222222, \"#7201a8\"], [0.3333333333333333, \"#9c179e\"], [0.4444444444444444, \"#bd3786\"], [0.5555555555555556, \"#d8576b\"], [0.6666666666666666, \"#ed7953\"], [0.7777777777777778, \"#fb9f3a\"], [0.8888888888888888, \"#fdca26\"], [1.0, \"#f0f921\"]], \"sequentialminus\": [[0.0, \"#0d0887\"], [0.1111111111111111, \"#46039f\"], [0.2222222222222222, \"#7201a8\"], [0.3333333333333333, \"#9c179e\"], [0.4444444444444444, \"#bd3786\"], [0.5555555555555556, \"#d8576b\"], [0.6666666666666666, \"#ed7953\"], [0.7777777777777778, \"#fb9f3a\"], [0.8888888888888888, \"#fdca26\"], [1.0, \"#f0f921\"]]}, \"colorway\": [\"#636efa\", \"#EF553B\", \"#00cc96\", \"#ab63fa\", \"#FFA15A\", \"#19d3f3\", \"#FF6692\", \"#B6E880\", \"#FF97FF\", \"#FECB52\"], \"font\": {\"color\": \"#2a3f5f\"}, \"geo\": {\"bgcolor\": \"white\", \"lakecolor\": \"white\", \"landcolor\": \"#E5ECF6\", \"showlakes\": true, \"showland\": true, \"subunitcolor\": \"white\"}, \"hoverlabel\": {\"align\": \"left\"}, \"hovermode\": \"closest\", \"mapbox\": {\"style\": \"light\"}, \"paper_bgcolor\": \"white\", \"plot_bgcolor\": \"#E5ECF6\", \"polar\": {\"angularaxis\": {\"gridcolor\": \"white\", \"linecolor\": \"white\", \"ticks\": \"\"}, \"bgcolor\": \"#E5ECF6\", \"radialaxis\": {\"gridcolor\": \"white\", \"linecolor\": \"white\", \"ticks\": \"\"}}, \"scene\": {\"xaxis\": {\"backgroundcolor\": \"#E5ECF6\", \"gridcolor\": \"white\", \"gridwidth\": 2, \"linecolor\": \"white\", \"showbackground\": true, \"ticks\": \"\", \"zerolinecolor\": \"white\"}, \"yaxis\": {\"backgroundcolor\": \"#E5ECF6\", \"gridcolor\": \"white\", \"gridwidth\": 2, \"linecolor\": \"white\", \"showbackground\": true, \"ticks\": \"\", \"zerolinecolor\": \"white\"}, \"zaxis\": {\"backgroundcolor\": \"#E5ECF6\", \"gridcolor\": \"white\", \"gridwidth\": 2, \"linecolor\": \"white\", \"showbackground\": true, \"ticks\": \"\", \"zerolinecolor\": \"white\"}}, \"shapedefaults\": {\"line\": {\"color\": \"#2a3f5f\"}}, \"ternary\": {\"aaxis\": {\"gridcolor\": \"white\", \"linecolor\": \"white\", \"ticks\": \"\"}, \"baxis\": {\"gridcolor\": \"white\", \"linecolor\": \"white\", \"ticks\": \"\"}, \"bgcolor\": \"#E5ECF6\", \"caxis\": {\"gridcolor\": \"white\", \"linecolor\": \"white\", \"ticks\": \"\"}}, \"title\": {\"x\": 0.05}, \"xaxis\": {\"automargin\": true, \"gridcolor\": \"white\", \"linecolor\": \"white\", \"ticks\": \"\", \"zerolinecolor\": \"white\", \"zerolinewidth\": 2}, \"yaxis\": {\"automargin\": true, \"gridcolor\": \"white\", \"linecolor\": \"white\", \"ticks\": \"\", \"zerolinecolor\": \"white\", \"zerolinewidth\": 2}}}},\n",
       "                        {\"responsive\": true}\n",
       "                    ).then(function(){\n",
       "                            \n",
       "var gd = document.getElementById('c4eecbfd-0a3c-4e13-b7ca-98b49e045de1');\n",
       "var x = new MutationObserver(function (mutations, observer) {{\n",
       "        var display = window.getComputedStyle(gd).display;\n",
       "        if (!display || display === 'none') {{\n",
       "            console.log([gd, 'removed!']);\n",
       "            Plotly.purge(gd);\n",
       "            observer.disconnect();\n",
       "        }}\n",
       "}});\n",
       "\n",
       "// Listen for the removal of the full notebook cells\n",
       "var notebookContainer = gd.closest('#notebook-container');\n",
       "if (notebookContainer) {{\n",
       "    x.observe(notebookContainer, {childList: true});\n",
       "}}\n",
       "\n",
       "// Listen for the clearing of the current output cell\n",
       "var outputEl = gd.closest('.output');\n",
       "if (outputEl) {{\n",
       "    x.observe(outputEl, {childList: true});\n",
       "}}\n",
       "\n",
       "                        })\n",
       "                };\n",
       "                });\n",
       "            </script>\n",
       "        </div>"
      ]
     },
     "metadata": {},
     "output_type": "display_data"
    }
   ],
   "source": [
    "iplot(go.Figure(data=[go.Scatter(x=list(range(horizon)),y=population,name='population'),\n",
    "                     go.Scatter(x=list(range(horizon)),y=estimated_population_geometric,name='estimated_population_geometric'),\n",
    "                     go.Scatter(x=list(range(horizon)),y=estimated_population_arithmetic,name='estimated_population_arithmetic'),\n",
    "                      go.Scatter(x=list(range(horizon)),y=estimated_population_harmonic,name='estimated_population_harmonic')]))"
   ]
  },
  {
   "cell_type": "code",
   "execution_count": null,
   "metadata": {},
   "outputs": [],
   "source": []
  },
  {
   "cell_type": "code",
   "execution_count": null,
   "metadata": {},
   "outputs": [],
   "source": []
  },
  {
   "cell_type": "code",
   "execution_count": null,
   "metadata": {},
   "outputs": [],
   "source": []
  }
 ],
 "metadata": {
  "kernelspec": {
   "display_name": "dev",
   "language": "python",
   "name": "dev"
  },
  "language_info": {
   "codemirror_mode": {
    "name": "ipython",
    "version": 3
   },
   "file_extension": ".py",
   "mimetype": "text/x-python",
   "name": "python",
   "nbconvert_exporter": "python",
   "pygments_lexer": "ipython3",
   "version": "3.7.4"
  }
 },
 "nbformat": 4,
 "nbformat_minor": 4
}
