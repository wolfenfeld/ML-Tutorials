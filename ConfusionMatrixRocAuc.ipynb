{
 "cells": [
  {
   "cell_type": "code",
   "execution_count": 9,
   "metadata": {},
   "outputs": [],
   "source": [
    "%%capture\n",
    "%run 'Plotting.ipynb'\n",
    "\n",
    "import itertools\n",
    "import numpy as np\n",
    "import matplotlib.pyplot as plt\n",
    "from itertools import cycle\n",
    "\n",
    "from sklearn import svm, datasets\n",
    "from sklearn.model_selection import train_test_split\n",
    "from sklearn.metrics import confusion_matrix,roc_curve, auc\n",
    "from sklearn.preprocessing import label_binarize\n",
    "from sklearn.multiclass import OneVsRestClassifier\n",
    "\n",
    "from scipy import interp\n",
    "\n",
    "import plotly as py\n",
    "import plotly.graph_objs as go\n",
    "from plotly.offline import download_plotlyjs, init_notebook_mode, plot, iplot, plot_mpl\n",
    "import plotly.figure_factory as ff\n",
    "init_notebook_mode(connected=True)"
   ]
  },
  {
   "cell_type": "code",
   "execution_count": 2,
   "metadata": {
    "collapsed": true
   },
   "outputs": [],
   "source": [
    "# import some data to play with\n",
    "iris = datasets.load_iris()\n",
    "X = iris.data\n",
    "y = iris.target\n",
    "class_names = iris.target_names\n",
    "\n",
    "# Split the data into a training set and a test set\n",
    "X_train, X_test, y_train, y_test = train_test_split(X, y, random_state=0)\n",
    "\n",
    "# Run classifier, using a model that is too regularized (C too low) to see\n",
    "# the impact on the results\n",
    "classifier = svm.SVC(kernel='linear', C=0.01)\n",
    "y_pred = classifier.fit(X_train, y_train).predict(X_test)"
   ]
  },
  {
   "cell_type": "code",
   "execution_count": 3,
   "metadata": {
    "collapsed": true
   },
   "outputs": [],
   "source": [
    "def plot_binary_confusion_matrix():\n",
    "    cm = [[1,2],[3,4]]\n",
    "    cm_text = [['False Negative','True Negative'],['True Positive','False Positive']]\n",
    "    x = ['Class A','Class B']\n",
    "    y = ['Class B','Class A']\n",
    "    fig = ff.create_annotated_heatmap(cm, \n",
    "                                      x=x, \n",
    "                                      y=y, \n",
    "                                      annotation_text=cm_text, \n",
    "                                      colorscale='Viridis')\n",
    "    \n",
    "    fig['layout']['yaxis'].update({'title':'True Value'})\n",
    "    fig['layout']['xaxis'].update({'title':'Predicted Value'})\n",
    "    iplot(fig)"
   ]
  },
  {
   "cell_type": "code",
   "execution_count": 4,
   "metadata": {},
   "outputs": [
    {
     "data": {
      "application/vnd.plotly.v1+json": {
       "data": [
        {
         "colorscale": "Viridis",
         "showscale": false,
         "type": "heatmap",
         "x": [
          "Class A",
          "Class B"
         ],
         "y": [
          "Class B",
          "Class A"
         ],
         "z": [
          [
           1,
           2
          ],
          [
           3,
           4
          ]
         ]
        }
       ],
       "layout": {
        "annotations": [
         {
          "font": {
           "color": "#FFFFFF"
          },
          "showarrow": false,
          "text": "False Negative",
          "x": "Class A",
          "xref": "x1",
          "y": "Class B",
          "yref": "y1"
         },
         {
          "font": {
           "color": "#FFFFFF"
          },
          "showarrow": false,
          "text": "True Negative",
          "x": "Class B",
          "xref": "x1",
          "y": "Class B",
          "yref": "y1"
         },
         {
          "font": {
           "color": "#000000"
          },
          "showarrow": false,
          "text": "True Positive",
          "x": "Class A",
          "xref": "x1",
          "y": "Class A",
          "yref": "y1"
         },
         {
          "font": {
           "color": "#000000"
          },
          "showarrow": false,
          "text": "False Positive",
          "x": "Class B",
          "xref": "x1",
          "y": "Class A",
          "yref": "y1"
         }
        ],
        "xaxis": {
         "dtick": 1,
         "gridcolor": "rgb(0, 0, 0)",
         "side": "top",
         "ticks": "",
         "title": "Predicted Value"
        },
        "yaxis": {
         "dtick": 1,
         "ticks": "",
         "ticksuffix": "  ",
         "title": "True Value"
        }
       }
      },
      "text/html": [
       "<div id=\"a2b9a93a-cb0a-4c06-bec4-3db3ed5c9e5a\" style=\"height: 525px; width: 100%;\" class=\"plotly-graph-div\"></div><script type=\"text/javascript\">require([\"plotly\"], function(Plotly) { window.PLOTLYENV=window.PLOTLYENV || {};window.PLOTLYENV.BASE_URL=\"https://plot.ly\";Plotly.newPlot(\"a2b9a93a-cb0a-4c06-bec4-3db3ed5c9e5a\", [{\"type\": \"heatmap\", \"z\": [[1, 2], [3, 4]], \"x\": [\"Class A\", \"Class B\"], \"y\": [\"Class B\", \"Class A\"], \"colorscale\": \"Viridis\", \"showscale\": false}], {\"annotations\": [{\"text\": \"False Negative\", \"x\": \"Class A\", \"y\": \"Class B\", \"xref\": \"x1\", \"yref\": \"y1\", \"font\": {\"color\": \"#FFFFFF\"}, \"showarrow\": false}, {\"text\": \"True Negative\", \"x\": \"Class B\", \"y\": \"Class B\", \"xref\": \"x1\", \"yref\": \"y1\", \"font\": {\"color\": \"#FFFFFF\"}, \"showarrow\": false}, {\"text\": \"True Positive\", \"x\": \"Class A\", \"y\": \"Class A\", \"xref\": \"x1\", \"yref\": \"y1\", \"font\": {\"color\": \"#000000\"}, \"showarrow\": false}, {\"text\": \"False Positive\", \"x\": \"Class B\", \"y\": \"Class A\", \"xref\": \"x1\", \"yref\": \"y1\", \"font\": {\"color\": \"#000000\"}, \"showarrow\": false}], \"xaxis\": {\"ticks\": \"\", \"dtick\": 1, \"side\": \"top\", \"gridcolor\": \"rgb(0, 0, 0)\", \"title\": \"Predicted Value\"}, \"yaxis\": {\"ticks\": \"\", \"dtick\": 1, \"ticksuffix\": \"  \", \"title\": \"True Value\"}}, {\"showLink\": true, \"linkText\": \"Export to plot.ly\"})});</script>"
      ],
      "text/vnd.plotly.v1+html": [
       "<div id=\"a2b9a93a-cb0a-4c06-bec4-3db3ed5c9e5a\" style=\"height: 525px; width: 100%;\" class=\"plotly-graph-div\"></div><script type=\"text/javascript\">require([\"plotly\"], function(Plotly) { window.PLOTLYENV=window.PLOTLYENV || {};window.PLOTLYENV.BASE_URL=\"https://plot.ly\";Plotly.newPlot(\"a2b9a93a-cb0a-4c06-bec4-3db3ed5c9e5a\", [{\"type\": \"heatmap\", \"z\": [[1, 2], [3, 4]], \"x\": [\"Class A\", \"Class B\"], \"y\": [\"Class B\", \"Class A\"], \"colorscale\": \"Viridis\", \"showscale\": false}], {\"annotations\": [{\"text\": \"False Negative\", \"x\": \"Class A\", \"y\": \"Class B\", \"xref\": \"x1\", \"yref\": \"y1\", \"font\": {\"color\": \"#FFFFFF\"}, \"showarrow\": false}, {\"text\": \"True Negative\", \"x\": \"Class B\", \"y\": \"Class B\", \"xref\": \"x1\", \"yref\": \"y1\", \"font\": {\"color\": \"#FFFFFF\"}, \"showarrow\": false}, {\"text\": \"True Positive\", \"x\": \"Class A\", \"y\": \"Class A\", \"xref\": \"x1\", \"yref\": \"y1\", \"font\": {\"color\": \"#000000\"}, \"showarrow\": false}, {\"text\": \"False Positive\", \"x\": \"Class B\", \"y\": \"Class A\", \"xref\": \"x1\", \"yref\": \"y1\", \"font\": {\"color\": \"#000000\"}, \"showarrow\": false}], \"xaxis\": {\"ticks\": \"\", \"dtick\": 1, \"side\": \"top\", \"gridcolor\": \"rgb(0, 0, 0)\", \"title\": \"Predicted Value\"}, \"yaxis\": {\"ticks\": \"\", \"dtick\": 1, \"ticksuffix\": \"  \", \"title\": \"True Value\"}}, {\"showLink\": true, \"linkText\": \"Export to plot.ly\"})});</script>"
      ]
     },
     "metadata": {},
     "output_type": "display_data"
    }
   ],
   "source": [
    "plot_binary_confusion_matrix()"
   ]
  },
  {
   "cell_type": "markdown",
   "metadata": {},
   "source": [
    "True Positive (TP) - same as \"hit\"\n",
    "\n",
    "True Negative (TN) - same as \"correct rejection\"\n",
    "\n",
    "False Positive (FP) - same as \"false alarm\", Type I error\n",
    "\n",
    "False Negative (FN) - same as miss, Type II error\n",
    "\n",
    "True Positive Rate (TPR), Sensitivity, Recall -  \n",
    "$${\\displaystyle \\mathrm {TPR} = {\\frac {\\mathrm {TP} }{\\mathrm {TP} +\\mathrm {FN} }}}$$  \n",
    "True negative rate (TNR) or Specificity\n",
    "$${\\displaystyle \\mathrm {TNR} ={\\frac {\\mathrm {TN} }{\\mathrm {TN} +\\mathrm {FP} }}}$$\n",
    "\n",
    "Positive Predictive Value (PPV) or Precision \n",
    "$${\\displaystyle \\mathrm {PPV} ={\\frac {\\mathrm {TP} }{\\mathrm {TP} +\\mathrm {FP} }}}$$\n",
    "\n",
    "Negative Predictive Value (NPV)\n",
    "$${\\displaystyle \\mathrm {NPV} ={\\frac {\\mathrm {TN} }{\\mathrm {TN} +\\mathrm {FN} }}}$$\n",
    "\n",
    "False Negative Rate (FNR) or Miss Rate\n",
    "$${\\displaystyle \\mathrm {FNR} ={\\frac {\\mathrm {FN} }{\\mathrm {FN} +\\mathrm {TP} }}=1-\\mathrm {TPR} }$$ \n",
    "\n",
    "False Positive Rate (FPR) or Fall-out\n",
    "$${\\displaystyle \\mathrm {FPR} ={\\frac {\\mathrm {FP} }{\\mathrm {FP} +\\mathrm {TN} }}=1-\\mathrm {TNR} }$$\n",
    "\n",
    "False Discovery Rate (FDR)\n",
    "$${\\displaystyle \\mathrm {FDR} ={\\frac {\\mathrm {FP} }{\\mathrm {FP} +\\mathrm {TP} }}=1-\\mathrm {PPV} }$$\n",
    "\n",
    "False Omission Rate (FOR)\n",
    "$${\\displaystyle \\mathrm {FOR} ={\\frac {\\mathrm {FN} }{\\mathrm {FN} +\\mathrm {TN} }}=1-\\mathrm {NPV} }$$ \n",
    "\n",
    "Accuracy (ACC)\n",
    "$${\\displaystyle \\mathrm {ACC} = {\\frac {\\mathrm {TP} +\\mathrm {TN} }{\\mathrm {TP} +\\mathrm {TN} +\\mathrm {FP} +\\mathrm {FN} }}}$$ \n",
    "\n",
    "F1 score is the harmonic mean of precision and sensitivity\n",
    "$${\\displaystyle F_{1} = 2\\cdot {\\frac {\\mathrm {PPV} \\cdot \\mathrm {TPR} }{\\mathrm {PPV} +\\mathrm {TPR} }}={\\frac {2\\mathrm {TP} }{2\\mathrm {TP} +\\mathrm {FP} +\\mathrm {FN} }}} $$\n"
   ]
  },
  {
   "cell_type": "code",
   "execution_count": 6,
   "metadata": {
    "collapsed": true
   },
   "outputs": [],
   "source": [
    "c_matrix = confusion_matrix(y_test, y_pred)"
   ]
  },
  {
   "cell_type": "code",
   "execution_count": 10,
   "metadata": {},
   "outputs": [
    {
     "data": {
      "application/vnd.plotly.v1+json": {
       "data": [
        {
         "colorscale": "Viridis",
         "showscale": false,
         "type": "heatmap",
         "x": [
          "setosa",
          "versicolor",
          "virginica"
         ],
         "y": [
          "virginica",
          "versicolor",
          "setosa"
         ],
         "z": [
          [
           0,
           0,
           9
          ],
          [
           0,
           10,
           6
          ],
          [
           13,
           0,
           0
          ]
         ]
        }
       ],
       "layout": {
        "annotations": [
         {
          "font": {
           "color": "#FFFFFF"
          },
          "showarrow": false,
          "text": "0",
          "x": "setosa",
          "xref": "x1",
          "y": "virginica",
          "yref": "y1"
         },
         {
          "font": {
           "color": "#FFFFFF"
          },
          "showarrow": false,
          "text": "0",
          "x": "versicolor",
          "xref": "x1",
          "y": "virginica",
          "yref": "y1"
         },
         {
          "font": {
           "color": "#000000"
          },
          "showarrow": false,
          "text": "9",
          "x": "virginica",
          "xref": "x1",
          "y": "virginica",
          "yref": "y1"
         },
         {
          "font": {
           "color": "#FFFFFF"
          },
          "showarrow": false,
          "text": "0",
          "x": "setosa",
          "xref": "x1",
          "y": "versicolor",
          "yref": "y1"
         },
         {
          "font": {
           "color": "#000000"
          },
          "showarrow": false,
          "text": "10",
          "x": "versicolor",
          "xref": "x1",
          "y": "versicolor",
          "yref": "y1"
         },
         {
          "font": {
           "color": "#FFFFFF"
          },
          "showarrow": false,
          "text": "6",
          "x": "virginica",
          "xref": "x1",
          "y": "versicolor",
          "yref": "y1"
         },
         {
          "font": {
           "color": "#000000"
          },
          "showarrow": false,
          "text": "13",
          "x": "setosa",
          "xref": "x1",
          "y": "setosa",
          "yref": "y1"
         },
         {
          "font": {
           "color": "#FFFFFF"
          },
          "showarrow": false,
          "text": "0",
          "x": "versicolor",
          "xref": "x1",
          "y": "setosa",
          "yref": "y1"
         },
         {
          "font": {
           "color": "#FFFFFF"
          },
          "showarrow": false,
          "text": "0",
          "x": "virginica",
          "xref": "x1",
          "y": "setosa",
          "yref": "y1"
         }
        ],
        "xaxis": {
         "dtick": 1,
         "gridcolor": "rgb(0, 0, 0)",
         "side": "top",
         "ticks": "",
         "title": "Predicted Value"
        },
        "yaxis": {
         "dtick": 1,
         "ticks": "",
         "ticksuffix": "  ",
         "title": "True Value"
        }
       }
      },
      "text/html": [
       "<div id=\"b2f7051c-ffde-4480-ba87-5c18d1f04f26\" style=\"height: 525px; width: 100%;\" class=\"plotly-graph-div\"></div><script type=\"text/javascript\">require([\"plotly\"], function(Plotly) { window.PLOTLYENV=window.PLOTLYENV || {};window.PLOTLYENV.BASE_URL=\"https://plot.ly\";Plotly.newPlot(\"b2f7051c-ffde-4480-ba87-5c18d1f04f26\", [{\"type\": \"heatmap\", \"z\": [[0, 0, 9], [0, 10, 6], [13, 0, 0]], \"x\": [\"setosa\", \"versicolor\", \"virginica\"], \"y\": [\"virginica\", \"versicolor\", \"setosa\"], \"colorscale\": \"Viridis\", \"showscale\": false}], {\"annotations\": [{\"text\": \"0\", \"x\": \"setosa\", \"y\": \"virginica\", \"xref\": \"x1\", \"yref\": \"y1\", \"font\": {\"color\": \"#FFFFFF\"}, \"showarrow\": false}, {\"text\": \"0\", \"x\": \"versicolor\", \"y\": \"virginica\", \"xref\": \"x1\", \"yref\": \"y1\", \"font\": {\"color\": \"#FFFFFF\"}, \"showarrow\": false}, {\"text\": \"9\", \"x\": \"virginica\", \"y\": \"virginica\", \"xref\": \"x1\", \"yref\": \"y1\", \"font\": {\"color\": \"#000000\"}, \"showarrow\": false}, {\"text\": \"0\", \"x\": \"setosa\", \"y\": \"versicolor\", \"xref\": \"x1\", \"yref\": \"y1\", \"font\": {\"color\": \"#FFFFFF\"}, \"showarrow\": false}, {\"text\": \"10\", \"x\": \"versicolor\", \"y\": \"versicolor\", \"xref\": \"x1\", \"yref\": \"y1\", \"font\": {\"color\": \"#000000\"}, \"showarrow\": false}, {\"text\": \"6\", \"x\": \"virginica\", \"y\": \"versicolor\", \"xref\": \"x1\", \"yref\": \"y1\", \"font\": {\"color\": \"#FFFFFF\"}, \"showarrow\": false}, {\"text\": \"13\", \"x\": \"setosa\", \"y\": \"setosa\", \"xref\": \"x1\", \"yref\": \"y1\", \"font\": {\"color\": \"#000000\"}, \"showarrow\": false}, {\"text\": \"0\", \"x\": \"versicolor\", \"y\": \"setosa\", \"xref\": \"x1\", \"yref\": \"y1\", \"font\": {\"color\": \"#FFFFFF\"}, \"showarrow\": false}, {\"text\": \"0\", \"x\": \"virginica\", \"y\": \"setosa\", \"xref\": \"x1\", \"yref\": \"y1\", \"font\": {\"color\": \"#FFFFFF\"}, \"showarrow\": false}], \"xaxis\": {\"ticks\": \"\", \"dtick\": 1, \"side\": \"top\", \"gridcolor\": \"rgb(0, 0, 0)\", \"title\": \"Predicted Value\"}, \"yaxis\": {\"ticks\": \"\", \"dtick\": 1, \"ticksuffix\": \"  \", \"title\": \"True Value\"}}, {\"showLink\": true, \"linkText\": \"Export to plot.ly\"})});</script>"
      ],
      "text/vnd.plotly.v1+html": [
       "<div id=\"b2f7051c-ffde-4480-ba87-5c18d1f04f26\" style=\"height: 525px; width: 100%;\" class=\"plotly-graph-div\"></div><script type=\"text/javascript\">require([\"plotly\"], function(Plotly) { window.PLOTLYENV=window.PLOTLYENV || {};window.PLOTLYENV.BASE_URL=\"https://plot.ly\";Plotly.newPlot(\"b2f7051c-ffde-4480-ba87-5c18d1f04f26\", [{\"type\": \"heatmap\", \"z\": [[0, 0, 9], [0, 10, 6], [13, 0, 0]], \"x\": [\"setosa\", \"versicolor\", \"virginica\"], \"y\": [\"virginica\", \"versicolor\", \"setosa\"], \"colorscale\": \"Viridis\", \"showscale\": false}], {\"annotations\": [{\"text\": \"0\", \"x\": \"setosa\", \"y\": \"virginica\", \"xref\": \"x1\", \"yref\": \"y1\", \"font\": {\"color\": \"#FFFFFF\"}, \"showarrow\": false}, {\"text\": \"0\", \"x\": \"versicolor\", \"y\": \"virginica\", \"xref\": \"x1\", \"yref\": \"y1\", \"font\": {\"color\": \"#FFFFFF\"}, \"showarrow\": false}, {\"text\": \"9\", \"x\": \"virginica\", \"y\": \"virginica\", \"xref\": \"x1\", \"yref\": \"y1\", \"font\": {\"color\": \"#000000\"}, \"showarrow\": false}, {\"text\": \"0\", \"x\": \"setosa\", \"y\": \"versicolor\", \"xref\": \"x1\", \"yref\": \"y1\", \"font\": {\"color\": \"#FFFFFF\"}, \"showarrow\": false}, {\"text\": \"10\", \"x\": \"versicolor\", \"y\": \"versicolor\", \"xref\": \"x1\", \"yref\": \"y1\", \"font\": {\"color\": \"#000000\"}, \"showarrow\": false}, {\"text\": \"6\", \"x\": \"virginica\", \"y\": \"versicolor\", \"xref\": \"x1\", \"yref\": \"y1\", \"font\": {\"color\": \"#FFFFFF\"}, \"showarrow\": false}, {\"text\": \"13\", \"x\": \"setosa\", \"y\": \"setosa\", \"xref\": \"x1\", \"yref\": \"y1\", \"font\": {\"color\": \"#000000\"}, \"showarrow\": false}, {\"text\": \"0\", \"x\": \"versicolor\", \"y\": \"setosa\", \"xref\": \"x1\", \"yref\": \"y1\", \"font\": {\"color\": \"#FFFFFF\"}, \"showarrow\": false}, {\"text\": \"0\", \"x\": \"virginica\", \"y\": \"setosa\", \"xref\": \"x1\", \"yref\": \"y1\", \"font\": {\"color\": \"#FFFFFF\"}, \"showarrow\": false}], \"xaxis\": {\"ticks\": \"\", \"dtick\": 1, \"side\": \"top\", \"gridcolor\": \"rgb(0, 0, 0)\", \"title\": \"Predicted Value\"}, \"yaxis\": {\"ticks\": \"\", \"dtick\": 1, \"ticksuffix\": \"  \", \"title\": \"True Value\"}}, {\"showLink\": true, \"linkText\": \"Export to plot.ly\"})});</script>"
      ]
     },
     "metadata": {},
     "output_type": "display_data"
    }
   ],
   "source": [
    "cm_plot_handler = CMPlotHandler(confusion_matrix=c_matrix,classes=class_names)\n",
    "cm_plot_handler.plot()"
   ]
  },
  {
   "cell_type": "code",
   "execution_count": 38,
   "metadata": {
    "collapsed": true
   },
   "outputs": [],
   "source": [
    "# Binarize the output\n",
    "y_one_hot = label_binarize(y, classes=[0, 1, 2])\n",
    "n_classes = y_one_hot.shape[1]\n",
    "\n",
    "# Add noisy features to make the problem harder\n",
    "random_state = np.random.RandomState(0)\n",
    "n_samples, n_features = X.shape\n",
    "X = np.c_[X, random_state.randn(n_samples, 200 * n_features)]\n",
    "\n",
    "# shuffle and split training and test sets\n",
    "X_train, X_test, y_train, y_test = train_test_split(X, y_one_hot, test_size=.5,\n",
    "                                                    random_state=0)\n",
    "\n",
    "# Learn to predict each class against the other\n",
    "classifier = OneVsRestClassifier(svm.SVC(kernel='linear', probability=True,\n",
    "                                 random_state=random_state))\n",
    "\n",
    "y_score = classifier.fit(X_train, y_train).decision_function(X_test)"
   ]
  },
  {
   "cell_type": "code",
   "execution_count": 127,
   "metadata": {},
   "outputs": [
    {
     "data": {
      "application/vnd.plotly.v1+json": {
       "data": [
        {
         "mode": "lines",
         "name": "ROC curve of class 0 (area = 0.91)",
         "type": "scatter",
         "x": [
          0,
          0,
          0.018518518518518517,
          0.018518518518518517,
          0.037037037037037035,
          0.037037037037037035,
          0.05555555555555555,
          0.05555555555555555,
          0.07407407407407407,
          0.07407407407407407,
          0.09259259259259259,
          0.09259259259259259,
          0.12962962962962962,
          0.12962962962962962,
          0.14814814814814814,
          0.14814814814814814,
          0.2037037037037037,
          0.2037037037037037,
          0.2777777777777778,
          0.2777777777777778,
          1
         ],
         "y": [
          0.047619047619047616,
          0.14285714285714285,
          0.14285714285714285,
          0.19047619047619047,
          0.19047619047619047,
          0.2857142857142857,
          0.2857142857142857,
          0.38095238095238093,
          0.38095238095238093,
          0.6190476190476191,
          0.6190476190476191,
          0.6666666666666666,
          0.6666666666666666,
          0.7619047619047619,
          0.7619047619047619,
          0.9047619047619048,
          0.9047619047619048,
          0.9523809523809523,
          0.9523809523809523,
          1,
          1
         ]
        },
        {
         "mode": "lines",
         "name": "ROC curve of class 1 (area = 0.60)",
         "type": "scatter",
         "x": [
          0,
          0,
          0.022222222222222223,
          0.022222222222222223,
          0.1111111111111111,
          0.1111111111111111,
          0.17777777777777778,
          0.17777777777777778,
          0.2,
          0.2,
          0.24444444444444444,
          0.24444444444444444,
          0.26666666666666666,
          0.26666666666666666,
          0.37777777777777777,
          0.37777777777777777,
          0.4222222222222222,
          0.4222222222222222,
          0.4888888888888889,
          0.4888888888888889,
          0.5777777777777777,
          0.5777777777777777,
          0.6222222222222222,
          0.6222222222222222,
          0.6444444444444445,
          0.6444444444444445,
          0.6666666666666666,
          0.6666666666666666,
          0.7333333333333333,
          0.7333333333333333,
          0.7555555555555555,
          0.7555555555555555,
          0.8888888888888888,
          0.8888888888888888,
          1
         ],
         "y": [
          0.03333333333333333,
          0.13333333333333333,
          0.13333333333333333,
          0.16666666666666666,
          0.16666666666666666,
          0.2,
          0.2,
          0.26666666666666666,
          0.26666666666666666,
          0.3333333333333333,
          0.3333333333333333,
          0.4,
          0.4,
          0.43333333333333335,
          0.43333333333333335,
          0.5,
          0.5,
          0.5666666666666667,
          0.5666666666666667,
          0.6,
          0.6,
          0.6333333333333333,
          0.6333333333333333,
          0.7,
          0.7,
          0.7333333333333333,
          0.7333333333333333,
          0.9,
          0.9,
          0.9333333333333333,
          0.9333333333333333,
          0.9666666666666667,
          0.9666666666666667,
          1,
          1
         ]
        },
        {
         "mode": "lines",
         "name": "ROC curve of class 2 (area = 0.79)",
         "type": "scatter",
         "x": [
          0,
          0,
          0.0196078431372549,
          0.0196078431372549,
          0.0784313725490196,
          0.0784313725490196,
          0.09803921568627451,
          0.09803921568627451,
          0.11764705882352941,
          0.11764705882352941,
          0.13725490196078433,
          0.13725490196078433,
          0.1568627450980392,
          0.1568627450980392,
          0.17647058823529413,
          0.17647058823529413,
          0.3137254901960784,
          0.3137254901960784,
          0.3333333333333333,
          0.3333333333333333,
          0.35294117647058826,
          0.35294117647058826,
          0.4117647058823529,
          0.4117647058823529,
          0.45098039215686275,
          0.45098039215686275,
          0.47058823529411764,
          0.47058823529411764,
          0.5098039215686274,
          0.5098039215686274,
          0.5686274509803921,
          0.5686274509803921,
          1
         ],
         "y": [
          0.041666666666666664,
          0.125,
          0.125,
          0.25,
          0.25,
          0.2916666666666667,
          0.2916666666666667,
          0.3333333333333333,
          0.3333333333333333,
          0.4166666666666667,
          0.4166666666666667,
          0.5,
          0.5,
          0.5416666666666666,
          0.5416666666666666,
          0.5833333333333334,
          0.5833333333333334,
          0.6666666666666666,
          0.6666666666666666,
          0.75,
          0.75,
          0.7916666666666666,
          0.7916666666666666,
          0.8333333333333334,
          0.8333333333333334,
          0.875,
          0.875,
          0.9166666666666666,
          0.9166666666666666,
          0.9583333333333334,
          0.9583333333333334,
          1,
          1
         ]
        },
        {
         "line": {
          "color": "navy",
          "dash": "dash"
         },
         "mode": "lines",
         "showlegend": false,
         "type": "scatter",
         "x": [
          0,
          1
         ],
         "y": [
          0,
          1
         ]
        }
       ],
       "layout": {
        "title": "ROC Curve",
        "xaxis": {
         "title": "False Positive Rate"
        },
        "yaxis": {
         "title": "True Positive Rate"
        }
       }
      },
      "text/html": [
       "<div id=\"e3a47ae8-d387-49a6-a917-a82527022efe\" style=\"height: 525px; width: 100%;\" class=\"plotly-graph-div\"></div><script type=\"text/javascript\">require([\"plotly\"], function(Plotly) { window.PLOTLYENV=window.PLOTLYENV || {};window.PLOTLYENV.BASE_URL=\"https://plot.ly\";Plotly.newPlot(\"e3a47ae8-d387-49a6-a917-a82527022efe\", [{\"type\": \"scatter\", \"x\": [0.0, 0.0, 0.018518518518518517, 0.018518518518518517, 0.037037037037037035, 0.037037037037037035, 0.05555555555555555, 0.05555555555555555, 0.07407407407407407, 0.07407407407407407, 0.09259259259259259, 0.09259259259259259, 0.12962962962962962, 0.12962962962962962, 0.14814814814814814, 0.14814814814814814, 0.2037037037037037, 0.2037037037037037, 0.2777777777777778, 0.2777777777777778, 1.0], \"y\": [0.047619047619047616, 0.14285714285714285, 0.14285714285714285, 0.19047619047619047, 0.19047619047619047, 0.2857142857142857, 0.2857142857142857, 0.38095238095238093, 0.38095238095238093, 0.6190476190476191, 0.6190476190476191, 0.6666666666666666, 0.6666666666666666, 0.7619047619047619, 0.7619047619047619, 0.9047619047619048, 0.9047619047619048, 0.9523809523809523, 0.9523809523809523, 1.0, 1.0], \"mode\": \"lines\", \"name\": \"ROC curve of class 0 (area = 0.91)\"}, {\"type\": \"scatter\", \"x\": [0.0, 0.0, 0.022222222222222223, 0.022222222222222223, 0.1111111111111111, 0.1111111111111111, 0.17777777777777778, 0.17777777777777778, 0.2, 0.2, 0.24444444444444444, 0.24444444444444444, 0.26666666666666666, 0.26666666666666666, 0.37777777777777777, 0.37777777777777777, 0.4222222222222222, 0.4222222222222222, 0.4888888888888889, 0.4888888888888889, 0.5777777777777777, 0.5777777777777777, 0.6222222222222222, 0.6222222222222222, 0.6444444444444445, 0.6444444444444445, 0.6666666666666666, 0.6666666666666666, 0.7333333333333333, 0.7333333333333333, 0.7555555555555555, 0.7555555555555555, 0.8888888888888888, 0.8888888888888888, 1.0], \"y\": [0.03333333333333333, 0.13333333333333333, 0.13333333333333333, 0.16666666666666666, 0.16666666666666666, 0.2, 0.2, 0.26666666666666666, 0.26666666666666666, 0.3333333333333333, 0.3333333333333333, 0.4, 0.4, 0.43333333333333335, 0.43333333333333335, 0.5, 0.5, 0.5666666666666667, 0.5666666666666667, 0.6, 0.6, 0.6333333333333333, 0.6333333333333333, 0.7, 0.7, 0.7333333333333333, 0.7333333333333333, 0.9, 0.9, 0.9333333333333333, 0.9333333333333333, 0.9666666666666667, 0.9666666666666667, 1.0, 1.0], \"mode\": \"lines\", \"name\": \"ROC curve of class 1 (area = 0.60)\"}, {\"type\": \"scatter\", \"x\": [0.0, 0.0, 0.0196078431372549, 0.0196078431372549, 0.0784313725490196, 0.0784313725490196, 0.09803921568627451, 0.09803921568627451, 0.11764705882352941, 0.11764705882352941, 0.13725490196078433, 0.13725490196078433, 0.1568627450980392, 0.1568627450980392, 0.17647058823529413, 0.17647058823529413, 0.3137254901960784, 0.3137254901960784, 0.3333333333333333, 0.3333333333333333, 0.35294117647058826, 0.35294117647058826, 0.4117647058823529, 0.4117647058823529, 0.45098039215686275, 0.45098039215686275, 0.47058823529411764, 0.47058823529411764, 0.5098039215686274, 0.5098039215686274, 0.5686274509803921, 0.5686274509803921, 1.0], \"y\": [0.041666666666666664, 0.125, 0.125, 0.25, 0.25, 0.2916666666666667, 0.2916666666666667, 0.3333333333333333, 0.3333333333333333, 0.4166666666666667, 0.4166666666666667, 0.5, 0.5, 0.5416666666666666, 0.5416666666666666, 0.5833333333333334, 0.5833333333333334, 0.6666666666666666, 0.6666666666666666, 0.75, 0.75, 0.7916666666666666, 0.7916666666666666, 0.8333333333333334, 0.8333333333333334, 0.875, 0.875, 0.9166666666666666, 0.9166666666666666, 0.9583333333333334, 0.9583333333333334, 1.0, 1.0], \"mode\": \"lines\", \"name\": \"ROC curve of class 2 (area = 0.79)\"}, {\"type\": \"scatter\", \"x\": [0, 1], \"y\": [0, 1], \"mode\": \"lines\", \"line\": {\"color\": \"navy\", \"dash\": \"dash\"}, \"showlegend\": false}], {\"title\": \"ROC Curve\", \"xaxis\": {\"title\": \"False Positive Rate\"}, \"yaxis\": {\"title\": \"True Positive Rate\"}}, {\"showLink\": true, \"linkText\": \"Export to plot.ly\"})});</script>"
      ],
      "text/vnd.plotly.v1+html": [
       "<div id=\"e3a47ae8-d387-49a6-a917-a82527022efe\" style=\"height: 525px; width: 100%;\" class=\"plotly-graph-div\"></div><script type=\"text/javascript\">require([\"plotly\"], function(Plotly) { window.PLOTLYENV=window.PLOTLYENV || {};window.PLOTLYENV.BASE_URL=\"https://plot.ly\";Plotly.newPlot(\"e3a47ae8-d387-49a6-a917-a82527022efe\", [{\"type\": \"scatter\", \"x\": [0.0, 0.0, 0.018518518518518517, 0.018518518518518517, 0.037037037037037035, 0.037037037037037035, 0.05555555555555555, 0.05555555555555555, 0.07407407407407407, 0.07407407407407407, 0.09259259259259259, 0.09259259259259259, 0.12962962962962962, 0.12962962962962962, 0.14814814814814814, 0.14814814814814814, 0.2037037037037037, 0.2037037037037037, 0.2777777777777778, 0.2777777777777778, 1.0], \"y\": [0.047619047619047616, 0.14285714285714285, 0.14285714285714285, 0.19047619047619047, 0.19047619047619047, 0.2857142857142857, 0.2857142857142857, 0.38095238095238093, 0.38095238095238093, 0.6190476190476191, 0.6190476190476191, 0.6666666666666666, 0.6666666666666666, 0.7619047619047619, 0.7619047619047619, 0.9047619047619048, 0.9047619047619048, 0.9523809523809523, 0.9523809523809523, 1.0, 1.0], \"mode\": \"lines\", \"name\": \"ROC curve of class 0 (area = 0.91)\"}, {\"type\": \"scatter\", \"x\": [0.0, 0.0, 0.022222222222222223, 0.022222222222222223, 0.1111111111111111, 0.1111111111111111, 0.17777777777777778, 0.17777777777777778, 0.2, 0.2, 0.24444444444444444, 0.24444444444444444, 0.26666666666666666, 0.26666666666666666, 0.37777777777777777, 0.37777777777777777, 0.4222222222222222, 0.4222222222222222, 0.4888888888888889, 0.4888888888888889, 0.5777777777777777, 0.5777777777777777, 0.6222222222222222, 0.6222222222222222, 0.6444444444444445, 0.6444444444444445, 0.6666666666666666, 0.6666666666666666, 0.7333333333333333, 0.7333333333333333, 0.7555555555555555, 0.7555555555555555, 0.8888888888888888, 0.8888888888888888, 1.0], \"y\": [0.03333333333333333, 0.13333333333333333, 0.13333333333333333, 0.16666666666666666, 0.16666666666666666, 0.2, 0.2, 0.26666666666666666, 0.26666666666666666, 0.3333333333333333, 0.3333333333333333, 0.4, 0.4, 0.43333333333333335, 0.43333333333333335, 0.5, 0.5, 0.5666666666666667, 0.5666666666666667, 0.6, 0.6, 0.6333333333333333, 0.6333333333333333, 0.7, 0.7, 0.7333333333333333, 0.7333333333333333, 0.9, 0.9, 0.9333333333333333, 0.9333333333333333, 0.9666666666666667, 0.9666666666666667, 1.0, 1.0], \"mode\": \"lines\", \"name\": \"ROC curve of class 1 (area = 0.60)\"}, {\"type\": \"scatter\", \"x\": [0.0, 0.0, 0.0196078431372549, 0.0196078431372549, 0.0784313725490196, 0.0784313725490196, 0.09803921568627451, 0.09803921568627451, 0.11764705882352941, 0.11764705882352941, 0.13725490196078433, 0.13725490196078433, 0.1568627450980392, 0.1568627450980392, 0.17647058823529413, 0.17647058823529413, 0.3137254901960784, 0.3137254901960784, 0.3333333333333333, 0.3333333333333333, 0.35294117647058826, 0.35294117647058826, 0.4117647058823529, 0.4117647058823529, 0.45098039215686275, 0.45098039215686275, 0.47058823529411764, 0.47058823529411764, 0.5098039215686274, 0.5098039215686274, 0.5686274509803921, 0.5686274509803921, 1.0], \"y\": [0.041666666666666664, 0.125, 0.125, 0.25, 0.25, 0.2916666666666667, 0.2916666666666667, 0.3333333333333333, 0.3333333333333333, 0.4166666666666667, 0.4166666666666667, 0.5, 0.5, 0.5416666666666666, 0.5416666666666666, 0.5833333333333334, 0.5833333333333334, 0.6666666666666666, 0.6666666666666666, 0.75, 0.75, 0.7916666666666666, 0.7916666666666666, 0.8333333333333334, 0.8333333333333334, 0.875, 0.875, 0.9166666666666666, 0.9166666666666666, 0.9583333333333334, 0.9583333333333334, 1.0, 1.0], \"mode\": \"lines\", \"name\": \"ROC curve of class 2 (area = 0.79)\"}, {\"type\": \"scatter\", \"x\": [0, 1], \"y\": [0, 1], \"mode\": \"lines\", \"line\": {\"color\": \"navy\", \"dash\": \"dash\"}, \"showlegend\": false}], {\"title\": \"ROC Curve\", \"xaxis\": {\"title\": \"False Positive Rate\"}, \"yaxis\": {\"title\": \"True Positive Rate\"}}, {\"showLink\": true, \"linkText\": \"Export to plot.ly\"})});</script>"
      ]
     },
     "metadata": {},
     "output_type": "display_data"
    }
   ],
   "source": [
    "roc_plot_handler = MultipleClassROCPlotHandler(y_score,y_test,class_names)\n",
    "roc_plot_handler.plot()"
   ]
  }
 ],
 "metadata": {
  "kernelspec": {
   "display_name": "Python 3",
   "language": "python",
   "name": "python3"
  },
  "language_info": {
   "codemirror_mode": {
    "name": "ipython",
    "version": 3
   },
   "file_extension": ".py",
   "mimetype": "text/x-python",
   "name": "python",
   "nbconvert_exporter": "python",
   "pygments_lexer": "ipython3",
   "version": "3.6.3"
  }
 },
 "nbformat": 4,
 "nbformat_minor": 2
}
